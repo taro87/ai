{
 "cells": [
  {
   "cell_type": "code",
   "execution_count": 1,
   "id": "1731c7eb",
   "metadata": {},
   "outputs": [
    {
     "data": {
      "text/html": [
       "\n",
       "<style>\n",
       "div.container{width:90% !important;}\n",
       "div.cell.code_cell.rendered{width:100%;}\n",
       "div.input_prompt{padding:0px;}\n",
       "div.CodeMirror {font-family:Consolas; font-size:16pt;}\n",
       "div.text_cell_render.rendered_html{font-size:16pt;}\n",
       "div.output {fontsize:12pt; font-weight:bold;}\n",
       "div.input {font-family:Consolas; font-size:16pt;}\n",
       "div.prompt {min-width:70px;}\n",
       "div#toc-wrapper{padding-top:120px;}\n",
       "div.text_cell_render ul li{font-size:16pt;padding:5px;}\n",
       "table.dataframe{font-size:16px;}\n",
       "</style>\n"
      ],
      "text/plain": [
       "<IPython.core.display.HTML object>"
      ]
     },
     "metadata": {},
     "output_type": "display_data"
    }
   ],
   "source": [
    "from IPython.display import display, HTML\n",
    "display(HTML(\"\"\"\n",
    "<style>\n",
    "div.container{width:90% !important;}\n",
    "div.cell.code_cell.rendered{width:100%;}\n",
    "div.input_prompt{padding:0px;}\n",
    "div.CodeMirror {font-family:Consolas; font-size:16pt;}\n",
    "div.text_cell_render.rendered_html{font-size:16pt;}\n",
    "div.output {fontsize:12pt; font-weight:bold;}\n",
    "div.input {font-family:Consolas; font-size:16pt;}\n",
    "div.prompt {min-width:70px;}\n",
    "div#toc-wrapper{padding-top:120px;}\n",
    "div.text_cell_render ul li{font-size:16pt;padding:5px;}\n",
    "table.dataframe{font-size:16px;}\n",
    "</style>\n",
    "\"\"\"))"
   ]
  },
  {
   "cell_type": "markdown",
   "id": "352d3095",
   "metadata": {},
   "source": [
    "# <b><font size=\"7\" color=\"red\">ch05. 함수</font></b>\n",
    "- 반복해서 사용할 코드를 묶어 놓고 그것에 이름을 붙인 것\n",
    "- 오버로딩 불가(같은 이름의 함수는 덮어씀)\n",
    "- 함수 정의\n",
    "```\n",
    "def 함수명([매개변수1, 매개변수2, ...]):\n",
    "    명렁어1\n",
    "    명령어2\n",
    "    ...\n",
    "```"
   ]
  },
  {
   "cell_type": "markdown",
   "id": "0c6efcd8",
   "metadata": {},
   "source": [
    "# 1장 함수의 정의 및 사용\n",
    "## 1.1 함수 정의"
   ]
  },
  {
   "cell_type": "code",
   "execution_count": 4,
   "id": "a27903d5",
   "metadata": {},
   "outputs": [],
   "source": [
    "def my_message(x, msg): # msg를 x번 출력하는 함수 정의\n",
    "    for i in range(x):\n",
    "        print(i, msg)"
   ]
  },
  {
   "cell_type": "code",
   "execution_count": 5,
   "id": "60406c72",
   "metadata": {},
   "outputs": [
    {
     "name": "stdout",
     "output_type": "stream",
     "text": [
      "0 hi\n",
      "1 hi\n",
      "2 hi\n"
     ]
    }
   ],
   "source": [
    "# 함수 사용 == 함수 호출\n",
    "my_message(3, 'hi')"
   ]
  },
  {
   "cell_type": "code",
   "execution_count": 6,
   "id": "2a8d136c",
   "metadata": {},
   "outputs": [
    {
     "name": "stdout",
     "output_type": "stream",
     "text": [
      "0 hi\n",
      "1 hi\n",
      "2 hi\n",
      "0 bye\n"
     ]
    }
   ],
   "source": [
    "# 함수 이름 변경\n",
    "my_msg = my_message\n",
    "my_message(3, 'hi')\n",
    "my_msg(1,'bye')"
   ]
  },
  {
   "cell_type": "code",
   "execution_count": 7,
   "id": "14cb16d0",
   "metadata": {},
   "outputs": [
    {
     "data": {
      "text/plain": [
       "function"
      ]
     },
     "execution_count": 7,
     "metadata": {},
     "output_type": "execute_result"
    }
   ],
   "source": [
    "type(my_msg)"
   ]
  },
  {
   "cell_type": "code",
   "execution_count": 8,
   "id": "71110323",
   "metadata": {},
   "outputs": [
    {
     "name": "stdout",
     "output_type": "stream",
     "text": [
      "Hello\n",
      "hi\n"
     ]
    }
   ],
   "source": [
    "print('Hello') #파이썬 내장 함수(import 하지 않고 사툥할 수 있는 함수)\n",
    "print = 5\n",
    "del print\n",
    "print('hi')"
   ]
  },
  {
   "cell_type": "code",
   "execution_count": null,
   "id": "9c8413ac",
   "metadata": {},
   "outputs": [],
   "source": [
    "del my_message # 변수 및 함수 제거하여도 \n",
    "my_message(2,2) # 사용자 정의 함수, 라이브러리 함수는 사용불가"
   ]
  },
  {
   "cell_type": "code",
   "execution_count": 9,
   "id": "cc3676d9",
   "metadata": {},
   "outputs": [],
   "source": [
    "# 함수 중복 정의 불가(오버로딩 불가)\n",
    "def my_hello():\n",
    "    print('hello Python')\n",
    "    print('bye')\n",
    "def my_hello(cnt): #cnt만 출력\n",
    "    for i in range(cnt):\n",
    "        print('Hello, taro', end='\\t')\n",
    "        print('byebye')"
   ]
  },
  {
   "cell_type": "code",
   "execution_count": 10,
   "id": "0bfc379f",
   "metadata": {},
   "outputs": [
    {
     "ename": "TypeError",
     "evalue": "my_hello() missing 1 required positional argument: 'cnt'",
     "output_type": "error",
     "traceback": [
      "\u001b[1;31m---------------------------------------------------------------------------\u001b[0m",
      "\u001b[1;31mTypeError\u001b[0m                                 Traceback (most recent call last)",
      "Cell \u001b[1;32mIn[10], line 1\u001b[0m\n\u001b[1;32m----> 1\u001b[0m \u001b[43mmy_hello\u001b[49m\u001b[43m(\u001b[49m\u001b[43m)\u001b[49m\n",
      "\u001b[1;31mTypeError\u001b[0m: my_hello() missing 1 required positional argument: 'cnt'"
     ]
    }
   ],
   "source": [
    "my_hello()"
   ]
  },
  {
   "cell_type": "code",
   "execution_count": 11,
   "id": "0d553f60",
   "metadata": {},
   "outputs": [
    {
     "name": "stdout",
     "output_type": "stream",
     "text": [
      "Hello, taro\tbyebye\n",
      "Hello, taro\tbyebye\n"
     ]
    }
   ],
   "source": [
    "my_hello(2)"
   ]
  },
  {
   "cell_type": "code",
   "execution_count": 12,
   "id": "e57b1d5b",
   "metadata": {},
   "outputs": [
    {
     "data": {
      "text/plain": [
       "'__main__'"
      ]
     },
     "execution_count": 12,
     "metadata": {},
     "output_type": "execute_result"
    }
   ],
   "source": [
    "__name__"
   ]
  },
  {
   "cell_type": "code",
   "execution_count": 13,
   "id": "14ff4754",
   "metadata": {},
   "outputs": [
    {
     "name": "stdout",
     "output_type": "stream",
     "text": [
      "Hello, taro\tbyebye\n",
      "Hello, taro\tbyebye\n"
     ]
    }
   ],
   "source": [
    "if __name__ == '__main__':\n",
    "    my_hello(2)"
   ]
  },
  {
   "cell_type": "code",
   "execution_count": 14,
   "id": "86e9a2a8",
   "metadata": {},
   "outputs": [],
   "source": [
    "import ch05 # ch05모듈이 해석되서 메모리 로드"
   ]
  },
  {
   "cell_type": "code",
   "execution_count": 15,
   "id": "24dce82f",
   "metadata": {},
   "outputs": [
    {
     "name": "stdout",
     "output_type": "stream",
     "text": [
      "ch05\n",
      "Hello, Python\tHello, taro\n",
      "Hello, Python\tHello, taro\n",
      "Hello, Python\tHello, taro\n"
     ]
    }
   ],
   "source": [
    "ch05.my_hello(3)"
   ]
  },
  {
   "cell_type": "code",
   "execution_count": 16,
   "id": "68fbc3ae",
   "metadata": {},
   "outputs": [],
   "source": [
    "from ch05 import my_hello # ch05모듈안의 my_hello만 메모리 로드"
   ]
  },
  {
   "cell_type": "code",
   "execution_count": 17,
   "id": "c5230e97",
   "metadata": {},
   "outputs": [
    {
     "name": "stdout",
     "output_type": "stream",
     "text": [
      "ch05\n",
      "Hello, Python\tHello, taro\n"
     ]
    }
   ],
   "source": [
    "my_hello(1)"
   ]
  },
  {
   "cell_type": "markdown",
   "id": "dcd18a4c",
   "metadata": {},
   "source": [
    "## 1.2 docstring"
   ]
  },
  {
   "cell_type": "code",
   "execution_count": 19,
   "id": "830b0c97",
   "metadata": {},
   "outputs": [],
   "source": [
    "def my_function():\n",
    "    \"\"\"\n",
    "    함수의 첫 라인에 독스트링을 포함할 수 있습니다\n",
    "    독스트링은 함수의 설명서를 달아주는 역할\n",
    "    주석보다 많은 기능(함수 호출시 shift+tab으로 독스트링을 볼 수 있음)\n",
    "    \"\"\"\n",
    "    pass"
   ]
  },
  {
   "cell_type": "code",
   "execution_count": 20,
   "id": "20568539",
   "metadata": {},
   "outputs": [
    {
     "name": "stdout",
     "output_type": "stream",
     "text": [
      "\n",
      "    함수의 첫 라인에 독스트링을 포함할 수 있습니다\n",
      "    독스트링은 함수의 설명서를 달아주는 역할\n",
      "    주석보다 많은 기능(함수 호출시 shift+tab으로 독스트링을 볼 수 있음)\n",
      "    \n"
     ]
    }
   ],
   "source": [
    "print(my_function.__doc__)"
   ]
  },
  {
   "cell_type": "code",
   "execution_count": 21,
   "id": "a84fa4dc",
   "metadata": {},
   "outputs": [],
   "source": [
    "def fibonacci(n):\n",
    "    '''\n",
    "    매개변수로 들어온 n값 미만의 피보나치 수열을 출력하는 함수\n",
    "    ex. n=10 : 0, 1, 1, 2, 3, 5, 8\n",
    "    '''\n",
    "    a, b = 0, 1 # 함수 내에 선언한 변수 : 지역변수(반대:전역변수)\n",
    "    while a < n:\n",
    "        print(a, end=' ')\n",
    "        a, b = b, a+b\n",
    "    print() # 개행"
   ]
  },
  {
   "cell_type": "code",
   "execution_count": 22,
   "id": "2b019a28",
   "metadata": {},
   "outputs": [
    {
     "name": "stdout",
     "output_type": "stream",
     "text": [
      "0 1 1 2 3 5 8 13 21 34 55 89 144 233 377 610 987 \n"
     ]
    }
   ],
   "source": [
    "fibonacci(999)"
   ]
  },
  {
   "cell_type": "code",
   "execution_count": null,
   "id": "d43e369f",
   "metadata": {},
   "outputs": [],
   "source": [
    "a, b # 지역변수는 함수내에서만 사용가능"
   ]
  },
  {
   "cell_type": "markdown",
   "id": "d1d15b87",
   "metadata": {},
   "source": [
    "## 1.3 지역변수(local var)와 전역변수(global var)"
   ]
  },
  {
   "cell_type": "code",
   "execution_count": 23,
   "id": "c1f6924c",
   "metadata": {},
   "outputs": [
    {
     "name": "stdout",
     "output_type": "stream",
     "text": [
      "함수안 : 100\n",
      "함수밖 : 100\n"
     ]
    }
   ],
   "source": [
    "global_var = 100\n",
    "def func1():\n",
    "    print('함수안 :', global_var)\n",
    "func1()\n",
    "print('함수밖 :', global_var)"
   ]
  },
  {
   "cell_type": "code",
   "execution_count": 25,
   "id": "189bd053",
   "metadata": {},
   "outputs": [
    {
     "name": "stdout",
     "output_type": "stream",
     "text": [
      "함수안 : 200\n"
     ]
    }
   ],
   "source": [
    "def func2():\n",
    "    local_var = 200 # 지역변수\n",
    "    print('함수안 :', local_var)\n",
    "func2()\n",
    "# print('함수밖 :', local_var)"
   ]
  },
  {
   "cell_type": "code",
   "execution_count": 26,
   "id": "1a2c20c2",
   "metadata": {},
   "outputs": [
    {
     "name": "stdout",
     "output_type": "stream",
     "text": [
      "g_var : 200\n",
      "g_var : 100\n"
     ]
    }
   ],
   "source": [
    "g_var = 100 # 전역변수\n",
    "def func3():\n",
    "    g_var = 200\n",
    "    print('지역변수 g_var :', g_var)\n",
    "func3()\n",
    "print('전역변수 g_var :', g_var)"
   ]
  },
  {
   "cell_type": "code",
   "execution_count": 27,
   "id": "c4e7e998",
   "metadata": {},
   "outputs": [
    {
     "name": "stdout",
     "output_type": "stream",
     "text": [
      "지역변수 g_var : 100\n",
      "전역변수 g_var : 200\n"
     ]
    }
   ],
   "source": [
    "#렉시컬 특성 : 변수가 어디서 선언되었는지에 따라 변수의 범위가 정해짐(지역vs전역)\n",
    "g_var = 100 # 전역변수\n",
    "def func3():\n",
    "    global g_var  # 함수내에서의 g_val는 전역변수를 쓰겠다\n",
    "    print('지역변수 g_var :', g_var)\n",
    "    g_var = 200\n",
    "func3()\n",
    "print('전역변수 g_var :', g_var)"
   ]
  },
  {
   "cell_type": "markdown",
   "id": "d0b32efe",
   "metadata": {},
   "source": [
    "## 1.4 값에 의한 호출\n",
    "- 함수에 인수로 전달되는 변수가 스칼라변수(문자, 숫자, 논리형)일 때"
   ]
  },
  {
   "cell_type": "code",
   "execution_count": 28,
   "id": "e1a336ca",
   "metadata": {},
   "outputs": [
    {
     "data": {
      "text/plain": [
       "2234208905008"
      ]
     },
     "execution_count": 28,
     "metadata": {},
     "output_type": "execute_result"
    }
   ],
   "source": [
    "foo = 'a' # 전역변수\n",
    "id(foo)"
   ]
  },
  {
   "cell_type": "code",
   "execution_count": 29,
   "id": "bdd05f42",
   "metadata": {},
   "outputs": [
    {
     "name": "stdout",
     "output_type": "stream",
     "text": [
      "Before : a 의 주소는  2234208905008\n",
      "After : aaa 의 주소는  2234318538416\n"
     ]
    }
   ],
   "source": [
    "def func1(f): # 매개변수는 지역변수\n",
    "    print('Before :', f, '의 주소는 ', id(f))\n",
    "    f = f*3\n",
    "    print('After :', f, '의 주소는 ', id(f))\n",
    "func1(foo)"
   ]
  },
  {
   "cell_type": "code",
   "execution_count": 30,
   "id": "67b3f252",
   "metadata": {},
   "outputs": [
    {
     "name": "stdout",
     "output_type": "stream",
     "text": [
      "foo =  a 의 주소는 2234208905008\n"
     ]
    }
   ],
   "source": [
    "print('foo = ', foo, '의 주소는', id(foo))"
   ]
  },
  {
   "cell_type": "markdown",
   "id": "3a123ab7",
   "metadata": {},
   "source": [
    "## 1.5 참조에 의한 호출\n",
    "- 함수에 변수로 전달되는 변수가 리스트, 튜플, 셋, 딕셔너리, 기타 객체일 경우"
   ]
  },
  {
   "cell_type": "code",
   "execution_count": 31,
   "id": "fe6b3d5b",
   "metadata": {},
   "outputs": [
    {
     "data": {
      "text/plain": [
       "2234319942016"
      ]
     },
     "execution_count": 31,
     "metadata": {},
     "output_type": "execute_result"
    }
   ],
   "source": [
    "L = [1,2,3,4,5]\n",
    "id(L)"
   ]
  },
  {
   "cell_type": "code",
   "execution_count": 32,
   "id": "30560875",
   "metadata": {},
   "outputs": [
    {
     "name": "stdout",
     "output_type": "stream",
     "text": [
      "Before : [1, 2, 3, 4, 5] 의 주소는  2234319942016\n",
      "After : [1, 2, 3, 4, 5, 6] 의 주소는  2234319942016\n"
     ]
    }
   ],
   "source": [
    "def func2(f): # 매개변수는 지역변수\n",
    "    print('Before :', f, '의 주소는 ', id(f))\n",
    "    f.append(6)\n",
    "    print('After :', f, '의 주소는 ', id(f))\n",
    "func2(L)"
   ]
  },
  {
   "cell_type": "code",
   "execution_count": 33,
   "id": "db70760d",
   "metadata": {},
   "outputs": [
    {
     "name": "stdout",
     "output_type": "stream",
     "text": [
      "L =  [1, 2, 3, 4, 5, 6] 의 주소는 2234319942016\n"
     ]
    }
   ],
   "source": [
    "print('L = ', L, '의 주소는', id(L))"
   ]
  },
  {
   "cell_type": "markdown",
   "id": "9100a2fb",
   "metadata": {},
   "source": [
    "# 2장 함수의 실행결과를 반환하는 return"
   ]
  },
  {
   "cell_type": "code",
   "execution_count": 34,
   "id": "acccb11f",
   "metadata": {},
   "outputs": [],
   "source": [
    "def fibonacci_print(n):\n",
    "    '''\n",
    "    매개변수로 들어온 n값 미만의 피보나치 수열을 출력하는 함수\n",
    "    ex. n=10 : 0, 1, 1, 2, 3, 5, 8\n",
    "    '''\n",
    "    a, b = 0, 1 # 함수 내에 선언한 변수 : 지역변수(반대:전역변수)\n",
    "    while a < n:\n",
    "        print(a, end=' ')\n",
    "        a, b = b, a+b\n",
    "    print() # 개행\n",
    "def fibonacci(n):\n",
    "    \"n미만의 피보나치수열을 리스트로 return\"\n",
    "    result = [] # 피보나치수열을 append할 리스트\n",
    "    a, b = 0, 1\n",
    "    while a<n:\n",
    "        result.append(a) # 리스트에 append\n",
    "        a,b = b, a+b\n",
    "    return result"
   ]
  },
  {
   "cell_type": "code",
   "execution_count": 38,
   "id": "7a11d327",
   "metadata": {},
   "outputs": [
    {
     "name": "stdout",
     "output_type": "stream",
     "text": [
      "[0, 1, 1, 2, 3, 5, 8]\n",
      "<class 'list'>\n"
     ]
    }
   ],
   "source": [
    "x = fibonacci(10)\n",
    "print(x)\n",
    "print(type(x))"
   ]
  },
  {
   "cell_type": "code",
   "execution_count": 39,
   "id": "80dd0c8b",
   "metadata": {},
   "outputs": [
    {
     "name": "stdout",
     "output_type": "stream",
     "text": [
      "0 1 1 2 3 5 8 \n",
      "None\n",
      "<class 'NoneType'>\n"
     ]
    }
   ],
   "source": [
    "x = fibonacci_print(10)\n",
    "print(x)\n",
    "print(type(x))"
   ]
  },
  {
   "cell_type": "markdown",
   "id": "7ff56695",
   "metadata": {},
   "source": [
    "### 여러개 값의 return\n",
    "- 여러개값을 갖는 튜플로 return"
   ]
  },
  {
   "cell_type": "code",
   "execution_count": 40,
   "id": "77f1c213",
   "metadata": {},
   "outputs": [],
   "source": [
    "def swap(a, b):\n",
    "    '매개변수의 순서를 바꿔서 return'\n",
    "    return b, a # return (b, a)"
   ]
  },
  {
   "cell_type": "code",
   "execution_count": 41,
   "id": "bcb874ac",
   "metadata": {},
   "outputs": [
    {
     "name": "stdout",
     "output_type": "stream",
     "text": [
      "함수 실행 전 x,y = 5 10\n"
     ]
    }
   ],
   "source": [
    "x, y = 5, 10\n",
    "print('함수 실행 전 x,y =',x,y)\n",
    "x,y =swap(x,y)"
   ]
  },
  {
   "cell_type": "code",
   "execution_count": 42,
   "id": "3a708789",
   "metadata": {},
   "outputs": [
    {
     "name": "stdout",
     "output_type": "stream",
     "text": [
      "함수 실행 전 x,y = 10 5\n"
     ]
    }
   ],
   "source": [
    "print('함수 실행 전 x,y =',x,y)"
   ]
  },
  {
   "cell_type": "markdown",
   "id": "1ecfa8c7",
   "metadata": {},
   "source": [
    "# 3장 함수의 매개변수 ★\n",
    "## 3.1 기본값을 갖는 매개변수"
   ]
  },
  {
   "cell_type": "code",
   "execution_count": 43,
   "id": "2cbbbf8f",
   "metadata": {},
   "outputs": [],
   "source": [
    "def make_url(ip, port=80): # 순서인수 > 기본값을 갖는 매개변수\n",
    "    return \"http://{}:{}\".format(ip,port)"
   ]
  },
  {
   "cell_type": "code",
   "execution_count": 44,
   "id": "6197577f",
   "metadata": {},
   "outputs": [
    {
     "name": "stdout",
     "output_type": "stream",
     "text": [
      "http://localhost:8090\n",
      "http://www.naver.com:80\n",
      "http://localhost:9090\n"
     ]
    }
   ],
   "source": [
    "print(make_url(\"localhost\", 8090))\n",
    "print(make_url(\"www.naver.com\"))\n",
    "print(make_url(port=9090, ip=\"localhost\"))"
   ]
  },
  {
   "cell_type": "code",
   "execution_count": null,
   "id": "f0b4c538",
   "metadata": {},
   "outputs": [],
   "source": [
    "def make_url(port=80,ip): # 순서인수 > 기본값을 갖는 매개변수\n",
    "    return \"http://{}:{}\".format(ip,port)"
   ]
  },
  {
   "cell_type": "markdown",
   "id": "9b5b16c4",
   "metadata": {},
   "source": [
    "## 3.2 기본변수를 기본값으로 갖는 매개변수\n",
    "- 기본변수가 스칼라변수(문자, 숫자, 논리형)일 때\n",
    "- 기본변수가 리스트, 셋, 딕셔너리, 기타 객체일 때"
   ]
  },
  {
   "cell_type": "code",
   "execution_count": 45,
   "id": "2f6666f9",
   "metadata": {},
   "outputs": [],
   "source": [
    "i = 80\n",
    "# 기본변수가 스칼라변수일 때 : 함수가 정의되는 시점으로 기본값 셋팅\n",
    "def make_url(ip, port=i):\n",
    "    return \"http://{}:{}\".format(ip,port)"
   ]
  },
  {
   "cell_type": "code",
   "execution_count": 46,
   "id": "2fd2a33e",
   "metadata": {},
   "outputs": [
    {
     "data": {
      "text/plain": [
       "'http://localhost:80'"
      ]
     },
     "execution_count": 46,
     "metadata": {},
     "output_type": "execute_result"
    }
   ],
   "source": [
    "i = 8080\n",
    "make_url(\"localhost\")"
   ]
  },
  {
   "cell_type": "code",
   "execution_count": null,
   "id": "d0cd58c4",
   "metadata": {},
   "outputs": [],
   "source": [
    "list = []\n",
    "# 기본변수가 리스트,셋,딕셔너리 객체일 때 : 함수가 실행되는 시점으로 기본값 셋팅\n",
    "def func3(a, L=list_):\n",
    "    L.append(a)\n",
    "    return L\n",
    "print(func3(10))"
   ]
  },
  {
   "cell_type": "code",
   "execution_count": 48,
   "id": "cb03e122",
   "metadata": {},
   "outputs": [
    {
     "name": "stdout",
     "output_type": "stream",
     "text": [
      "[10]\n"
     ]
    }
   ],
   "source": [
    "# 실행할 때마다 L을 공유하는 게 싫으면 \n",
    "def func3(a, L=None):\n",
    "    if L is None:\n",
    "        L=[]\n",
    "    L.append(a)\n",
    "    return L\n",
    "print(func3(10))"
   ]
  },
  {
   "cell_type": "markdown",
   "id": "5b7197d1",
   "metadata": {},
   "source": [
    "## 3.3 순서인수, 키워드인수\n",
    "- 순서인수 : 함수에 정의된 순서대로 전달방식\n",
    "- 키워드인수 : 인수의 이름을 명시하는 방식\n",
    "- 함수 정의시 순서인수와 키워드인수가 같이 올 때는 순서인수 > 키워드인수 순으로"
   ]
  },
  {
   "cell_type": "code",
   "execution_count": 51,
   "id": "f7a4e2c4",
   "metadata": {},
   "outputs": [
    {
     "ename": "SyntaxError",
     "evalue": "non-default argument follows default argument (4226071863.py, line 1)",
     "output_type": "error",
     "traceback": [
      "\u001b[1;36m  Cell \u001b[1;32mIn[51], line 1\u001b[1;36m\u001b[0m\n\u001b[1;33m    def func3(L=None,a): #잘못된 순서\u001b[0m\n\u001b[1;37m                     ^\u001b[0m\n\u001b[1;31mSyntaxError\u001b[0m\u001b[1;31m:\u001b[0m non-default argument follows default argument\n"
     ]
    }
   ],
   "source": [
    "# def func3(L=None,a): #잘못된 순서\n",
    "#     if L is None:\n",
    "#         L=[]\n",
    "#     L.append(a)\n",
    "#     return L\n",
    "# print(func3(10))"
   ]
  },
  {
   "cell_type": "code",
   "execution_count": 49,
   "id": "e0163ae0",
   "metadata": {},
   "outputs": [
    {
     "name": "stdout",
     "output_type": "stream",
     "text": [
      "[10]\n",
      "[10, 20]\n"
     ]
    }
   ],
   "source": [
    "lst = []\n",
    "print(func3(10, lst)) #순서인수 : 함수 정의된 순서대로 전달하는 방식\n",
    "print(func3(L=lst, a=20)) #키워드인수 : 인수의 이름을 명시하여 전달하는 방식"
   ]
  },
  {
   "cell_type": "markdown",
   "id": "c6d90637",
   "metadata": {},
   "source": [
    "## 3.4 튜플매개변수를 이용한 가변인수 설정\n",
    "- 가변인수 : 매개변수의 갯수가 가변"
   ]
  },
  {
   "cell_type": "code",
   "execution_count": null,
   "id": "5179b786",
   "metadata": {},
   "outputs": [],
   "source": [
    "# 파이썬은 함수의 중복정의(오버로딩)을 지원하지 않음\n",
    "def add(a, b):\n",
    "    return a+b\n",
    "def add(a, b, c):\n",
    "    return a+b+c"
   ]
  },
  {
   "cell_type": "code",
   "execution_count": 17,
   "id": "17f050f2",
   "metadata": {},
   "outputs": [],
   "source": [
    "# args앞에 * : args가 튜플로 전달받는다\n",
    "def add(*args):\n",
    "   # print('args =', args)\n",
    "    '전달받은 매개변수들의 합을 return, 매개변수가 없는 경우 0을 return'\n",
    "    sum = 0 # 누적변수\n",
    "    for num in args:\n",
    "        sum += num # sum = sum+num\n",
    "    return sum"
   ]
  },
  {
   "cell_type": "code",
   "execution_count": 18,
   "id": "ddeba498",
   "metadata": {},
   "outputs": [
    {
     "data": {
      "text/plain": [
       "6"
      ]
     },
     "execution_count": 18,
     "metadata": {},
     "output_type": "execute_result"
    }
   ],
   "source": [
    "add(1,2,3)"
   ]
  },
  {
   "cell_type": "code",
   "execution_count": 60,
   "id": "5a5396ac",
   "metadata": {},
   "outputs": [
    {
     "data": {
      "text/plain": [
       "'Python-web-java-DBMS'"
      ]
     },
     "execution_count": 60,
     "metadata": {},
     "output_type": "execute_result"
    }
   ],
   "source": [
    "subject = ('Python', 'web', 'java', 'DBMS')\n",
    "'-'.join(subject)"
   ]
  },
  {
   "cell_type": "code",
   "execution_count": 62,
   "id": "5d1220e2",
   "metadata": {},
   "outputs": [],
   "source": [
    "# 튜플 매개변수와 일반 매개변수가 같이 있을 때\n",
    "def concat(*subject, sep):\n",
    "    return sep.join(subject)"
   ]
  },
  {
   "cell_type": "code",
   "execution_count": null,
   "id": "9ec3d451",
   "metadata": {},
   "outputs": [],
   "source": [
    "concat('Python', 'web', 'java', 'DBMS', '-')"
   ]
  },
  {
   "cell_type": "code",
   "execution_count": 63,
   "id": "5fab8bae",
   "metadata": {},
   "outputs": [
    {
     "data": {
      "text/plain": [
       "'Python-web-java-DBMS'"
      ]
     },
     "execution_count": 63,
     "metadata": {},
     "output_type": "execute_result"
    }
   ],
   "source": [
    "# 해결책1 : 메개변수 이름을 지정해서 호출\n",
    "concat('Python', 'web', 'java', 'DBMS', sep='-')"
   ]
  },
  {
   "cell_type": "code",
   "execution_count": 65,
   "id": "914269cc",
   "metadata": {},
   "outputs": [
    {
     "data": {
      "text/plain": [
       "'Python ~ web ~ java ~ DBMS'"
      ]
     },
     "execution_count": 65,
     "metadata": {},
     "output_type": "execute_result"
    }
   ],
   "source": [
    "# 해결책2 : 기본값을 갖는 키워드인수 사용\n",
    "def concat(*subject, sep=' ~ '): # 튜플매개변수 > 키워드인수\n",
    "    return sep.join(subject)\n",
    "concat('Python', 'web', 'java', 'DBMS')"
   ]
  },
  {
   "cell_type": "code",
   "execution_count": 66,
   "id": "2a4aaf04",
   "metadata": {},
   "outputs": [],
   "source": [
    "# 해결책3 : sep를 순서인수로 앞에\n",
    "def concat(sep, *subject):\n",
    "    return sep.join(subject)"
   ]
  },
  {
   "cell_type": "code",
   "execution_count": 68,
   "id": "82479223",
   "metadata": {},
   "outputs": [
    {
     "data": {
      "text/plain": [
       "'Python~web~java~DBMS'"
      ]
     },
     "execution_count": 68,
     "metadata": {},
     "output_type": "execute_result"
    }
   ],
   "source": [
    "concat('~', 'Python', 'web', 'java', 'DBMS')"
   ]
  },
  {
   "cell_type": "markdown",
   "id": "ea9db468",
   "metadata": {},
   "source": [
    "## 3.5 딕셔너리 매개변수\n",
    "- 딕셔너리 인수 : 여러개의 키워드 인수를 딕셔너리 형태로 받아서 가변인수로 처리"
   ]
  },
  {
   "cell_type": "code",
   "execution_count": 47,
   "id": "fddddc26",
   "metadata": {},
   "outputs": [
    {
     "ename": "NameError",
     "evalue": "name 'args' is not defined",
     "output_type": "error",
     "traceback": [
      "\u001b[1;31m---------------------------------------------------------------------------\u001b[0m",
      "\u001b[1;31mNameError\u001b[0m                                 Traceback (most recent call last)",
      "Cell \u001b[1;32mIn[47], line 6\u001b[0m\n\u001b[0;32m      4\u001b[0m     \u001b[38;5;28mprint\u001b[39m(\u001b[38;5;124m'\u001b[39m\u001b[38;5;124m전화 :\u001b[39m\u001b[38;5;124m'\u001b[39m, args\u001b[38;5;241m.\u001b[39mget(\u001b[38;5;124m'\u001b[39m\u001b[38;5;124mtel\u001b[39m\u001b[38;5;124m'\u001b[39m, \u001b[38;5;124m'\u001b[39m\u001b[38;5;124m없음\u001b[39m\u001b[38;5;124m'\u001b[39m))\n\u001b[0;32m      5\u001b[0m     \u001b[38;5;28mprint\u001b[39m(\u001b[38;5;124m'\u001b[39m\u001b[38;5;124m주소 :\u001b[39m\u001b[38;5;124m'\u001b[39m, args\u001b[38;5;241m.\u001b[39mget(\u001b[38;5;124m'\u001b[39m\u001b[38;5;124maddress\u001b[39m\u001b[38;5;124m'\u001b[39m, \u001b[38;5;124m'\u001b[39m\u001b[38;5;124m서울 관악\u001b[39m\u001b[38;5;124m'\u001b[39m))\n\u001b[1;32m----> 6\u001b[0m \u001b[43margs\u001b[49m\n",
      "\u001b[1;31mNameError\u001b[0m: name 'args' is not defined"
     ]
    }
   ],
   "source": [
    "def func5(**args): # args : 딕셔너리로 전달받음\n",
    "    print('이름 :', args.get('name','ㅋㅋ'))\n",
    "    print('나이 :', args.get('age', 30))\n",
    "    print('전화 :', args.get('tel', '없음'))\n",
    "    print('주소 :', args.get('address', '서울 관악'))"
   ]
  },
  {
   "cell_type": "code",
   "execution_count": 95,
   "id": "34cfc3b1",
   "metadata": {},
   "outputs": [],
   "source": [
    "def func5(**args):\n",
    "    print(args)\n",
    "    print(type(args))\n",
    "    if 'address' not in args: # args에 address 키가 없으면 if문 True\n",
    "        # args['address'] = '서울시 관악구'\n",
    "        args.update(address='서울시 관악구')\n",
    "    for key, value in args.items():\n",
    "        print(f\"{key} : {value} \")"
   ]
  },
  {
   "cell_type": "code",
   "execution_count": 97,
   "id": "4a0a6633",
   "metadata": {},
   "outputs": [
    {
     "name": "stdout",
     "output_type": "stream",
     "text": [
      "{'name': 'ㅋㅋ', 'age': 30, 'tel': '010-999-999'}\n",
      "<class 'dict'>\n",
      "name : ㅋㅋ \n",
      "age : 30 \n",
      "tel : 010-999-999 \n",
      "address : 서울시 관악구 \n"
     ]
    }
   ],
   "source": [
    "func5(name='ㅋㅋ',\n",
    "     age=30,\n",
    "     tel='010-999-999')"
   ]
  },
  {
   "cell_type": "markdown",
   "id": "6afcfc3a",
   "metadata": {},
   "source": [
    "## 3.6 함수 정의시 매개변수의 순서\n",
    "- 순서인수 > 튜플인수(*) > 키워드인수(기본값) > 딕셔너리인수(**)"
   ]
  },
  {
   "cell_type": "code",
   "execution_count": 98,
   "id": "9527e569",
   "metadata": {},
   "outputs": [],
   "source": [
    "# 순서인수 > 튜플인수 > 딕셔너리인수\n",
    "def func6(a, b, *c, **d):\n",
    "    print('순서인수 a = ', a)\n",
    "    print('순서인수 b = ', b)\n",
    "    print('튜플인수 c = ', c)\n",
    "    print('딕셔너리인수 d = ', d)"
   ]
  },
  {
   "cell_type": "code",
   "execution_count": 99,
   "id": "cf97d38e",
   "metadata": {},
   "outputs": [
    {
     "name": "stdout",
     "output_type": "stream",
     "text": [
      "순서인수 a =  10\n",
      "순서인수 b =  20\n",
      "튜플인수 c =  (1, 2, 3, 4, 5, 6, 7)\n",
      "딕셔너리인수 d =  {'name': '홍', 'age': 30, 'address': '신림'}\n"
     ]
    }
   ],
   "source": [
    "func6(10, 20, 1,2,3,4,5,6,7, name='홍', age=30, address='신림')"
   ]
  },
  {
   "cell_type": "code",
   "execution_count": 100,
   "id": "de269471",
   "metadata": {},
   "outputs": [],
   "source": [
    "# 순서인수 > 튜플인수(*) > 키워드인수(기본값) > 딕셔너리인수(**)\n",
    "def func7(a, b, c, *d, e=10, **f):\n",
    "    print('순서인수 a = ', a)\n",
    "    print('순서인수 b = ', b)\n",
    "    print('순서인수 c = ', c)\n",
    "    print('튜플인수 d = ', d)\n",
    "    print('키워드인수 e = ', e)\n",
    "    print('딕셔너리인수 f = ', f)"
   ]
  },
  {
   "cell_type": "code",
   "execution_count": 102,
   "id": "e6a44d21",
   "metadata": {},
   "outputs": [
    {
     "name": "stdout",
     "output_type": "stream",
     "text": [
      "순서인수 a =  10\n",
      "순서인수 b =  20\n",
      "순서인수 c =  30\n",
      "튜플인수 d =  ()\n",
      "키워드인수 e =  10\n",
      "딕셔너리인수 f =  {}\n"
     ]
    }
   ],
   "source": [
    "func7(10,20,30)"
   ]
  },
  {
   "cell_type": "code",
   "execution_count": 101,
   "id": "9754f1ff",
   "metadata": {},
   "outputs": [
    {
     "name": "stdout",
     "output_type": "stream",
     "text": [
      "순서인수 a =  10\n",
      "순서인수 b =  20\n",
      "순서인수 c =  30\n",
      "튜플인수 d =  (1, 2, 3, 4, 5, 6)\n",
      "키워드인수 e =  100\n",
      "딕셔너리인수 f =  {'shape': 'rect', 'width': 20, 'height': 30}\n"
     ]
    }
   ],
   "source": [
    "func7(10,20,30, 1,2,3,4,5,6, e=100, shape='rect', width=20, height=30)"
   ]
  },
  {
   "cell_type": "markdown",
   "id": "5dcac7a7",
   "metadata": {},
   "source": [
    "## 3.7 인수의 언패킹\n",
    "### 튜플인수 언패킹\n",
    "- 언패킹 : 함수 호출시 매개변수 앞에 * 붙임\n",
    "- 패킹 : 함수 정의시 매개변수앞에 * 붙임(튜플매개변수)"
   ]
  },
  {
   "cell_type": "code",
   "execution_count": 103,
   "id": "6c5f9602",
   "metadata": {},
   "outputs": [],
   "source": [
    "def add(*args):\n",
    "    sum = 0\n",
    "    for num in args:\n",
    "        sum += num\n",
    "    return sum"
   ]
  },
  {
   "cell_type": "code",
   "execution_count": 104,
   "id": "8ecf0d52",
   "metadata": {},
   "outputs": [
    {
     "data": {
      "text/plain": [
       "6"
      ]
     },
     "execution_count": 104,
     "metadata": {},
     "output_type": "execute_result"
    }
   ],
   "source": [
    "numbers = (1, 2, 3)\n",
    "add(*numbers)"
   ]
  },
  {
   "cell_type": "markdown",
   "id": "de301f72",
   "metadata": {},
   "source": [
    "### 딕셔너리 인수 언패킹"
   ]
  },
  {
   "cell_type": "code",
   "execution_count": 111,
   "id": "1c13e161",
   "metadata": {},
   "outputs": [],
   "source": [
    "def func8(**data):\n",
    "    print(data)\n",
    "    for item in data.items():\n",
    "        print(item)"
   ]
  },
  {
   "cell_type": "code",
   "execution_count": 112,
   "id": "831e6174",
   "metadata": {},
   "outputs": [
    {
     "name": "stdout",
     "output_type": "stream",
     "text": [
      "{'a': 'aa', 'b': 'bb', 'c': 'cc'}\n",
      "('a', 'aa')\n",
      "('b', 'bb')\n",
      "('c', 'cc')\n"
     ]
    }
   ],
   "source": [
    "func8(a='aa', b='bb', c='cc')"
   ]
  },
  {
   "cell_type": "code",
   "execution_count": 113,
   "id": "e8b19287",
   "metadata": {
    "collapsed": true
   },
   "outputs": [
    {
     "ename": "SyntaxError",
     "evalue": "cannot assign to literal here. Maybe you meant '==' instead of '='? (3580665625.py, line 1)",
     "output_type": "error",
     "traceback": [
      "\u001b[1;36m  Cell \u001b[1;32mIn[113], line 1\u001b[1;36m\u001b[0m\n\u001b[1;33m    info = {'a'='aa', 'b'='bb', 'c'='cc'}\u001b[0m\n\u001b[1;37m            ^\u001b[0m\n\u001b[1;31mSyntaxError\u001b[0m\u001b[1;31m:\u001b[0m cannot assign to literal here. Maybe you meant '==' instead of '='?\n"
     ]
    }
   ],
   "source": [
    "info = {'a'='aa', 'b'='bb', 'c'='cc'}"
   ]
  },
  {
   "cell_type": "markdown",
   "id": "5ac7dde1",
   "metadata": {},
   "source": [
    "# 4장 람다식\n",
    "- return 한 줄짜리 작은 익명함수"
   ]
  },
  {
   "cell_type": "code",
   "execution_count": 2,
   "id": "1d8f9189",
   "metadata": {},
   "outputs": [
    {
     "data": {
      "text/plain": [
       "8"
      ]
     },
     "execution_count": 2,
     "metadata": {},
     "output_type": "execute_result"
    }
   ],
   "source": [
    "def add(a,b):\n",
    "    return a+b\n",
    "add(3,5)"
   ]
  },
  {
   "cell_type": "code",
   "execution_count": 4,
   "id": "dca043af",
   "metadata": {},
   "outputs": [
    {
     "name": "stdout",
     "output_type": "stream",
     "text": [
      "8\n",
      "<class 'function'>\n"
     ]
    }
   ],
   "source": [
    "add2 = lambda a, b : a + b\n",
    "print(add2(3,5))\n",
    "print(type(add2))"
   ]
  },
  {
   "cell_type": "code",
   "execution_count": 9,
   "id": "6db32e43",
   "metadata": {},
   "outputs": [
    {
     "data": {
      "text/plain": [
       "('홀수', '짝수')"
      ]
     },
     "execution_count": 9,
     "metadata": {},
     "output_type": "execute_result"
    }
   ],
   "source": [
    "# ex1. 매개변수로 들어온 값이 짝수인지 홀수인지 return하는 함수를 람다식으로 만들어보세요\n",
    "def even_odd_chk(num):\n",
    "#     if num>0:\n",
    "#         if num%2:\n",
    "#            result = '홀수'\n",
    "#         else:\n",
    "#             result = '짝수'\n",
    "#     else:\n",
    "#         print(\"양수가 아닙니다\")\n",
    "#     return result\n",
    "    return \"홀수\" if num%2 else \"짝수\"\n",
    "even_odd_chk = lambda num : \"홀수\" if num%2 else \"짝수\"\n",
    "even_odd_chk(3), even_odd_chk(6)"
   ]
  },
  {
   "cell_type": "code",
   "execution_count": 15,
   "id": "ea940609",
   "metadata": {},
   "outputs": [
    {
     "data": {
      "text/plain": [
       "1"
      ]
     },
     "execution_count": 15,
     "metadata": {},
     "output_type": "execute_result"
    }
   ],
   "source": [
    "# ex2. 두 매개변수의 차이를 return하는 함수를 람다식으로 만들어 보세요\n",
    "def even2(a,b):\n",
    "    if a>b:\n",
    "        result = a-b\n",
    "    else:\n",
    "        result = b-a\n",
    "    return result\n",
    "even2 = lambda a,b : a-b if a>b else b-a\n",
    "even2(3,2)"
   ]
  },
  {
   "cell_type": "code",
   "execution_count": 18,
   "id": "0986886c",
   "metadata": {},
   "outputs": [
    {
     "data": {
      "text/plain": [
       "(1000, 'negative')"
      ]
     },
     "execution_count": 18,
     "metadata": {},
     "output_type": "execute_result"
    }
   ],
   "source": [
    "# ex3. 매개변수로 잔액을 받아, 잔액이 0이상이면 잔액을 return, 음수면 'negative'를 return\n",
    "ex3 = lambda balance : balance if balance>=0 else 'negative'\n",
    "ex3(1000), ex3(-10)"
   ]
  },
  {
   "cell_type": "code",
   "execution_count": 24,
   "id": "116ee66a",
   "metadata": {},
   "outputs": [
    {
     "data": {
      "text/plain": [
       "'A'"
      ]
     },
     "execution_count": 24,
     "metadata": {},
     "output_type": "execute_result"
    }
   ],
   "source": [
    "# ex4 점수를 입력받아 80점이상은 'A', 60점 이상은 'B', 60점 미만은 '재시험'\n",
    "                            # 100점초과, 0점 미만은 '유효하지 않음'을 return\n",
    "def lvr(gra):\n",
    "    if 80<= gra <=100:\n",
    "        return 'A'\n",
    "    elif 60<= gra <=79:\n",
    "        return 'B'\n",
    "    elif 0<= gra <= 59:\n",
    "        return '재시험'\n",
    "    else:\n",
    "        return '유효하지 않음'\n",
    "lvr = lambda gra : 'A' if 80<=gra<=100 else \\\n",
    "                    'B' if 60<= gra<80 else \\\n",
    "                     '재시험' if 0<=gra<60 else \\\n",
    "                        '유효하지 않음'\n",
    "lvr(100)"
   ]
  },
  {
   "cell_type": "code",
   "execution_count": 28,
   "id": "2cc36c09",
   "metadata": {},
   "outputs": [
    {
     "data": {
      "text/plain": [
       "('재시험', 'A팀')"
      ]
     },
     "execution_count": 28,
     "metadata": {},
     "output_type": "execute_result"
    }
   ],
   "source": [
    "def levelChk(score):\n",
    "    if 80<=score<=100:\n",
    "        return 'A팀'\n",
    "    elif 60<=score<80:\n",
    "        return 'B팀'\n",
    "    elif 0<=score<60:\n",
    "        return '재시험'\n",
    "    else:\n",
    "        return '유효하지 않음'\n",
    "ex4 = lambda score : 'A팀' if 80<=score<=100 else \\\n",
    "                     'B팀' if 60<=score<80 else \\\n",
    "                     '재시험' if 0<=score<60 else \\\n",
    "                     '유효하지 않음'\n",
    "ex4(0), levelChk(100)"
   ]
  },
  {
   "cell_type": "code",
   "execution_count": 31,
   "id": "c26327b9",
   "metadata": {},
   "outputs": [
    {
     "name": "stdout",
     "output_type": "stream",
     "text": [
      "점수를 입력하세요90\n",
      "<function <lambda> at 0x00000296F6F9EEF0>\n"
     ]
    }
   ],
   "source": [
    "score_grade = lambda score : 'A' if 90<=score<=100 else \\\n",
    "'B' if 80<=score<90 else \\\n",
    "'C' if 70<=score<80 else \\\n",
    "'D' if 60<=score<70 else \\\n",
    "'F' if 0<=score<60 else \\\n",
    "'유효하지 않는 점수'"
   ]
  },
  {
   "cell_type": "code",
   "execution_count": 34,
   "id": "769de75f",
   "metadata": {},
   "outputs": [
    {
     "data": {
      "text/plain": [
       "(-1, 2)"
      ]
     },
     "execution_count": 34,
     "metadata": {},
     "output_type": "execute_result"
    }
   ],
   "source": [
    "# ex5 safe_index함수를 람다식으로\n",
    "def safe_index(lst, item, start=0):\n",
    "    \"\"\"첫번째 매개변수 lst : 리스트, 튜블\n",
    "       두번째 매개변수 item : 리스트나 튜플에서 찾을 데이터\n",
    "       세번째 매개변수 start : 몇번째 index부터 찾을지 index 수(기본값 : 0).\n",
    "       item 요소가 없으면 -1 반환\"\"\"\n",
    "    return lst.index(item, start) if item in lst[start:] else -1\n",
    "#     if item in lst[start:]:\n",
    "#         return lst.index(item, start) # start번째부터 item이 있는 index를 반환\n",
    "#     return -1\n",
    "ex5 = lambda lst, item, start=0 : lst.index(item, start) if item in lst[start:] else -1\n",
    "\n",
    "i=3\n",
    "lst = [i,2,3]\n",
    "safe_index(lst,4), ex5(lst,3,1)"
   ]
  },
  {
   "cell_type": "code",
   "execution_count": 38,
   "id": "2390139e",
   "metadata": {},
   "outputs": [
    {
     "data": {
      "text/plain": [
       "[3200000, 205]"
      ]
     },
     "execution_count": 38,
     "metadata": {},
     "output_type": "execute_result"
    }
   ],
   "source": [
    "# 람다식을 list에 들어갈 수 있음\n",
    "add = lambda a, b : a+b\n",
    "sub = lambda a, b : a-b\n",
    "mul = lambda a, b : a*b\n",
    "div = lambda a, b : a/b if b else '두번째 인자가 0이면 못 나눠요'\n",
    "operations = [add, sub, mul, div] # 사칙연산 함수들\n",
    "\n",
    "def act_operations(a, b, operations=operations): # a,b의 사칙연산 결과를 return\n",
    "    result = []\n",
    "    for op in operations:\n",
    "        result.append(op(a, b))\n",
    "    return result\n",
    "\n",
    "act_operations(2,5)\n",
    "act_operations(20,5, [lambda x,y : x**y, lambda x,y : 10*x+y])"
   ]
  },
  {
   "cell_type": "code",
   "execution_count": 39,
   "id": "508d48ae",
   "metadata": {},
   "outputs": [
    {
     "data": {
      "text/plain": [
       "5"
      ]
     },
     "execution_count": 39,
     "metadata": {},
     "output_type": "execute_result"
    }
   ],
   "source": [
    "operations.append(lambda x,y : x**y)\n",
    "len(operations)"
   ]
  },
  {
   "cell_type": "code",
   "execution_count": null,
   "id": "07a616e5",
   "metadata": {},
   "outputs": [],
   "source": [
    "act_operations(8,2) #기본값을 갖는 변수(기본 변수)가 리스트면 기본값은"
   ]
  },
  {
   "cell_type": "markdown",
   "id": "1bf7dfea",
   "metadata": {},
   "source": [
    "## 4.2 함수의 매개변수(인수)에 람다식 사용\n",
    "- 람다식을 사용하는 곳 : 함수의 매개변수 > return 문\n",
    "### (1) map"
   ]
  },
  {
   "cell_type": "code",
   "execution_count": null,
   "id": "c7d5d893",
   "metadata": {},
   "outputs": [],
   "source": [
    "변수명 = 람다식"
   ]
  },
  {
   "cell_type": "code",
   "execution_count": 40,
   "id": "0e00a213",
   "metadata": {},
   "outputs": [],
   "source": [
    "def map_template(func, L=[]):\n",
    "    result = []\n",
    "    for item in L:\n",
    "        result.append(func(item))\n",
    "    return result"
   ]
  },
  {
   "cell_type": "code",
   "execution_count": 42,
   "id": "470dfa14",
   "metadata": {},
   "outputs": [
    {
     "data": {
      "text/plain": [
       "[2, 4, 6]"
      ]
     },
     "execution_count": 42,
     "metadata": {},
     "output_type": "execute_result"
    }
   ],
   "source": [
    "list_data = [1,2,3]\n",
    "map_template(lambda x:x*2, list_data)"
   ]
  },
  {
   "cell_type": "code",
   "execution_count": 43,
   "id": "562dadfd",
   "metadata": {},
   "outputs": [
    {
     "data": {
      "text/plain": [
       "[2, 4, 6]"
      ]
     },
     "execution_count": 43,
     "metadata": {},
     "output_type": "execute_result"
    }
   ],
   "source": [
    "[item*2 for item in list_data]"
   ]
  },
  {
   "cell_type": "code",
   "execution_count": 44,
   "id": "282f55ac",
   "metadata": {},
   "outputs": [
    {
     "data": {
      "text/plain": [
       "[2, 4, 6]"
      ]
     },
     "execution_count": 44,
     "metadata": {},
     "output_type": "execute_result"
    }
   ],
   "source": [
    "list(map(lambda x:x*2, list_data))"
   ]
  },
  {
   "cell_type": "code",
   "execution_count": 45,
   "id": "5f30a9c4",
   "metadata": {},
   "outputs": [
    {
     "name": "stdout",
     "output_type": "stream",
     "text": [
      "2 4 6 "
     ]
    }
   ],
   "source": [
    "for data in map(lambda x:x*2, list_data):\n",
    "    print(data, end=' ')"
   ]
  },
  {
   "cell_type": "code",
   "execution_count": 48,
   "id": "2add009b",
   "metadata": {},
   "outputs": [
    {
     "name": "stdout",
     "output_type": "stream",
     "text": [
      "5000 5000 6000 1000 5000 5000 6000 1000 "
     ]
    }
   ],
   "source": [
    "# ex1. prices = ['5,000', '5000', '6,000', '1000','5,000', '5000', '6,000', '1000’]를 \n",
    "            #[5000,5000,6000,1000]식으로 바꾸시오\n",
    "prices = ['5,000','5000', '6,000', '1000','5,000', '5000', '6,000', '1000']\n",
    "def toint(value):\n",
    "          return int(value.replace(',',''))\n",
    "prices_int = map(lambda value : int(value.replace(',','')), prices)\n",
    "for prices in prices_int:\n",
    "    print(prices, end=' ')"
   ]
  },
  {
   "cell_type": "code",
   "execution_count": null,
   "id": "bca98c14",
   "metadata": {},
   "outputs": [],
   "source": [
    "def split_date(date):\n",
    "    split_date = date.split('-')\n",
    "    return split_date\n",
    "split_date('2000-01-01')"
   ]
  },
  {
   "cell_type": "code",
   "execution_count": 8,
   "id": "26894246",
   "metadata": {},
   "outputs": [
    {
     "data": {
      "text/plain": [
       "{'name': '홍길동', 'year': 2000, 'month': 1, 'day': 1}"
      ]
     },
     "execution_count": 8,
     "metadata": {},
     "output_type": "execute_result"
    }
   ],
   "source": [
    "# ex2. members1 을 members2로\n",
    "# members1 = [{'name':'홍길동', 'birth':'2000-01-01'},\n",
    "# {'name':'신길동', 'birth':'1995-12-18'},]를\n",
    "# members2 = [\n",
    "# {'name':'홍길동', 'year':2000, 'month':1,'day':1},\n",
    "# {'name':'신길동', 'year':1995, 'month':12, 'day':18},] 변환\n",
    "\n",
    "members1 = [{'name':'홍길동', 'birth':'2000-01-01'}, {'name':'신길동', 'birth':'1995-12-18'},]\n",
    "\n",
    "def split_date(date):\n",
    "    result = []\n",
    "    return {'year': int(date['birth'].split('-')[0]),\n",
    "           'month':int(date['birth'].split('-')[1]),\n",
    "           'day':int(date['birth'].split('-')[2])}\n",
    "\n",
    "def member_preprocessing(member):\n",
    "    return{\n",
    "        'name' : member.get('name','이름없음'),\n",
    "        'year' : int(member.get('birth').split('-')[0]),\n",
    "        'month': int(member.get('birth').split('-')[1]),\n",
    "        'day'  : int(member.get('birth').split('-')[2]),\n",
    "    }\n",
    "member_preprocessing({'name':'홍길동', 'birth':'2000-01-01'})"
   ]
  },
  {
   "cell_type": "code",
   "execution_count": 10,
   "id": "1def21c8",
   "metadata": {},
   "outputs": [
    {
     "data": {
      "text/plain": [
       "[{'name': '홍길동', 'year': 2000, 'month': 1, 'day': 1},\n",
       " {'name': '신길동', 'year': 1995, 'month': 12, 'day': 18}]"
      ]
     },
     "execution_count": 10,
     "metadata": {},
     "output_type": "execute_result"
    }
   ],
   "source": [
    "members2 = list(map(lambda member :{\n",
    "                    'name' : member.get('name','이름없음'),\n",
    "                    'year' : int(member.get('birth').split('-')[0]),\n",
    "                    'month': int(member.get('birth').split('-')[1]),\n",
    "                    'day'  : int(member.get('birth').split('-')[2]),\n",
    "                    }, members1))\n",
    "members2"
   ]
  },
  {
   "cell_type": "code",
   "execution_count": 18,
   "id": "8565cd8f",
   "metadata": {},
   "outputs": [
    {
     "data": {
      "text/plain": [
       "{'birth': '2000-01-01'}"
      ]
     },
     "execution_count": 18,
     "metadata": {},
     "output_type": "execute_result"
    }
   ],
   "source": [
    "# 'year':2000, 'month':1,'day':1 -> 'birth':'1995-12-18'\n",
    "def join_date(data):\n",
    "#     return \"{}-{:02}-{:02}\".format(data.get('year'), data.get('month'), data.get('day'))\n",
    "#      return \"{year}-{month:02}-{day:02}\".format(year=data.get('year'), \n",
    "#                                                 month=data.get('month'), \n",
    "#                                                 day=data.get('day'))\n",
    "      return {\"birth\" : \"{year}-{month:02}-{day:02}\".format(**data)}\n",
    "join_date({'year':2000,'month':1,'day':1})"
   ]
  },
  {
   "cell_type": "code",
   "execution_count": 24,
   "id": "d4295a27",
   "metadata": {},
   "outputs": [
    {
     "data": {
      "text/plain": [
       "[{'name': '홍길동', 'birth': '2000-01-01'},\n",
       " {'name': '신길동', 'birth': '1995-12-18'}]"
      ]
     },
     "execution_count": 24,
     "metadata": {},
     "output_type": "execute_result"
    }
   ],
   "source": [
    "# ex3 members2 을 members1로\n",
    "members2 = [\n",
    " {'name':'홍길동', 'year':2000, 'month':1,'day':1},\n",
    " {'name':'신길동', 'year':1995, 'month':12, 'day':18},]\n",
    "def join_date(data):\n",
    "      return \"{year}-{month:02}-{day:02}\".format(**data)\n",
    "    \n",
    "def member_preprocessing(member):\n",
    "    return{\n",
    "        'name' : member.get('name'),\n",
    "        'birth':\"{year}-{month:02}-{day:02}\".format(**member)}\n",
    "\n",
    "list(map(lambda member : {\n",
    "        'name' : member.get('name'),\n",
    "        'birth':\"{year}-{month:02}-{day:02}\".format(**member)\n",
    "}, members2))"
   ]
  },
  {
   "cell_type": "markdown",
   "id": "38e6f396",
   "metadata": {},
   "source": [
    "### (2) filter"
   ]
  },
  {
   "cell_type": "code",
   "execution_count": 26,
   "id": "96563f00",
   "metadata": {},
   "outputs": [],
   "source": [
    "def filter_template(func, L=[]):\n",
    "    result = []\n",
    "    for item in L:\n",
    "        if func(item):\n",
    "            result.append(item)\n",
    "    return result"
   ]
  },
  {
   "cell_type": "code",
   "execution_count": 27,
   "id": "de11ace4",
   "metadata": {},
   "outputs": [
    {
     "data": {
      "text/plain": [
       "[1, 3, 5, 7, 9]"
      ]
     },
     "execution_count": 27,
     "metadata": {},
     "output_type": "execute_result"
    }
   ],
   "source": [
    "list_data = [1,2,3,4,5,6,7,8,9]\n",
    "def odd_chk(value):\n",
    "    return value%2\n",
    "filter_template(lambda value : value%2!=0, list_data)"
   ]
  },
  {
   "cell_type": "code",
   "execution_count": 28,
   "id": "51b24e21",
   "metadata": {},
   "outputs": [
    {
     "data": {
      "text/plain": [
       "[1, 3, 5, 7, 9]"
      ]
     },
     "execution_count": 28,
     "metadata": {},
     "output_type": "execute_result"
    }
   ],
   "source": [
    "# 리스트컴프리헨션\n",
    "[value for value in list_data if value%2!=0]"
   ]
  },
  {
   "cell_type": "code",
   "execution_count": 29,
   "id": "499c4f17",
   "metadata": {},
   "outputs": [
    {
     "data": {
      "text/plain": [
       "[1, 3, 5, 7, 9]"
      ]
     },
     "execution_count": 29,
     "metadata": {},
     "output_type": "execute_result"
    }
   ],
   "source": [
    "list(filter(lambda value : value%2!=0, list_data))"
   ]
  },
  {
   "cell_type": "code",
   "execution_count": 32,
   "id": "41bbc584",
   "metadata": {},
   "outputs": [
    {
     "data": {
      "text/plain": [
       "[1, 2.0, 3, 5, -9.0]"
      ]
     },
     "execution_count": 32,
     "metadata": {},
     "output_type": "execute_result"
    }
   ],
   "source": [
    "# ex 다음 리스트에서 소수점 이하가 0인 수만 추출하시오(filter/리스트컴프리헨션)\n",
    "L = [1, 1.2, 1.5, 2.0, 3, 5, -7.1, -9.0]\n",
    "list(filter(lambda x : x%1==0, L))"
   ]
  },
  {
   "cell_type": "code",
   "execution_count": 33,
   "id": "9d833945",
   "metadata": {},
   "outputs": [
    {
     "data": {
      "text/plain": [
       "[1, 2.0, 3, 5, -9.0]"
      ]
     },
     "execution_count": 33,
     "metadata": {},
     "output_type": "execute_result"
    }
   ],
   "source": [
    "[item for item in L if item%1==0]"
   ]
  },
  {
   "cell_type": "code",
   "execution_count": 34,
   "id": "f7f447dc",
   "metadata": {},
   "outputs": [
    {
     "data": {
      "text/plain": [
       "[(1, 'one'), (2, 'two'), (3, 'three'), (4, 'four'), (5, 'five')]"
      ]
     },
     "execution_count": 34,
     "metadata": {},
     "output_type": "execute_result"
    }
   ],
   "source": [
    "# 무조건 0번째 item을 기준으로 오름차순 정렬\n",
    "pairs = [(2, 'two'), (1, 'one'), (3, 'three'), (5, 'five'), (4, 'four')]\n",
    "pairs.sort()\n",
    "pairs"
   ]
  },
  {
   "cell_type": "code",
   "execution_count": 35,
   "id": "2cfb2044",
   "metadata": {},
   "outputs": [
    {
     "data": {
      "text/plain": [
       "[(2, 'two'), (3, 'three'), (1, 'one'), (4, 'four'), (5, 'five')]"
      ]
     },
     "execution_count": 35,
     "metadata": {},
     "output_type": "execute_result"
    }
   ],
   "source": [
    "# 1번째 item 기준으로 내림차순 정렬\n",
    "pairs.sort(key=lambda data:data[1], reverse=True)\n",
    "pairs"
   ]
  },
  {
   "cell_type": "code",
   "execution_count": 38,
   "id": "80fffdea",
   "metadata": {},
   "outputs": [
    {
     "name": "stdout",
     "output_type": "stream",
     "text": [
      "[[1, 100], [9, 9], [10, 1]]\n"
     ]
    }
   ],
   "source": [
    "#\n",
    "member_2d = [[9,9], [1,100], [10,1]]\n",
    "member_2d.sort(key=lambda items : sum(items), reverse=True)\n",
    "print(member_2d)"
   ]
  },
  {
   "cell_type": "code",
   "execution_count": 44,
   "id": "5bc7ca0b",
   "metadata": {},
   "outputs": [],
   "source": [
    "students = [{'name':'홍', 'score':90},\n",
    "           {'name':'김', 'score':60},\n",
    "           {'name':'동', 'score':80},\n",
    "           {'score':100},]"
   ]
  },
  {
   "cell_type": "code",
   "execution_count": 40,
   "id": "1c0b6334",
   "metadata": {},
   "outputs": [
    {
     "data": {
      "text/plain": [
       "90"
      ]
     },
     "execution_count": 40,
     "metadata": {},
     "output_type": "execute_result"
    }
   ],
   "source": [
    "name_select = lambda data : data.get('score')\n",
    "name_select({'name':'홍', 'score':90})"
   ]
  },
  {
   "cell_type": "code",
   "execution_count": 46,
   "id": "99669034",
   "metadata": {},
   "outputs": [
    {
     "data": {
      "text/plain": [
       "[{'name': '김', 'score': 60},\n",
       " {'name': '동', 'score': 80},\n",
       " {'name': '홍', 'score': 90},\n",
       " {'score': 100}]"
      ]
     },
     "execution_count": 46,
     "metadata": {},
     "output_type": "execute_result"
    }
   ],
   "source": [
    "# students를 name순으로 정렬(ㄱㄴㄷ순)\n",
    "students.sort(key=lambda data : data.get('name', '힣'))\n",
    "students"
   ]
  },
  {
   "cell_type": "code",
   "execution_count": 48,
   "id": "7610096c",
   "metadata": {},
   "outputs": [],
   "source": [
    "books = \\\n",
    "[{'no':1, 'title':'더트릭컬', 'writer':'폴빠','price':'19,800'},\n",
    "{'no':2, 'title':'흔한남매', 'writer':'백난도', 'price':'15,120'},\n",
    "{'no':3, 'title':'단 한 번의 삶', 'writer':'김영하', 'price':'15,120'},\n",
    "{'no':4, 'title':'가격잘못', 'writer':'홍길동', 'price':'ㅁ'},\n",
    "{'no':5, 'title':'가격이숫자', 'writer':'백난도', 'price':30200},\n",
    "{'no':6, 'title':'가격이없음', 'writer':'이길동'},]"
   ]
  },
  {
   "cell_type": "code",
   "execution_count": 50,
   "id": "09fc9914",
   "metadata": {},
   "outputs": [
    {
     "data": {
      "text/plain": [
       "[{'no': 1, 'title': '더트릭컬', 'writer': '폴빠', 'price': '19,800'},\n",
       " {'no': 2, 'title': '흔한남매', 'writer': '백난도', 'price': '15,120'},\n",
       " {'no': 3, 'title': '단 한 번의 삶', 'writer': '김영하', 'price': '15,120'},\n",
       " {'no': 4, 'title': '가격잘못', 'writer': '홍길동', 'price': 'ㅁ'},\n",
       " {'no': 5, 'title': '가격이숫자', 'writer': '백난도', 'price': 30200},\n",
       " {'no': 6, 'title': '가격이없음', 'writer': '이길동'}]"
      ]
     },
     "execution_count": 50,
     "metadata": {},
     "output_type": "execute_result"
    }
   ],
   "source": [
    "# no 기준으로 sort\n",
    "books.sort(key = lambda book : book['no'])\n",
    "books"
   ]
  },
  {
   "cell_type": "code",
   "execution_count": 51,
   "id": "1632a239",
   "metadata": {},
   "outputs": [
    {
     "data": {
      "text/plain": [
       "[{'no': 5, 'title': '가격이숫자', 'writer': '백난도', 'price': 30200},\n",
       " {'no': 6, 'title': '가격이없음', 'writer': '이길동'},\n",
       " {'no': 4, 'title': '가격잘못', 'writer': '홍길동', 'price': 'ㅁ'},\n",
       " {'no': 3, 'title': '단 한 번의 삶', 'writer': '김영하', 'price': '15,120'},\n",
       " {'no': 1, 'title': '더트릭컬', 'writer': '폴빠', 'price': '19,800'},\n",
       " {'no': 2, 'title': '흔한남매', 'writer': '백난도', 'price': '15,120'}]"
      ]
     },
     "execution_count": 51,
     "metadata": {},
     "output_type": "execute_result"
    }
   ],
   "source": [
    "# title 기준으로 sort\n",
    "books.sort(key = lambda book : book['title'])\n",
    "books"
   ]
  },
  {
   "cell_type": "code",
   "execution_count": 53,
   "id": "73da2e2f",
   "metadata": {},
   "outputs": [
    {
     "ename": "TypeError",
     "evalue": "'<' not supported between instances of 'str' and 'int'",
     "output_type": "error",
     "traceback": [
      "\u001b[1;31m---------------------------------------------------------------------------\u001b[0m",
      "\u001b[1;31mTypeError\u001b[0m                                 Traceback (most recent call last)",
      "Cell \u001b[1;32mIn[53], line 2\u001b[0m\n\u001b[0;32m      1\u001b[0m \u001b[38;5;66;03m# price 기준으로 sort\u001b[39;00m\n\u001b[1;32m----> 2\u001b[0m \u001b[43mbooks\u001b[49m\u001b[38;5;241;43m.\u001b[39;49m\u001b[43msort\u001b[49m\u001b[43m(\u001b[49m\u001b[43mkey\u001b[49m\u001b[43m \u001b[49m\u001b[38;5;241;43m=\u001b[39;49m\u001b[43m \u001b[49m\u001b[38;5;28;43;01mlambda\u001b[39;49;00m\u001b[43m \u001b[49m\u001b[43mbook\u001b[49m\u001b[43m \u001b[49m\u001b[43m:\u001b[49m\u001b[43m \u001b[49m\u001b[43mbook\u001b[49m\u001b[38;5;241;43m.\u001b[39;49m\u001b[43mget\u001b[49m\u001b[43m(\u001b[49m\u001b[38;5;124;43m'\u001b[39;49m\u001b[38;5;124;43mprice\u001b[39;49m\u001b[38;5;124;43m'\u001b[39;49m\u001b[43m,\u001b[49m\u001b[43m \u001b[49m\u001b[38;5;241;43m0\u001b[39;49m\u001b[43m)\u001b[49m\u001b[43m)\u001b[49m\n\u001b[0;32m      3\u001b[0m books\n",
      "\u001b[1;31mTypeError\u001b[0m: '<' not supported between instances of 'str' and 'int'"
     ]
    }
   ],
   "source": [
    "# price 기준으로 sort\n",
    "books.sort(key = lambda book : book.get('price', 0))\n",
    "books"
   ]
  },
  {
   "cell_type": "code",
   "execution_count": 58,
   "id": "dd8e4c23",
   "metadata": {},
   "outputs": [
    {
     "name": "stdout",
     "output_type": "stream",
     "text": [
      "12000 30200 0 0\n"
     ]
    }
   ],
   "source": [
    "# 30200=> 30200, '12,000'=>12000, '5000'=>5000, 'ㅁ'=>0, None=>0\n",
    "def parse_int(price):\n",
    "    if isinstance(price, str) and price.replace(',','').isdigit():\n",
    "        return int(price.replace(',',''))\n",
    "    elif isinstance(price, int):\n",
    "        return price\n",
    "    else:\n",
    "        return 0\n",
    "    \n",
    "parse_int = lambda price : \\\n",
    "            int(price.replace(',',''))\\\n",
    "                if isinstance(price, str) and price.replace(',','').isdigit() else \\\n",
    "            price if isinstance(price, int) else \\\n",
    "            0\n",
    "    \n",
    "print(parse_int('12,000'), parse_int(30200), parse_int('ㅁ'), parse_int(None))"
   ]
  },
  {
   "cell_type": "code",
   "execution_count": 59,
   "id": "89208b54",
   "metadata": {},
   "outputs": [
    {
     "data": {
      "text/plain": [
       "12000"
      ]
     },
     "execution_count": 59,
     "metadata": {},
     "output_type": "execute_result"
    }
   ],
   "source": [
    "# {'no': 5, 'title': '가격이숫자', 'writer': '백난도', 'price': '12,000} => 12000\n",
    "parse_int = lambda book : \\\n",
    "            int(book.get('price').replace(',',''))\\\n",
    "                if isinstance(book.get('price'), str) and \\\n",
    "                                book.get('price').replace(',','').isdigit() else \\\n",
    "            price if isinstance(book.get('price'), int) else \\\n",
    "            0\n",
    "parse_int({'no': 5, 'title': '가격이숫자', 'writer': '백난도', 'price': '12,000'})"
   ]
  },
  {
   "cell_type": "code",
   "execution_count": 60,
   "id": "41a01d9b",
   "metadata": {},
   "outputs": [
    {
     "data": {
      "text/plain": [
       "[{'no': 5, 'title': '가격이숫자', 'writer': '백난도', 'price': 30200},\n",
       " {'no': 1, 'title': '더트릭컬', 'writer': '폴빠', 'price': '19,800'},\n",
       " {'no': 3, 'title': '단 한 번의 삶', 'writer': '김영하', 'price': '15,120'},\n",
       " {'no': 2, 'title': '흔한남매', 'writer': '백난도', 'price': '15,120'},\n",
       " {'no': 6, 'title': '가격이없음', 'writer': '이길동'},\n",
       " {'no': 4, 'title': '가격잘못', 'writer': '홍길동', 'price': 'ㅁ'}]"
      ]
     },
     "execution_count": 60,
     "metadata": {},
     "output_type": "execute_result"
    }
   ],
   "source": [
    "copyBooks = books.copy() #복제\n",
    "copyBooks.sort(key=lambda book : \\\n",
    "              int(book.get('price').replace(',',''))\\\n",
    "                if isinstance(book.get('price'), str) and \\\n",
    "                                book.get('price').replace(',','').isdigit() else \\\n",
    "            book.get('price') if isinstance(book.get('price'), int) else \\\n",
    "              0,\n",
    "              reverse=True)\n",
    "#copyBooks"
   ]
  },
  {
   "cell_type": "markdown",
   "id": "68334596",
   "metadata": {},
   "source": [
    "# 5장 파이썬 내장함수\n",
    "- import 하지 않고 바로 사용 가능한 함수\n",
    "- 키워드(if, while, ..)처럼 간주되므로, 식별자(변수명, 함수명, 클래스명)으로 사용하는 것을 피한다"
   ]
  },
  {
   "cell_type": "code",
   "execution_count": null,
   "id": "36896ff8",
   "metadata": {},
   "outputs": [],
   "source": [
    "globals() # 전역변수 리스트"
   ]
  },
  {
   "cell_type": "code",
   "execution_count": null,
   "id": "3ca2eb06",
   "metadata": {},
   "outputs": [],
   "source": [
    "all([True, True, false]) # 모든 요소가 다 True인지 여부"
   ]
  },
  {
   "cell_type": "markdown",
   "id": "0b0365dc",
   "metadata": {},
   "source": [
    "# 6장 연습문제"
   ]
  },
  {
   "cell_type": "markdown",
   "id": "82f0ba97",
   "metadata": {},
   "source": [
    "1. 함수의인자로 리스트를 받은 후 리스트 내에 있는 모든 정수값에 대한 최대값과 최소값을 리턴하는 함수를 작성하세요\n",
    "- def get_max_min(data_list):\n",
    "- get_max_min= lambda ~"
   ]
  },
  {
   "cell_type": "code",
   "execution_count": null,
   "id": "aae9db5f",
   "metadata": {},
   "outputs": [],
   "source": []
  },
  {
   "cell_type": "markdown",
   "id": "aea02526",
   "metadata": {},
   "source": [
    "2. 체질량 지수(Body Mass Index, BMI)는 체중과 키를 이용해 비만도를 나타내는 지수로 아래의 수식에 의해\n",
    "    계산됩니다. 함수의 인자로 체중(kg)과 신장(m)를입력받은 후 BMI값에 따라 ‘마른 체형‘, ‘표준‘, ‘비만‘,\n",
    "    ‘고도비만‘ 중  하나의 상태를 출력하는 함수를 구현해 보세요.\n",
    "- getBMI(kg, m):\n",
    "- BMI지수 = 체중(kg) / 신장(m)의 제곱\n",
    "- BMI<18.5 : 마른체형\n",
    "- 18.5<=BMI<25 : 표준\n",
    "- 25<=BMI<30 : 비만\n",
    "- BMI >=30 : 고도비만"
   ]
  },
  {
   "cell_type": "code",
   "execution_count": null,
   "id": "8b7d7de1",
   "metadata": {},
   "outputs": [],
   "source": []
  },
  {
   "cell_type": "markdown",
   "id": "d1715f49",
   "metadata": {},
   "source": [
    "3. 직각삼각형의 밑변과 높이를 입력받은 후 삼각형의 면적과 둘레를 계산하는 함수를 작성하세요\n",
    "- 리턴값은 면적과 둘레를 return하도록 구현하세요\n",
    "- math.sqrt() : 제곱근을 구하는 함수이용 (ex)math.sqrt(25) : 5.0\n",
    "- def get_triangle(width, height):"
   ]
  },
  {
   "cell_type": "code",
   "execution_count": null,
   "id": "1fa8ec26",
   "metadata": {},
   "outputs": [],
   "source": []
  },
  {
   "cell_type": "markdown",
   "id": "0df85364",
   "metadata": {},
   "source": [
    "4. 함수의 인자로 시작과 끝 숫자가 주어질 때 시작부터 끝까지의 모든 정수값의 합을 리턴하는 함수를 작성하세요(시작값과 끝값 포함).\n",
    "- def mysum(fRom, end):"
   ]
  },
  {
   "cell_type": "code",
   "execution_count": null,
   "id": "efdebd25",
   "metadata": {},
   "outputs": [],
   "source": []
  },
  {
   "cell_type": "markdown",
   "id": "039d3b61",
   "metadata": {},
   "source": [
    "5. 함수의인자로 문자열을 포함하는 리스트가 입력될 때 각 문자열의 첫 세글자로만 구성된 리스트를 리턴하는 함수와 람다식을 작성하세요\n",
    "- 예를 들어 함수의 입력으로 [‘Seoul’, ‘Daegu’, ‘Kwangju’, ‘Jeju’]가 입력될 때 함수의 리턴값은 [‘Seo’, ‘Dae’, ‘Kwa’,’Jej’]\n",
    "- def get_abbrs(lst):"
   ]
  },
  {
   "cell_type": "code",
   "execution_count": null,
   "id": "6440ac87",
   "metadata": {},
   "outputs": [],
   "source": []
  },
  {
   "cell_type": "markdown",
   "id": "21d3d23f",
   "metadata": {},
   "source": [
    "6. 다음 코드를 람다 함수 형태로 수정할 때 알맞은 코드를 작성하시오\n",
    "```\n",
    "def f(x,y):\n",
    "    return x**y\n",
    "```"
   ]
  },
  {
   "cell_type": "code",
   "execution_count": null,
   "id": "db51f7c7",
   "metadata": {},
   "outputs": [],
   "source": []
  },
  {
   "cell_type": "markdown",
   "id": "e30d98a2",
   "metadata": {},
   "source": [
    "7. ex = [1,2,3,4,5]를 [1,4,9,16,25]의 결과를 얻을 수 있도록 람다함수와 map()함수를 사용하여 구현과 리스트 컴프리헨션으로 구현하시오\n",
    "```\n",
    ">>> ex = [1,2,3,4,5]\n",
    ">>> ________________\n",
    "[1,4,9,16,25]\n",
    "```"
   ]
  },
  {
   "cell_type": "code",
   "execution_count": null,
   "id": "6c15f1a1",
   "metadata": {},
   "outputs": [],
   "source": []
  },
  {
   "cell_type": "markdown",
   "id": "6e8c4dd4",
   "metadata": {},
   "source": [
    "8. 다음코드를 각각 실행하면 서로 다른 결과가 나온다. 이런 결과가 나오는 이유를 서술하시오\n",
    "```\n",
    ">>> a = [1,2,3]\n",
    ">>> print(*a)\n",
    "123\n",
    ">>> print(a)\n",
    "[1,2,3]\n",
    "```"
   ]
  },
  {
   "cell_type": "code",
   "execution_count": null,
   "id": "bf9369df",
   "metadata": {},
   "outputs": [],
   "source": []
  },
  {
   "cell_type": "markdown",
   "id": "22f7a100",
   "metadata": {},
   "source": [
    "9. 다음 코드의 실행 결과는?\n",
    "```\n",
    ">>> data_info={'year':2024, 'month':9, 'day':6}\n",
    ">>> result = '{year}-{month}-{day}'.format(**date_info)\n",
    ">>> result\n",
    "```"
   ]
  },
  {
   "cell_type": "code",
   "execution_count": null,
   "id": "b6841fcd",
   "metadata": {},
   "outputs": [],
   "source": []
  },
  {
   "cell_type": "markdown",
   "id": "0dcc1245",
   "metadata": {},
   "source": [
    "10. 입력받은 n개의 벡터(리스트나 튜플, 셋등)들의 크기가 같은지를 return하는 함수"
   ]
  },
  {
   "cell_type": "code",
   "execution_count": null,
   "id": "6b0e0b5e",
   "metadata": {},
   "outputs": [],
   "source": []
  },
  {
   "cell_type": "markdown",
   "id": "1c24b068",
   "metadata": {},
   "source": [
    "11. 다음과 같은 결과를 얻기 위해 하나의 스칼라값을 리스트나 튜플, 셋등 벡터에 곱하는 코드를 작성하시오.(단 입력되는 벡터의 크기는 일정하지 않음)\n",
    "```\n",
    ">>> scalar_vector_product(5, [1,2,3,4])\n",
    "[5,10,15,20]\n",
    "```"
   ]
  },
  {
   "cell_type": "code",
   "execution_count": null,
   "id": "b11b9b2f",
   "metadata": {},
   "outputs": [],
   "source": []
  },
  {
   "cell_type": "markdown",
   "id": "8368aa6e",
   "metadata": {},
   "source": [
    "## 연습문제 서술형(답만 기제)"
   ]
  },
  {
   "cell_type": "code",
   "execution_count": null,
   "id": "d923c044",
   "metadata": {},
   "outputs": [],
   "source": []
  },
  {
   "cell_type": "code",
   "execution_count": null,
   "id": "5d5b240a",
   "metadata": {},
   "outputs": [],
   "source": []
  },
  {
   "cell_type": "code",
   "execution_count": null,
   "id": "4001de5c",
   "metadata": {},
   "outputs": [],
   "source": []
  },
  {
   "cell_type": "code",
   "execution_count": null,
   "id": "a1478286",
   "metadata": {},
   "outputs": [],
   "source": []
  },
  {
   "cell_type": "code",
   "execution_count": null,
   "id": "26f9334b",
   "metadata": {},
   "outputs": [],
   "source": []
  }
 ],
 "metadata": {
  "kernelspec": {
   "display_name": "Python 3 (ipykernel)",
   "language": "python",
   "name": "python3"
  },
  "language_info": {
   "codemirror_mode": {
    "name": "ipython",
    "version": 3
   },
   "file_extension": ".py",
   "mimetype": "text/x-python",
   "name": "python",
   "nbconvert_exporter": "python",
   "pygments_lexer": "ipython3",
   "version": "3.10.9"
  },
  "toc": {
   "base_numbering": 1,
   "nav_menu": {},
   "number_sections": false,
   "sideBar": true,
   "skip_h1_title": false,
   "title_cell": "Table of Contents",
   "title_sidebar": "Contents",
   "toc_cell": false,
   "toc_position": {
    "height": "calc(100% - 180px)",
    "left": "10px",
    "top": "150px",
    "width": "217px"
   },
   "toc_section_display": true,
   "toc_window_display": true
  }
 },
 "nbformat": 4,
 "nbformat_minor": 5
}
