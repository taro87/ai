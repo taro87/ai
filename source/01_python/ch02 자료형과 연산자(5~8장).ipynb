{
 "cells": [
  {
   "cell_type": "code",
   "execution_count": 1,
   "id": "1690decd",
   "metadata": {},
   "outputs": [
    {
     "data": {
      "text/html": [
       "\n",
       "<style>\n",
       "div.container{width:90% !important;}\n",
       "div.cell.code_cell.rendered{width:100%;}\n",
       "div.input_prompt{padding:0px;}\n",
       "div.CodeMirror {font-family:Consolas; font-size:16pt;}\n",
       "div.text_cell_render.rendered_html{font-size:16pt;}\n",
       "div.output {font-size:12pt; font-weight:bold;}\n",
       "div.input {font-family:Consolas; font-size:16pt;}\n",
       "div.prompt {min-width:70px;}\n",
       "div#toc-wrapper{padding-top:120px;}\n",
       "div.text_cell_render ul li{font-size:16pt;padding:5px;}\n",
       "table.dataframe{font-size:16px;}\n",
       "</style>\n"
      ],
      "text/plain": [
       "<IPython.core.display.HTML object>"
      ]
     },
     "metadata": {},
     "output_type": "display_data"
    }
   ],
   "source": [
    "from IPython.display import display, HTML\n",
    "display(HTML(\"\"\"\n",
    "<style>\n",
    "div.container{width:90% !important;}\n",
    "div.cell.code_cell.rendered{width:100%;}\n",
    "div.input_prompt{padding:0px;}\n",
    "div.CodeMirror {font-family:Consolas; font-size:16pt;}\n",
    "div.text_cell_render.rendered_html{font-size:16pt;}\n",
    "div.output {font-size:12pt; font-weight:bold;}\n",
    "div.input {font-family:Consolas; font-size:16pt;}\n",
    "div.prompt {min-width:70px;}\n",
    "div#toc-wrapper{padding-top:120px;}\n",
    "div.text_cell_render ul li{font-size:16pt;padding:5px;}\n",
    "table.dataframe{font-size:16px;}\n",
    "</style>\n",
    "\"\"\"))"
   ]
  },
  {
   "cell_type": "markdown",
   "id": "ce3093db",
   "metadata": {},
   "source": [
    "# <b><font size=\"7\" color=\"red\">ch02. 자료형과 연산자</font></b>\n",
    "# 5장 연산자\n",
    "## 5.1 산술연산자 : +, -, *, /(결과 float), //(몫), %(나머지), **(제곱)"
   ]
  },
  {
   "cell_type": "code",
   "execution_count": 4,
   "id": "3617aded",
   "metadata": {},
   "outputs": [
    {
     "name": "stdout",
     "output_type": "stream",
     "text": [
      "10*5승 = 100000\n",
      "4/2(결과 실수) = 2.0\n",
      "5//2(몫) = 2\n",
      "5%2(나머지) = 1\n"
     ]
    }
   ],
   "source": [
    "print(\"10*5승 =\", 10**5)\n",
    "print(\"4/2(결과 실수) =\", 4/2)\n",
    "print(\"5//2(몫) =\", 5//2)\n",
    "print(\"5%2(나머지) =\", 5%2)"
   ]
  },
  {
   "cell_type": "code",
   "execution_count": 3,
   "id": "3494b812",
   "metadata": {},
   "outputs": [
    {
     "name": "stdout",
     "output_type": "stream",
     "text": [
      "4**2 = 16\n"
     ]
    }
   ],
   "source": [
    "# 정수끼리 연산은 결과가 정수(단 / 제외)\n",
    "# 정수와 실수, 실수끼리 연산 결과는 실수\n",
    "print(\"4**2 =\", 4**2)"
   ]
  },
  {
   "cell_type": "code",
   "execution_count": 6,
   "id": "08d329c6",
   "metadata": {},
   "outputs": [
    {
     "name": "stdout",
     "output_type": "stream",
     "text": [
      "정수를 입력하세요:3\n",
      "입력하신 수는3, 2로 나눈 나머지는 1라서 홀수를 입력하셨습니다\n"
     ]
    }
   ],
   "source": [
    "# 정수를 입력받아 짝수인지 홀수인지 여부를 출력\n",
    "num = int(input(\"정수를 입력하세요:\"))\n",
    "result = num % 2 # -1, 0, 1\n",
    "if result:\n",
    "    temp = \"홀수\"\n",
    "else:\n",
    "    temp = \"짝수\"\n",
    "print(f\"입력하신 수는{num}, 2로 나눈 나머지는 {result}라서 {temp}를 입력하셨습니다\")"
   ]
  },
  {
   "cell_type": "code",
   "execution_count": 9,
   "id": "8b81d6d1",
   "metadata": {},
   "outputs": [
    {
     "name": "stdout",
     "output_type": "stream",
     "text": [
      "정수를 입력하세요:14\n",
      "입력하신 수는14, 5로 나눈 나머지는 4라서 5의 배수가 아닙니다\n"
     ]
    }
   ],
   "source": [
    "# 정수를 입력받아 5의 배수인지 여부를 출력\n",
    "num = int(input(\"정수를 입력하세요:\"))\n",
    "result = num % 5\n",
    "if result:\n",
    "    temp = \"5의 배수가 아닙니다\"\n",
    "else:\n",
    "    temp = \"5의 배수입니다\"\n",
    "print(f\"입력하신 수는{num}, 5로 나눈 나머지는 {result}라서 {temp}\")"
   ]
  },
  {
   "cell_type": "code",
   "execution_count": 45,
   "id": "729ea7d2",
   "metadata": {},
   "outputs": [
    {
     "name": "stdout",
     "output_type": "stream",
     "text": [
      "국어점수를 입력하세요99\n",
      "수학점수를 입력하세요99\n",
      "영어점수를 입력하세요100\n",
      "국어점수: 99\t수학점수: 99\t영어점수:100\n",
      "총점: 298\t평균: 99.3\n",
      "참 잘했어요\n"
     ]
    }
   ],
   "source": [
    "# 국,영,수 점수를 입력받아 다음셀에서 다음과 같이 출력하도록 구현\n",
    "# 국어 :99 영어:100 수학:99 총점:298 평균:99.3\n",
    "kor = int(input(\"국어점수를 입력하세요\"))\n",
    "mat = int(input(\"수학점수를 입력하세요\"))\n",
    "eng = int(input(\"영어점수를 입력하세요\"))\n",
    "sum = kor+mat+eng\n",
    "avg = all / 3\n",
    "re = avg>90\n",
    "print(\"국어점수:{:3d}\\t수학점수:{:3d}\\t영어점수:{:3d}\\n총점: {:3d}\\t평균: {:3.1f}\".format(kor,mat,eng,sum,avg))\n",
    "if re:\n",
    "    temp = \"참 잘했어요\"\n",
    "else:\n",
    "    temp = \"더 공부하세요\"\n",
    "print(temp)"
   ]
  },
  {
   "cell_type": "markdown",
   "id": "3fe6cd7c",
   "metadata": {},
   "source": [
    "## 5.2 할당연산자 : =, +=, -=, /=, *=, //=, %="
   ]
  },
  {
   "cell_type": "code",
   "execution_count": 42,
   "id": "f24988c5",
   "metadata": {},
   "outputs": [
    {
     "name": "stdout",
     "output_type": "stream",
     "text": [
      "a = 15\n"
     ]
    }
   ],
   "source": [
    "a = 10\n",
    "a += 5 # a = a+5와 동일\n",
    "print(f\"a = {a}\")"
   ]
  },
  {
   "cell_type": "code",
   "execution_count": 44,
   "id": "f416e407",
   "metadata": {},
   "outputs": [
    {
     "name": "stdout",
     "output_type": "stream",
     "text": [
      "5빼기 : 10\n",
      "10배 : 100\n",
      "5나눈 몫 : 20\n"
     ]
    }
   ],
   "source": [
    "a -= 5 # a = a-5\n",
    "print(\"5빼기 :\", a) #10\n",
    "a *= 10 # a = a10\n",
    "print(\"10배 :\", a) #100\n",
    "a //= 5 # a = a//5\n",
    "print(\"5나눈 몫 :\", a)"
   ]
  },
  {
   "cell_type": "markdown",
   "id": "a78198b8",
   "metadata": {},
   "source": [
    "## 5.3 논리연산자 : &, and, |, or, not"
   ]
  },
  {
   "cell_type": "code",
   "execution_count": 46,
   "id": "189cd5b8",
   "metadata": {},
   "outputs": [
    {
     "name": "stdout",
     "output_type": "stream",
     "text": [
      "True\n",
      "0\n"
     ]
    }
   ],
   "source": [
    "# & : 논리연산자, 비트연산자\n",
    "print((10>3) & (10>5)) #논리연산 True $ True\n",
    "print(12&1) # 비트 연산 1100(12)\n",
    "                      #0001(1)\n",
    "                    # &:0000"
   ]
  },
  {
   "cell_type": "code",
   "execution_count": 47,
   "id": "68e445a3",
   "metadata": {},
   "outputs": [
    {
     "name": "stdout",
     "output_type": "stream",
     "text": [
      "True\n",
      "1\n"
     ]
    }
   ],
   "source": [
    "# and : 논리연산자 Folse로 판별되는 첫번째 항의 결과 반환\n",
    "        # 모든 항이 Truo면, 마지막항의 결과 반환\n",
    "print((10>3) and (10>5))\n",
    "print(12 and 1)"
   ]
  },
  {
   "cell_type": "code",
   "execution_count": 48,
   "id": "7bb0839b",
   "metadata": {},
   "outputs": [
    {
     "name": "stdout",
     "output_type": "stream",
     "text": [
      "논리연산(연산자 앞뒤에 논리형일 때) : True\n",
      "비트연산(연산자 앞이나 뒤에 숫자일 때) : 3\n"
     ]
    }
   ],
   "source": [
    "# | : 논리연산, 비트연산\n",
    "result = True | False\n",
    "print('논리연산(연산자 앞뒤에 논리형일 때) :', result)\n",
    "result = False | 3 #0000\n",
    "                   #0011\n",
    "print('비트연산(연산자 앞이나 뒤에 숫자일 때) :', result)"
   ]
  },
  {
   "cell_type": "code",
   "execution_count": 51,
   "id": "80f61509",
   "metadata": {},
   "outputs": [
    {
     "name": "stdout",
     "output_type": "stream",
     "text": [
      "3\n"
     ]
    }
   ],
   "source": [
    "# or : 논리연산. True로 판별되는 첫번째 항의 결과 반환\n",
    "                 #모든 항이 False면 마지막항의 결과값 반환\n",
    "print(False or 0 or '' or None or [])"
   ]
  },
  {
   "cell_type": "code",
   "execution_count": 52,
   "id": "2b0b548d",
   "metadata": {},
   "outputs": [
    {
     "data": {
      "text/plain": [
       "False"
      ]
     },
     "execution_count": 52,
     "metadata": {},
     "output_type": "execute_result"
    }
   ],
   "source": [
    "not 10>5"
   ]
  },
  {
   "cell_type": "markdown",
   "id": "a8cbc1de",
   "metadata": {},
   "source": [
    "## 5.4 비교연산자 : >, >=, <, <=, ==, !=(다르다)"
   ]
  },
  {
   "cell_type": "code",
   "execution_count": 54,
   "id": "64c690cc",
   "metadata": {},
   "outputs": [
    {
     "name": "stdout",
     "output_type": "stream",
     "text": [
      "True\n",
      "True\n"
     ]
    }
   ],
   "source": [
    "# 비교연산자는 이항, 삼항, 사항\n",
    "x = 95\n",
    "print((90<=x)&(x<=100))\n",
    "print(90 <= x <= 100)\n",
    "print(90 <= x <= 100 > 10)"
   ]
  },
  {
   "cell_type": "code",
   "execution_count": 58,
   "id": "3253adc1",
   "metadata": {},
   "outputs": [
    {
     "name": "stdout",
     "output_type": "stream",
     "text": [
      "True\n",
      "False\n",
      "False\n"
     ]
    }
   ],
   "source": [
    "#비교연산자의 우선순위가 비트연산자(|,&)의 우선순위보다 낮다\n",
    "print((10>5)&(10>7))\n",
    "print(10>5&10>7) # 괄호가 없으면 우선순위가 높은 5&10부터 실행\n",
    "print(10>0>7)"
   ]
  },
  {
   "cell_type": "code",
   "execution_count": 60,
   "id": "e000d520",
   "metadata": {},
   "outputs": [
    {
     "name": "stdout",
     "output_type": "stream",
     "text": [
      "True\n",
      "True\n"
     ]
    }
   ],
   "source": [
    "address = \"목동\"\n",
    "age = 29\n",
    "#print(address==\"목동\" & age<=30)\n",
    "print((address==\"목동\") & (age<=30))\n",
    "print(address==\"목동\" and age<=30)"
   ]
  },
  {
   "cell_type": "code",
   "execution_count": 61,
   "id": "62962448",
   "metadata": {},
   "outputs": [
    {
     "data": {
      "text/plain": [
       "True"
      ]
     },
     "execution_count": 61,
     "metadata": {},
     "output_type": "execute_result"
    }
   ],
   "source": [
    "# 문자는 ASCII 코드 순으로 비교 : 특수문자 < 숫자문자 < 대문자 < 소문자(abc순)\n",
    "\"scott\" < \"tiger\""
   ]
  },
  {
   "cell_type": "markdown",
   "id": "7de28e5a",
   "metadata": {},
   "source": [
    "## 5.5 비트연산 : &, |, ^(XOR), ~(반대)\n",
    "\n",
    "```\n",
    " x   y   x&y   x|y   x^y   ~x\n",
    " --------------------------------\n",
    " 0   0    0     0     0     1\n",
    " 0   1    0     1     1     1\n",
    " 1   0    0     1     1     0\n",
    " 1   1    1     1     0     0\n",
    " \n",
    " ```"
   ]
  },
  {
   "cell_type": "code",
   "execution_count": 5,
   "id": "c23f43d1",
   "metadata": {},
   "outputs": [
    {
     "name": "stdout",
     "output_type": "stream",
     "text": [
      "  a = 15 : 1111\n",
      "  b =  2 : 0010\n",
      "a&b =  2 : 0010\n",
      "a|b = 15 : 1111\n",
      "a^b = 13 : 1101\n",
      " ~a = -16 : -10000\n"
     ]
    }
   ],
   "source": [
    "a = 15\n",
    "b = 2\n",
    "print('  a = {0:2} : {0:4b}'.format(a))\n",
    "print('  b = {0:2} : {0:04b}'.format(b))\n",
    "print('a&b = {0:2} : {0:04b}'.format(a&b))\n",
    "print('a|b = {0:2} : {0:04b}'.format(a|b))\n",
    "print('a^b = {0:2} : {0:04b}'.format(a^b))\n",
    "print(' ~a = {0:2} : {0:04b}'.format(~a))"
   ]
  },
  {
   "cell_type": "markdown",
   "id": "6aa95604",
   "metadata": {},
   "source": [
    "# 6장 문자열 다루기\n",
    " - 문자열변수(from:to:step) : 일부 문자 추출\n",
    " - len(문자열변수) : 문자수\n",
    " \n",
    " - upper() : 대문자로 변환\n",
    " - lower() : 소문자로 변환\n",
    " - title() : 각 어절의 첫글자만 대문자로 변환\n",
    " - capitalize() : 첫문자만 대문자로\n",
    " - count(\"찾을문자\") : 찾을문자가 몇개 들어있는지 갯수 반환\n",
    " - find(\"찾을문자\") : 찾을문자가 왼쪽부터 몇번째에 있는지 index를 반환(없으면 -1로 반환)\n",
    " - rfind(\"찾을문자\") : 찾을문자가 오른쪽부터 몇번째에 있는지 index를 반환\n",
    " - index(\"찾을문자\") : 찾을문자가 왼쪽부터 몇번째에 있는 index를 반환(없으면 에러)\n",
    " - startwith(\"특정문자\") : 특정문자로 시작하는지 여부 반환\n",
    " \n",
    " - strip() : 좌우 공백제거(trim)\n",
    " - lstrip() : 왼쪽 공백제거\n",
    " - rstrip() : 오른쪽 공백제거\n",
    " - **split() : 문자열을 공백이나 다른 문자 기준으로 나누어 리스트로 반환\n",
    " - isdigit() : 문자열이 숫자문자열인지 여부 반환\n",
    " - islower() : 문자열이 소문자인지 여부 반환\n",
    " - isupper() : 문자열이 대문자인지 여부 반환\n",
    " \n",
    " - replace(oldStr, newStr) : oldStr를 newStr로 변경"
   ]
  },
  {
   "cell_type": "code",
   "execution_count": 7,
   "id": "955cfb5c",
   "metadata": {},
   "outputs": [
    {
     "data": {
      "text/plain": [
       "1000"
      ]
     },
     "execution_count": 7,
     "metadata": {},
     "output_type": "execute_result"
    }
   ],
   "source": [
    "int(\"1,000\".replace(\",\",\"\"))"
   ]
  },
  {
   "cell_type": "code",
   "execution_count": 22,
   "id": "5acd09e2",
   "metadata": {},
   "outputs": [
    {
     "name": "stdout",
     "output_type": "stream",
     "text": [
      "대문자로 : PYTHON IS EASY. PYTHON IS SMART. PYTHON\n",
      "title() : Python Is Easy. Python Is Smart. Python\n",
      "capitalize() : Python is easy. python is smart. python\n",
      "find() : 7\n",
      "rfind() : 23\n",
      "count() : 1\n",
      "count() : 2\n",
      "count() : 0\n",
      "count() : 3\n",
      "count() : 1\n",
      "python으로 시작되는 여부 : True\n",
      "대소문자 구분없이 python으로 시작되는 여부 : True\n",
      "python으로 끝나는지 여부 : True\n",
      "python을 n으로 변경 : R is easy. R is smart. R\n"
     ]
    }
   ],
   "source": [
    "temp = \"python is easy. python is smart. python\"\n",
    "temp, len(temp)\n",
    "print(\"대문자로 :\", temp.upper())\n",
    "print(\"title() :\", temp.title())\n",
    "print(\"capitalize() :\", temp.capitalize())\n",
    "print(\"find() :\", temp.find(\"is\"))\n",
    "print(\"rfind() :\", temp.rfind(\"is\"))\n",
    "print(\"count() :\", temp.count(\"easy\"))\n",
    "print(\"count() :\", temp.lower().count(\"is\"))\n",
    "print(\"count() :\", temp.upper().count(\"Is\"))\n",
    "print(\"count() :\", temp.title().count(\"Python\"))\n",
    "print(\"count() :\", temp.capitalize().count(\"Python\"))\n",
    "print(\"python으로 시작되는 여부 :\", temp.startswith(\"python\"))\n",
    "print(\"대소문자 구분없이 python으로 시작되는 여부 :\", temp.lower().startswith(\"python\"))\n",
    "print(\"python으로 끝나는지 여부 :\", temp.endswith(\"python\"))\n",
    "print(\"python을 n으로 변경 :\", temp.replace(\"python\", \"R\"))"
   ]
  },
  {
   "cell_type": "code",
   "execution_count": 28,
   "id": "4d9e9e2d",
   "metadata": {},
   "outputs": [
    {
     "name": "stdout",
     "output_type": "stream",
     "text": [
      "좌우 공백 제거 : python is easy\n",
      "좌우 공백 제거 : [python is easy]\n",
      "왼쪽 공백 제거 : [python is easy     ]\n",
      "오른쪽 공백 제거 : [    python is easy]\n",
      "isdigit(숫자문자)인지 여부 : False\n",
      "isdigit(숫자문자)인지 여부 : True\n"
     ]
    }
   ],
   "source": [
    "temp = \"    python is easy     \"\n",
    "notdigit = \"1,000\"\n",
    "print(\"좌우 공백 제거 :\", temp.strip())\n",
    "print(\"좌우 공백 제거 : [{}]\".format(temp.strip()))\n",
    "print(\"왼쪽 공백 제거 : [{}]\".format(temp.lstrip()))\n",
    "print(\"오른쪽 공백 제거 : [{}]\".format(temp.rstrip()))\n",
    "print(\"isdigit(숫자문자)인지 여부 :\", notdigit.isdigit())\n",
    "print(\"isdigit(숫자문자)인지 여부 :\", notdigit.replace(\",\",\"\").isdigit())"
   ]
  },
  {
   "cell_type": "code",
   "execution_count": 31,
   "id": "9112b1f3",
   "metadata": {},
   "outputs": [
    {
     "name": "stdout",
     "output_type": "stream",
     "text": [
      "space단위로 names 분리(list로 변환) : ['타로', '구로', '시로', '야로', '자로']\n",
      "space단위로 names 분리(list로 변환) : ['타로', '구로', '시로', '야로', '자로']\n",
      "타로 구로\n"
     ]
    }
   ],
   "source": [
    "names = \"타로     구로 시로 야로 자로\"\n",
    "name_list = names.split()\n",
    "print(\"space단위로 names 분리(list로 변환) :\", names.split())\n",
    "print(\"space단위로 names 분리(list로 변환) :\", name_list)\n",
    "print(name_list[0], name_list[1])"
   ]
  },
  {
   "cell_type": "code",
   "execution_count": 34,
   "id": "7c2de206",
   "metadata": {},
   "outputs": [
    {
     "name": "stdout",
     "output_type": "stream",
     "text": [
      "년도 : 2025\n",
      "월 : 9\n",
      "일 : 17\n"
     ]
    }
   ],
   "source": [
    "date_str = \"2025-09-17\"\n",
    "date_list = date_str.split(\"-\")\n",
    "print(\"년도 :\", date_list[0])\n",
    "print(\"월 :\", int(date_list[1]))\n",
    "print(\"일 :\", int(date_list[2]))"
   ]
  },
  {
   "cell_type": "code",
   "execution_count": 35,
   "id": "8fdc90d9",
   "metadata": {},
   "outputs": [
    {
     "data": {
      "text/plain": [
       "('A', 'B', 'C')"
      ]
     },
     "execution_count": 35,
     "metadata": {},
     "output_type": "execute_result"
    }
   ],
   "source": [
    "str_= \"ABC\"\n",
    "str_= [\"A\", \"B\", \"C\"]\n",
    "str_[0], str_[1], str_[2]"
   ]
  },
  {
   "cell_type": "code",
   "execution_count": 36,
   "id": "2d8f9813",
   "metadata": {},
   "outputs": [
    {
     "name": "stdout",
     "output_type": "stream",
     "text": [
      "분리된 temp : ['Python ', ' 웹(HTML/CSS/JS) ', ' Oracle/MySQL(DBMS) ', ' DL/ML ', ' LLM(RAG)']\n",
      "join temp : Python / 웹(HTML/CSS/JS) / Oracle/MySQL(DBMS) / DL/ML / LLM(RAG)\n"
     ]
    }
   ],
   "source": [
    "# '-'를 \"/\"로 바꾸기\n",
    "temp = \"Python - 웹(HTML/CSS/JS) - Oracle/MySQL(DBMS) - DL/ML - LLM(RAG)\"\n",
    "# split와 join 이용하여 replace역할\n",
    "splited_temp = temp.split(\"-\")\n",
    "print(\"분리된 temp :\", splited_temp)\n",
    "joined_temp = \"/\".join(splited_temp) # \"/\"로 매개변수 list를 연결\n",
    "print(\"join temp :\", joined_temp)"
   ]
  },
  {
   "cell_type": "code",
   "execution_count": null,
   "id": "734a83dc",
   "metadata": {},
   "outputs": [],
   "source": [
    "# 문자열을 다를 수 있는 함수들 목록\n",
    "dir(str)"
   ]
  },
  {
   "cell_type": "markdown",
   "id": "e81e8cec",
   "metadata": {},
   "source": [
    "# 7장 시간,날짜 다루기"
   ]
  },
  {
   "cell_type": "code",
   "execution_count": 2,
   "id": "d0679458",
   "metadata": {},
   "outputs": [
    {
     "data": {
      "text/plain": [
       "'C:\\\\Users\\\\Admin\\\\anaconda3\\\\lib\\\\datetime.py'"
      ]
     },
     "execution_count": 2,
     "metadata": {},
     "output_type": "execute_result"
    }
   ],
   "source": [
    "import datetime\n",
    "datetime.__file__"
   ]
  },
  {
   "cell_type": "code",
   "execution_count": 3,
   "id": "89f0bd39",
   "metadata": {},
   "outputs": [],
   "source": [
    "# datetime 모듈(datetime.py)\n",
    "from datetime import datetime, date, time"
   ]
  },
  {
   "cell_type": "markdown",
   "id": "00e822e8",
   "metadata": {},
   "source": [
    "## 7.1 시간과 날짜"
   ]
  },
  {
   "cell_type": "code",
   "execution_count": 2,
   "id": "2e5ff93f",
   "metadata": {},
   "outputs": [
    {
     "data": {
      "text/plain": [
       "datetime.datetime(2025, 9, 11, 9, 30)"
      ]
     },
     "execution_count": 2,
     "metadata": {},
     "output_type": "execute_result"
    }
   ],
   "source": [
    "# 특정 시점을 갖는 datetime 객처 생성\n",
    "thatday = datetime(2025, 9, 11, 9, 30)\n",
    "thatday"
   ]
  },
  {
   "cell_type": "code",
   "execution_count": 3,
   "id": "c72b877e",
   "metadata": {},
   "outputs": [
    {
     "name": "stdout",
     "output_type": "stream",
     "text": [
      "25년09월11일(Thursday) 09:30:00\n",
      "25년09월11일(Thursday) 09:30:00\n",
      "Thu Sep 11 09:30:00 2025\n"
     ]
    }
   ],
   "source": [
    "# 날짜를 문자열로 전환\n",
    "print(\"{:%y년%m월%d일(%A) %H:%M:%S}\".format(thatday))\n",
    "print(thatday.strftime(\"%y년%m월%d일(%A) %H:%M:%S\"))\n",
    "print(thatday.ctime()) #ctime() : 사람이 읽기 쉬운 형태로 convert"
   ]
  },
  {
   "cell_type": "code",
   "execution_count": 4,
   "id": "b88b711c",
   "metadata": {},
   "outputs": [
    {
     "name": "stdout",
     "output_type": "stream",
     "text": [
      "25년09월22일(Monday) PM 02:37:01\n"
     ]
    }
   ],
   "source": [
    "# 지금을 저장하는 datetime 객체 생성\n",
    "now = datetime.now()\n",
    "print(now.strftime(\"%y년%m월%d일(%A) %p %I:%M:%S\"))"
   ]
  },
  {
   "cell_type": "code",
   "execution_count": 8,
   "id": "d7e9fdd5",
   "metadata": {},
   "outputs": [
    {
     "name": "stdout",
     "output_type": "stream",
     "text": [
      "6 days, 4:54:45.000725\n",
      "6\n"
     ]
    }
   ],
   "source": [
    "diff = now-thatday\n",
    "print(diff)\n",
    "print(diff.days)"
   ]
  },
  {
   "cell_type": "markdown",
   "id": "504fc761",
   "metadata": {},
   "source": [
    "## 7.2 날짜"
   ]
  },
  {
   "cell_type": "code",
   "execution_count": 9,
   "id": "a4b50e71",
   "metadata": {},
   "outputs": [
    {
     "name": "stdout",
     "output_type": "stream",
     "text": [
      "2025년 09월 11일 00:00\n"
     ]
    }
   ],
   "source": [
    "# 특정한 날짜를 갖는 date 객체 생성\n",
    "someday = date(2025, 9, 11)\n",
    "print(someday.strftime(\"%Y년 %m월 %d일 %H:%M\"))"
   ]
  },
  {
   "cell_type": "code",
   "execution_count": 11,
   "id": "12a5edcd",
   "metadata": {},
   "outputs": [
    {
     "name": "stdout",
     "output_type": "stream",
     "text": [
      "2025-09-17\n",
      "True\n"
     ]
    }
   ],
   "source": [
    "#오늘은 갖는 date 객체 생성\n",
    "today1 = date.today()\n",
    "today2 = datetime.now().date()\n",
    "print(today1)\n",
    "print(today1 == today2)"
   ]
  },
  {
   "cell_type": "code",
   "execution_count": 12,
   "id": "2a6d8527",
   "metadata": {},
   "outputs": [
    {
     "name": "stdout",
     "output_type": "stream",
     "text": [
      "2025년 09월 17일 00:00\n"
     ]
    }
   ],
   "source": [
    "print(today1.strftime(\"%Y년 %m월 %d일 %H:%M\"))"
   ]
  },
  {
   "cell_type": "code",
   "execution_count": 13,
   "id": "f18c5120",
   "metadata": {},
   "outputs": [
    {
     "name": "stdout",
     "output_type": "stream",
     "text": [
      "-6\n"
     ]
    }
   ],
   "source": [
    "diff = someday - today1\n",
    "print(diff.days)"
   ]
  },
  {
   "cell_type": "markdown",
   "id": "05d89107",
   "metadata": {},
   "source": [
    "## 7.3 시간"
   ]
  },
  {
   "cell_type": "code",
   "execution_count": 15,
   "id": "48e6c7a5",
   "metadata": {},
   "outputs": [
    {
     "data": {
      "text/plain": [
       "datetime.time(14, 39)"
      ]
     },
     "execution_count": 15,
     "metadata": {},
     "output_type": "execute_result"
    }
   ],
   "source": [
    "# 특정한 시간을 저장하는 time 객체 생성\n",
    "t = time(14,39,0)\n",
    "t"
   ]
  },
  {
   "cell_type": "code",
   "execution_count": 17,
   "id": "91cc1597",
   "metadata": {},
   "outputs": [
    {
     "name": "stdout",
     "output_type": "stream",
     "text": [
      "PM 02:39\n",
      "1900년 01월 01일 PM 02:39\n"
     ]
    }
   ],
   "source": [
    "print(t.strftime(\"%p %I:%M\"))\n",
    "print(t.strftime(\"%Y년 %m월 %d일 %p %I:%M\"))"
   ]
  },
  {
   "cell_type": "code",
   "execution_count": 18,
   "id": "644fe38b",
   "metadata": {},
   "outputs": [
    {
     "name": "stdout",
     "output_type": "stream",
     "text": [
      "14:43:56.422322\n"
     ]
    }
   ],
   "source": [
    "# 현재 시간\n",
    "nowtime = datetime.now().time()\n",
    "print(nowtime)"
   ]
  },
  {
   "cell_type": "markdown",
   "id": "81ded6f3",
   "metadata": {},
   "source": [
    "# 8장 연습문제"
   ]
  },
  {
   "cell_type": "markdown",
   "id": "428ce0c4",
   "metadata": {},
   "source": [
    "1.이름과 나이 변수를 다음 형식으로 출력하도록 format()함수를 이용해 형식화하세요\n",
    " [출력형식 : 홍길동님의 나이는 23살입니다]"
   ]
  },
  {
   "cell_type": "code",
   "execution_count": 32,
   "id": "80f1c4e4",
   "metadata": {},
   "outputs": [
    {
     "name": "stdout",
     "output_type": "stream",
     "text": [
      "홍길동님의 나이는 23살입니다\n"
     ]
    }
   ],
   "source": [
    "name = \"홍길동\"\n",
    "age = 23\n",
    "print(\"{:}님의 나이는 {:}살입니다\".format(name, age))"
   ]
  },
  {
   "cell_type": "markdown",
   "id": "76e44398",
   "metadata": {},
   "source": [
    "2.두 정수를 입력받아 두 수의 덧셈 , 뺄셈 , 곱셈 , 나눗셈 , 몫 , 나머지를 출력하세요"
   ]
  },
  {
   "cell_type": "code",
   "execution_count": 33,
   "id": "0d269586",
   "metadata": {},
   "outputs": [
    {
     "name": "stdout",
     "output_type": "stream",
     "text": [
      "첫번째 정수를 입력하세요1\n",
      "두번째 정수를 입력하세요2\n",
      "두 정수의 덧셈의 결과는  3\n",
      "두 정수의 뺄셈의 결과는  -1\n",
      "두 정수의 곱셈의 결과는  2\n",
      "두 정수의 나눗셈의 결과는  0.5\n",
      "두 정수의 몫의 결과는  0\n",
      "두 정수의 나머지의 결과는  1\n"
     ]
    }
   ],
   "source": [
    "num1 = int(input(\"첫번째 정수를 입력하세요\"))\n",
    "num2 = int(input(\"두번째 정수를 입력하세요\"))\n",
    "print(\"두 정수의 덧셈의 결과는 \",(num1+num2))\n",
    "print(\"두 정수의 뺄셈의 결과는 \",(num1-num2))\n",
    "print(\"두 정수의 곱셈의 결과는 \",(num1*num2))\n",
    "print(\"두 정수의 나눗셈의 결과는 \",(num1/num2))\n",
    "print(\"두 정수의 몫의 결과는 \",(num1//num2))\n",
    "print(\"두 정수의 나머지의 결과는 \",(num1%num2))"
   ]
  },
  {
   "cell_type": "markdown",
   "id": "352079a0",
   "metadata": {},
   "source": [
    "3.문자열의 분리하기와 합치기 기능을 이용하여 ‘Hello World'가 할당된 변수를 이용하여 'World Hello'로 출력하세요"
   ]
  },
  {
   "cell_type": "code",
   "execution_count": 34,
   "id": "a9443e61",
   "metadata": {},
   "outputs": [
    {
     "name": "stdout",
     "output_type": "stream",
     "text": [
      "World Hello\n"
     ]
    }
   ],
   "source": [
    "temp = \"Hello World\"\n",
    "temp_list = temp.split()\n",
    "print(temp_list[1], temp_list[0])"
   ]
  },
  {
   "cell_type": "markdown",
   "id": "6eb0c2db",
   "metadata": {},
   "source": [
    "4.x = ' abcdef ＇를 이용하여 bcdefa 로 출력하세요 문자 슬라이싱이용"
   ]
  },
  {
   "cell_type": "code",
   "execution_count": 122,
   "id": "34937706",
   "metadata": {},
   "outputs": [
    {
     "name": "stdout",
     "output_type": "stream",
     "text": [
      "bcdefa\n"
     ]
    }
   ],
   "source": [
    "x = \"abcdef\"\n",
    "print(x[1:6]+x[0])"
   ]
  },
  {
   "cell_type": "markdown",
   "id": "43fada49",
   "metadata": {},
   "source": [
    "5.x = ‘ abcdef 를 이용하여 fedcba 로 출력하세요"
   ]
  },
  {
   "cell_type": "code",
   "execution_count": 72,
   "id": "a57cb0a0",
   "metadata": {},
   "outputs": [
    {
     "name": "stdout",
     "output_type": "stream",
     "text": [
      "fedcba\n"
     ]
    }
   ],
   "source": [
    "x = \"abcdef\"\n",
    "print(x[::-1])"
   ]
  },
  {
   "cell_type": "markdown",
   "id": "c836c61c",
   "metadata": {},
   "source": [
    " 6.오늘의 온도를 섭씨온도로 입력받아 화씨 온도로 변환하는 프로그램을 작성하세요 .\n",
    " 화씨 온도는 소수점이 있을 경우만 두번째 자리까지 출력되고 , 소수점이하 값이 없는 경우 소수점을 \n",
    " 출력하지 않도록 합니다 다음은 섭씨와 화씨의 변환 공식입니다 .\n",
    " C 는 섭씨 ,F 는 화씨C = (F32) / 1.8F = (C1.8) + 32"
   ]
  },
  {
   "cell_type": "code",
   "execution_count": 120,
   "id": "669bbae1",
   "metadata": {},
   "outputs": [
    {
     "name": "stdout",
     "output_type": "stream",
     "text": [
      "오늘의 온도는(섭씨)?16\n",
      "입력하신 섭씨온도는16이며 화씨온도로 변환한 값은 60.80입니다\n"
     ]
    }
   ],
   "source": [
    "C = int(input(\"오늘의 온도는(섭씨)?\"))\n",
    "F = (C*1.8)+32    \n",
    "print(\"입력하신 섭씨온도는{:}이며 화씨온도로 변환한 값은 {:.2f}입니다\".format(C, F).replace(\".00\",\"\"))\n",
    "if f.is_integer():\n",
    "    print(\"입력하신 섭씨온도는{:}이며 화씨온도로 변환한 값은 {:.0f}입니다\".format(C, F))\n",
    "else:\n",
    "    print(\"입력하신 섭씨온도는{:}이며 화씨온도로 변환한 값은 {:.2f}입니다\".format(C, F))\n",
    "if f == round(f):\n",
    "    print(\"입력하신 섭씨온도는{:}이며 화씨온도로 변환한 값은 {:.0f}입니다\".format(C, F))\n",
    "else:\n",
    "    print(\"입력하신 섭씨온도는{:}이며 화씨온도로 변환한 값은 {:.2f}입니다\".format(C, F))"
   ]
  },
  {
   "cell_type": "markdown",
   "id": "67cdaded",
   "metadata": {},
   "source": [
    "7.다음 중 변수 선언으로 잘못된 것을 모두 고르시오\n",
    "① for\n",
    "② 10th\n",
    "③ Student.name\n",
    "④ _1234"
   ]
  },
  {
   "cell_type": "code",
   "execution_count": null,
   "id": "72d77441",
   "metadata": {},
   "outputs": [],
   "source": [
    "④ _1234"
   ]
  },
  {
   "cell_type": "markdown",
   "id": "939f023e",
   "metadata": {},
   "source": [
    "8. 다음의 코드의 실행결과는?\n",
    "text = \"Seoul A001 - programming with python\"\n",
    "print(text[:4]+text[-1]+text.split()[0])\n",
    "print(text[:4], text[-1], text.split()[0])"
   ]
  },
  {
   "cell_type": "code",
   "execution_count": null,
   "id": "d85d775a",
   "metadata": {},
   "outputs": [],
   "source": [
    "SeounSeoul\n",
    "Seou n Seoul"
   ]
  },
  {
   "cell_type": "markdown",
   "id": "8ed8edd8",
   "metadata": {},
   "source": [
    "9.다음 중 파이썬 3.x 버전에서 연산식과 그 결과의 출력이 잘못된 것은\n",
    "① 수식 8//2 결과 4\n",
    "② 수식 8/2 결과 4\n",
    "③ 수식 8 **2 결과 64"
   ]
  },
  {
   "cell_type": "code",
   "execution_count": null,
   "id": "ae356a3d",
   "metadata": {},
   "outputs": [],
   "source": [
    "② 수식 8/2 결과 4"
   ]
  },
  {
   "cell_type": "markdown",
   "id": "f5b959ca",
   "metadata": {},
   "source": [
    "10.아래 프로그램의 결과는?\n",
    "x = 5\n",
    "y = \"John\"\n",
    "print(x + y)"
   ]
  },
  {
   "cell_type": "code",
   "execution_count": null,
   "id": "4031741f",
   "metadata": {},
   "outputs": [],
   "source": [
    "오류"
   ]
  },
  {
   "cell_type": "markdown",
   "id": "29da54b3",
   "metadata": {},
   "source": [
    "11.split()함수를 이용하여 str_의 값 중 \"나라\"를 출력하는 프로그램을 완성하시오\n",
    "str_ = \"우리 나라 대한 민국\""
   ]
  },
  {
   "cell_type": "code",
   "execution_count": 100,
   "id": "5000bbec",
   "metadata": {},
   "outputs": [
    {
     "name": "stdout",
     "output_type": "stream",
     "text": [
      "나라\n"
     ]
    }
   ],
   "source": [
    "str_ = \"우리 나라 대한 민국\"\n",
    "str_list = str_.split()\n",
    "print(str_list[1])"
   ]
  },
  {
   "cell_type": "code",
   "execution_count": null,
   "id": "e978158f",
   "metadata": {},
   "outputs": [],
   "source": []
  }
 ],
 "metadata": {
  "kernelspec": {
   "display_name": "Python 3 (ipykernel)",
   "language": "python",
   "name": "python3"
  },
  "language_info": {
   "codemirror_mode": {
    "name": "ipython",
    "version": 3
   },
   "file_extension": ".py",
   "mimetype": "text/x-python",
   "name": "python",
   "nbconvert_exporter": "python",
   "pygments_lexer": "ipython3",
   "version": "3.10.9"
  },
  "toc": {
   "base_numbering": 1,
   "nav_menu": {},
   "number_sections": false,
   "sideBar": true,
   "skip_h1_title": false,
   "title_cell": "Table of Contents",
   "title_sidebar": "Contents",
   "toc_cell": false,
   "toc_position": {
    "height": "calc(100% - 180px)",
    "left": "10px",
    "top": "150px",
    "width": "171px"
   },
   "toc_section_display": true,
   "toc_window_display": true
  }
 },
 "nbformat": 4,
 "nbformat_minor": 5
}
