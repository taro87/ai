{
 "cells": [
  {
   "cell_type": "code",
   "execution_count": 2,
   "id": "859d74f9",
   "metadata": {},
   "outputs": [
    {
     "data": {
      "text/html": [
       "\n",
       "<style>\n",
       "div.container{width:90% !important;}\n",
       "div.cell.code_cell.rendered{width:100%;}\n",
       "div.input_prompt{padding:0px;}\n",
       "div.CodeMirror {font-family:Consolas; font-size:16pt;}\n",
       "div.text_cell_render.rendered_html{font-size:16pt;}\n",
       "div.output {font-size:12pt; font-weight:bold;}\n",
       "div.input {font-family:Consolas; font-size:16pt;}\n",
       "div.prompt {min-width:70px;}\n",
       "div#toc-wrapper{padding-top:120px;}\n",
       "div.text_cell_render ul li{font-size:16pt;padding:5px;}\n",
       "table.dataframe{font-size:16px;}\n",
       "</style>\n"
      ],
      "text/plain": [
       "<IPython.core.display.HTML object>"
      ]
     },
     "metadata": {},
     "output_type": "display_data"
    }
   ],
   "source": [
    "from IPython.display import display, HTML\n",
    "display(HTML(\"\"\"\n",
    "<style>\n",
    "div.container{width:90% !important;}\n",
    "div.cell.code_cell.rendered{width:100%;}\n",
    "div.input_prompt{padding:0px;}\n",
    "div.CodeMirror {font-family:Consolas; font-size:16pt;}\n",
    "div.text_cell_render.rendered_html{font-size:16pt;}\n",
    "div.output {font-size:12pt; font-weight:bold;}\n",
    "div.input {font-family:Consolas; font-size:16pt;}\n",
    "div.prompt {min-width:70px;}\n",
    "div#toc-wrapper{padding-top:120px;}\n",
    "div.text_cell_render ul li{font-size:16pt;padding:5px;}\n",
    "table.dataframe{font-size:16px;}\n",
    "</style>\n",
    "\"\"\"))"
   ]
  },
  {
   "cell_type": "markdown",
   "id": "131c6e33",
   "metadata": {},
   "source": [
    "# <b><font size=\"7\" color=\"red\">ch02. 자료형과 연산자</font></b>\n",
    "# 1. 변수\n",
    " - 변수 : 프로그램 작업 처리를 위해, 값을 저장할 수 있는 메모리 공간\n",
    " - 파이썬은 변수 선언을 위한 타입이 없고, 별도의 선언 과정도 없음\n",
    " \n",
    " ## 1.1 변수 할당\n",
    " - 할당연산자(=)을 이용해서 값을 할당하면 자료형(타입)이 셋팅\n",
    " - **파이썬에서의 모든 변수는 객체로 저장**"
   ]
  },
  {
   "cell_type": "code",
   "execution_count": 3,
   "id": "a3b97fb2",
   "metadata": {},
   "outputs": [
    {
     "name": "stdout",
     "output_type": "stream",
     "text": [
      "넓이 : 78.5\n"
     ]
    }
   ],
   "source": [
    "r = 5\n",
    "area = 3.14*r*r\n",
    "print('넓이 :', area)"
   ]
  },
  {
   "cell_type": "code",
   "execution_count": 6,
   "id": "47adffda",
   "metadata": {},
   "outputs": [
    {
     "name": "stdout",
     "output_type": "stream",
     "text": [
      "넓이 : 78.53981633974483\n"
     ]
    }
   ],
   "source": [
    "import numpy as np # numpy패키지를 np라는 이름으로 사용\n",
    "np.pi\n",
    "area = np.pi*r*r\n",
    "print('넓이 :', area)"
   ]
  },
  {
   "cell_type": "code",
   "execution_count": 7,
   "id": "2e1f6fbb",
   "metadata": {},
   "outputs": [
    {
     "name": "stdout",
     "output_type": "stream",
     "text": [
      "area의 주소 : 2960453039952\n",
      "area의 타입 : <class 'float'>\n"
     ]
    }
   ],
   "source": [
    "print('area의 주소 :', id(area))\n",
    "print('area의 타입 :', type(area))"
   ]
  },
  {
   "cell_type": "code",
   "execution_count": 8,
   "id": "8196948e",
   "metadata": {},
   "outputs": [
    {
     "data": {
      "text/plain": [
       "False"
      ]
     },
     "execution_count": 8,
     "metadata": {},
     "output_type": "execute_result"
    }
   ],
   "source": [
    "#값이 정수인지 아닌지 판별 함수\n",
    "area.is_integer()"
   ]
  },
  {
   "cell_type": "code",
   "execution_count": 9,
   "id": "93e58272",
   "metadata": {},
   "outputs": [
    {
     "name": "stdout",
     "output_type": "stream",
     "text": [
      "area의 주소 : 2960365453840\n",
      "area의 타입 : <class 'int'>\n"
     ]
    }
   ],
   "source": [
    "area = 10\n",
    "print('area의 주소 :', id(area))\n",
    "print('area의 타입 :', type(area))"
   ]
  },
  {
   "cell_type": "code",
   "execution_count": 10,
   "id": "cc671850",
   "metadata": {},
   "outputs": [
    {
     "name": "stdout",
     "output_type": "stream",
     "text": [
      "area의 주소 : 2960477578192\n",
      "area의 타입 : <class 'str'>\n"
     ]
    }
   ],
   "source": [
    "area = '파이썬'\n",
    "print('area의 주소 :', id(area))\n",
    "print('area의 타입 :', type(area))"
   ]
  },
  {
   "cell_type": "markdown",
   "id": "8eb4ed19",
   "metadata": {},
   "source": [
    "## 1.2 변수(함수) 이름 규칙\n",
    "- 문자로 시작\n",
    "- 문자(특수문자는 _ 외에는 불가), 숫자, _로 변수명 작성\n",
    "- 함수명은 변수명으로 가능하나 피한다. 꼭 써야 한다면 str_식으로 사용한다\n",
    "- 파이썬 예약어(for, if, 등등)는 변수명 사용 불가\n",
    "- 한글 변수는 가능하나 꼭 필요시에만 사용"
   ]
  },
  {
   "cell_type": "code",
   "execution_count": 12,
   "id": "89733516",
   "metadata": {},
   "outputs": [
    {
     "name": "stdout",
     "output_type": "stream",
     "text": [
      "타로\n"
     ]
    }
   ],
   "source": [
    "이름 = '타로' # 비추\n",
    "print(이름)"
   ]
  },
  {
   "cell_type": "code",
   "execution_count": 17,
   "id": "7399b6df",
   "metadata": {},
   "outputs": [
    {
     "name": "stdout",
     "output_type": "stream",
     "text": [
      "<class 'complex'>\n"
     ]
    }
   ],
   "source": [
    "# 숫자 : 정수, 실수, 복소수\n",
    "i = 1+3j\n",
    "print(type(i))"
   ]
  },
  {
   "cell_type": "code",
   "execution_count": 18,
   "id": "d015efcc",
   "metadata": {},
   "outputs": [
    {
     "data": {
      "text/plain": [
       "True"
      ]
     },
     "execution_count": 18,
     "metadata": {},
     "output_type": "execute_result"
    }
   ],
   "source": [
    "isinstance(i, complex) #변수가 complex 타입인지 판별"
   ]
  },
  {
   "cell_type": "code",
   "execution_count": 19,
   "id": "28665631",
   "metadata": {},
   "outputs": [
    {
     "data": {
      "text/plain": [
       "False"
      ]
     },
     "execution_count": 19,
     "metadata": {},
     "output_type": "execute_result"
    }
   ],
   "source": [
    "isinstance(i, int)"
   ]
  },
  {
   "cell_type": "markdown",
   "id": "8afff1bf",
   "metadata": {},
   "source": [
    "## 1.3 다중 변수 선언"
   ]
  },
  {
   "cell_type": "code",
   "execution_count": 20,
   "id": "70a8cdaf",
   "metadata": {},
   "outputs": [
    {
     "name": "stdout",
     "output_type": "stream",
     "text": [
      "10 20\n"
     ]
    }
   ],
   "source": [
    "a, b = 10, 20\n",
    "print(a,b)"
   ]
  },
  {
   "cell_type": "code",
   "execution_count": 21,
   "id": "dcacb67f",
   "metadata": {},
   "outputs": [
    {
     "name": "stdout",
     "output_type": "stream",
     "text": [
      "20 30\n"
     ]
    }
   ],
   "source": [
    "a, b = b, a+b #다중 변수 할당시 순차적 할당이 아니고, 일괄 동시 할당\n",
    "print(a,b)"
   ]
  },
  {
   "cell_type": "markdown",
   "id": "c8d2de21",
   "metadata": {},
   "source": [
    "## 1.4 도움말"
   ]
  },
  {
   "cell_type": "code",
   "execution_count": 22,
   "id": "fa542141",
   "metadata": {
    "collapsed": true
   },
   "outputs": [
    {
     "name": "stdout",
     "output_type": "stream",
     "text": [
      "\n",
      "Welcome to Python 3.10's help utility!\n",
      "\n",
      "If this is your first time using Python, you should definitely check out\n",
      "the tutorial on the internet at https://docs.python.org/3.10/tutorial/.\n",
      "\n",
      "Enter the name of any module, keyword, or topic to get help on writing\n",
      "Python programs and using Python modules.  To quit this help utility and\n",
      "return to the interpreter, just type \"quit\".\n",
      "\n",
      "To get a list of available modules, keywords, symbols, or topics, type\n",
      "\"modules\", \"keywords\", \"symbols\", or \"topics\".  Each module also comes\n",
      "with a one-line summary of what it does; to list the modules whose name\n",
      "or summary contain a given string such as \"spam\", type \"modules spam\".\n",
      "\n",
      "help> print\n",
      "Help on built-in function print in module builtins:\n",
      "\n",
      "print(...)\n",
      "    print(value, ..., sep=' ', end='\\n', file=sys.stdout, flush=False)\n",
      "    \n",
      "    Prints the values to a stream, or to sys.stdout by default.\n",
      "    Optional keyword arguments:\n",
      "    file:  a file-like object (stream); defaults to the current sys.stdout.\n",
      "    sep:   string inserted between values, default a space.\n",
      "    end:   string appended after the last value, default a newline.\n",
      "    flush: whether to forcibly flush the stream.\n",
      "\n",
      "help> q\n",
      "\n",
      "You are now leaving help and returning to the Python interpreter.\n",
      "If you want to ask for help on a particular object directly from the\n",
      "interpreter, you can type \"help(object)\".  Executing \"help('string')\"\n",
      "has the same effect as typing a particular string at the help> prompt.\n"
     ]
    }
   ],
   "source": [
    "help() #help빠져나오기 : q"
   ]
  },
  {
   "cell_type": "code",
   "execution_count": null,
   "id": "f9d126e3",
   "metadata": {},
   "outputs": [],
   "source": [
    "# 도움말 기능 : shuft + tab키\n",
    "print()"
   ]
  },
  {
   "cell_type": "code",
   "execution_count": 23,
   "id": "64bac511",
   "metadata": {},
   "outputs": [],
   "source": [
    "def add(x,y=0):\n",
    "    '''\n",
    "    매개변수(x,y) 2개를 받아 두자리 숫자로 만드는 함수\n",
    "    x = 10의 자리수가 되고\n",
    "    y = 1의 자리수가 됨(default값 0)\n",
    "    '''\n",
    "    return x*10+y"
   ]
  },
  {
   "cell_type": "code",
   "execution_count": 24,
   "id": "5caa2b60",
   "metadata": {},
   "outputs": [
    {
     "data": {
      "text/plain": [
       "34"
      ]
     },
     "execution_count": 24,
     "metadata": {},
     "output_type": "execute_result"
    }
   ],
   "source": [
    "add(3,4)"
   ]
  },
  {
   "cell_type": "code",
   "execution_count": 25,
   "id": "f6e70e55",
   "metadata": {},
   "outputs": [
    {
     "data": {
      "text/plain": [
       "30"
      ]
     },
     "execution_count": 25,
     "metadata": {},
     "output_type": "execute_result"
    }
   ],
   "source": [
    "add(3)"
   ]
  },
  {
   "cell_type": "markdown",
   "id": "c981d16c",
   "metadata": {},
   "source": [
    "# 2. 화면i/o"
   ]
  },
  {
   "cell_type": "code",
   "execution_count": 29,
   "id": "dae2ddd0",
   "metadata": {},
   "outputs": [
    {
     "name": "stdout",
     "output_type": "stream",
     "text": [
      "첫번째 숫자는?3\n",
      "두번째 숫자는?4\n",
      "두수의 합은 34\n"
     ]
    }
   ],
   "source": [
    "# input() : 사용자로부터 값을 입력받기 위한 함수, 입력값은 문자(str)로 받음\n",
    "first = input('첫번째 숫자는?')\n",
    "second = input('두번째 숫자는?')\n",
    "print('두수의 합은', first+second)"
   ]
  },
  {
   "cell_type": "code",
   "execution_count": 30,
   "id": "8b687a71",
   "metadata": {},
   "outputs": [
    {
     "name": "stdout",
     "output_type": "stream",
     "text": [
      "첫번째 숫자는?5\n",
      "두번째 숫자는?6\n",
      "두수의 합은 11\n"
     ]
    }
   ],
   "source": [
    "first = int(input('첫번째 숫자는?'))\n",
    "second = int(input('두번째 숫자는?'))\n",
    "print('두수의 합은', first+second)"
   ]
  },
  {
   "cell_type": "code",
   "execution_count": 36,
   "id": "30907f28",
   "metadata": {},
   "outputs": [
    {
     "name": "stdout",
     "output_type": "stream",
     "text": [
      "first~5~second~6\thello python\n"
     ]
    }
   ],
   "source": [
    "print('first', first, 'second', second, sep='~', end='\\t')\n",
    "print('hello', 'python', sep=' ')"
   ]
  },
  {
   "cell_type": "markdown",
   "id": "d8705ec1",
   "metadata": {},
   "source": [
    "# 3. 기본 자료형\n",
    " - 자료형 : 변수가 가져야 할 값의 형식\n",
    " - 자료형의 따라 값의 크기와 저장 방식이 달라짐\n",
    "     - `숫자` : int, float(소수점), complex(허수부)\n",
    "     - `문자` : str('',\"\")\n",
    "     - `논리` : bool(ture/false)\n",
    "\n",
    "## 3.1 숫자형"
   ]
  },
  {
   "cell_type": "code",
   "execution_count": 37,
   "id": "c9ff36f7",
   "metadata": {},
   "outputs": [
    {
     "name": "stdout",
     "output_type": "stream",
     "text": [
      "9223372036854775807\n"
     ]
    }
   ],
   "source": [
    "import sys\n",
    "print(sys.maxsize) #정수의 최대값 : 2**63-1"
   ]
  },
  {
   "cell_type": "code",
   "execution_count": 40,
   "id": "2bdd6a3c",
   "metadata": {},
   "outputs": [
    {
     "name": "stdout",
     "output_type": "stream",
     "text": [
      "9223372036855775807\n",
      "<class 'int'>\n"
     ]
    }
   ],
   "source": [
    "i = sys.maxsize + 1000000\n",
    "print(i)\n",
    "print(type(i))"
   ]
  },
  {
   "cell_type": "code",
   "execution_count": 45,
   "id": "a9550023",
   "metadata": {},
   "outputs": [
    {
     "name": "stdout",
     "output_type": "stream",
     "text": [
      "f= 1.2e-10\n",
      "b= 1.2e+20\n"
     ]
    }
   ],
   "source": [
    "# f = 0.000000000012\n",
    "f = 1.2e-10 # 지수형 1.2*10의 -10승\n",
    "b = 1.2e20 #지수형 1.2의 10의 20승\n",
    "print('f=',f)\n",
    "print('b=',b)"
   ]
  },
  {
   "cell_type": "code",
   "execution_count": 42,
   "id": "77c421ce",
   "metadata": {},
   "outputs": [
    {
     "name": "stdout",
     "output_type": "stream",
     "text": [
      "f= 1.5\n"
     ]
    }
   ],
   "source": [
    "# 파이썬에서는 /의 결과는 무조건 실수\n",
    "f = 3/2\n",
    "print('f=',f)"
   ]
  },
  {
   "cell_type": "code",
   "execution_count": 44,
   "id": "fe03e030",
   "metadata": {},
   "outputs": [
    {
     "name": "stdout",
     "output_type": "stream",
     "text": [
      "f= 1\n",
      "f= 1\n"
     ]
    }
   ],
   "source": [
    "# 자바나 C, C++처럼 정수/정수 결과를 정수로\n",
    "f = int(3/2) #int() : int로 형변환(내림)\n",
    "print('f=',f)\n",
    "f = 3//2 #몫연산자\n",
    "print('f=',f)"
   ]
  },
  {
   "cell_type": "markdown",
   "id": "61c8c705",
   "metadata": {},
   "source": [
    "## 3.2 문자형\n",
    " - 겹따음표(\"~\")나 홀따음표('-') 이용"
   ]
  },
  {
   "cell_type": "code",
   "execution_count": 46,
   "id": "b96d16a8",
   "metadata": {},
   "outputs": [
    {
     "name": "stdout",
     "output_type": "stream",
     "text": [
      "타로'짱' 서울시 관악구 \"신림\"동\n"
     ]
    }
   ],
   "source": [
    "name = \"타로'짱'\"\n",
    "address = '서울시 관악구 \"신림\"동'\n",
    "print(name, address)"
   ]
  },
  {
   "cell_type": "code",
   "execution_count": 47,
   "id": "562567be",
   "metadata": {},
   "outputs": [
    {
     "name": "stdout",
     "output_type": "stream",
     "text": [
      "여러줄\t짜리 내용을 저장\n",
      "줄바꿈 문자를 쓰면 됨\n",
      "줄바꿈\n"
     ]
    }
   ],
   "source": [
    "# escape 문자(탈출문자) : \\n \\t\n",
    "text = '여러줄\\t짜리 내용을 저장\\n줄바꿈 문자를 쓰면 됨\\n줄바꿈'\n",
    "print(text)"
   ]
  },
  {
   "cell_type": "code",
   "execution_count": 48,
   "id": "49488a5b",
   "metadata": {},
   "outputs": [
    {
     "name": "stdout",
     "output_type": "stream",
     "text": [
      "여러줄\t짜리 내용을 저장\n",
      "줄바꿈 문자를 쓰면 됨\n",
      "줄바꿈\n"
     ]
    }
   ],
   "source": [
    "text = '''여러줄\\t짜리 내용을 저장\n",
    "줄바꿈 문자를 쓰면 됨\n",
    "줄바꿈'''\n",
    "print(text)"
   ]
  },
  {
   "cell_type": "markdown",
   "id": "fee430d0",
   "metadata": {},
   "source": [
    "### ※ 문자열 연산(+,*)"
   ]
  },
  {
   "cell_type": "code",
   "execution_count": 49,
   "id": "08023d6a",
   "metadata": {},
   "outputs": [
    {
     "name": "stdout",
     "output_type": "stream",
     "text": [
      "타로동해번쩍\n",
      "타로 동해번쩍\n"
     ]
    }
   ],
   "source": [
    "\"\"\"\n",
    "    여러 줄 주석 용도\n",
    "    2025.09.12 문자열 연산 by 타로\n",
    "\"\"\"\n",
    "name1 = \"타로\"\n",
    "name2 = \"동해번쩍\"\n",
    "print(name1+name2)\n",
    "print(name1, name2)"
   ]
  },
  {
   "cell_type": "code",
   "execution_count": 50,
   "id": "2100ab72",
   "metadata": {},
   "outputs": [
    {
     "name": "stdout",
     "output_type": "stream",
     "text": [
      "타로타로타로\n"
     ]
    }
   ],
   "source": [
    "print(name1*3)"
   ]
  },
  {
   "cell_type": "markdown",
   "id": "98af4729",
   "metadata": {},
   "source": [
    "### ※ raw 데이터\n",
    " - 용도 : 정규표현식 이용, 디렉토리 경로를 표현시 이용"
   ]
  },
  {
   "cell_type": "code",
   "execution_count": 52,
   "id": "fdbb43bc",
   "metadata": {},
   "outputs": [
    {
     "name": "stdout",
     "output_type": "stream",
     "text": [
      "Hello\\nWorld\n"
     ]
    }
   ],
   "source": [
    "# raw데이터 : 데이터 처리시 이스케이프 문자(\\n, \\t, \\', \\\")를 그대로 저장\n",
    "print(r'Hello\\nWorld')"
   ]
  },
  {
   "cell_type": "markdown",
   "id": "b846355f",
   "metadata": {},
   "source": [
    "#### 정규표현식(regex)\n",
    "    1. 참조 : https://ko.wikipedia.org/wiki/정규표현식\n",
    "    2. 간략문법\n",
    "        \\d(숫자와 매치, [0-9]와 동일)\n",
    "        \\D(숫자가 아닌것)\n",
    "        \\w(영문자나 숫자 [a-zA-Z0-9]와 동일)\n",
    "        \\W(영문자나 숫자가 아닌 문자)\n",
    "        .(문자)\n",
    "        \\.(.)\n",
    "        \\-(-)\n",
    "        {2,} (2번 이상 반복)\n",
    "        {2, 4} (2~4회 반복)\n",
    "        ? (0번의나 1번 의미)\n",
    "        + (1번 이상 반복)\n",
    "        * (0번 이상 반복)\n",
    "    3. 정규표현식 연습장 : https://regexr.com/\n",
    "        ex1. 전화번호 : 02 888 7777 / 028887777 / 010-9999-9999 / 010.9999.9999\n",
    "                      02)999-9999\n",
    "                      => \\d{2,3}[ \\-\\.)]?\\d{3,4}[ \\-\\.]?\\d{4}\n",
    "        ex2. 이메일 : abc12@naver.com / abc12@sns.co.kr\n",
    "                      => \\w+@\\w+(\\.\\w+){1,2}\n",
    "        ex3. 주민번호 : 981212-1052525\n",
    "                      => \\d{2}(0[1-9]|1[0-2])(0[1-9]|[12]\\d|30|31)|-[1-4]\\d{6}\n",
    "    4. 소스 구현                  "
   ]
  },
  {
   "cell_type": "code",
   "execution_count": 2,
   "id": "a1e451c4",
   "metadata": {},
   "outputs": [
    {
     "name": "stdout",
     "output_type": "stream",
     "text": [
      "이름:타로, 주소:서울, 전화:02-777-7777, 핸드폰:010-7777-7777, 특징:동해번쩍 서해번쩍혈액현:Bㅋㅋㅋㅋㅋzz, MBTI:ENFJ\n"
     ]
    }
   ],
   "source": [
    "import re\n",
    "data = \"이름:타로, 주소:서울, 전화:02-777-7777, \\\n",
    "핸드폰:010-7777-7777, 특징:동해번쩍 서해번쩍\\\n",
    "혈액현:Bㅋㅋㅋㅋㅋzz, MBTI:ENFJ\"\n",
    "print(data)"
   ]
  },
  {
   "cell_type": "code",
   "execution_count": 54,
   "id": "a77c438e",
   "metadata": {},
   "outputs": [
    {
     "data": {
      "text/plain": [
       "['02-777-7777', '010-7777-7777']"
      ]
     },
     "execution_count": 54,
     "metadata": {},
     "output_type": "execute_result"
    }
   ],
   "source": [
    "#정규표현식 처리에서는 raw데이터 처리를 하지 않아도 실행은 되나\n",
    "#실수를 줄이고, 가독성을 높이는 용도로 raw데이터 처리를 사용\n",
    "tel_pattern = r\"0\\d{1,2}[ \\-\\.)]?\\d{3,4}[ \\-\\.]?\\d{4}\"\n",
    "tels = re.findall(tel_pattern, data) #해당 패턴을 다 찾아줌. 없으면 빈 list\n",
    "tels"
   ]
  },
  {
   "cell_type": "code",
   "execution_count": 55,
   "id": "166a4ef2",
   "metadata": {},
   "outputs": [
    {
     "data": {
      "text/plain": [
       "[]"
      ]
     },
     "execution_count": 55,
     "metadata": {},
     "output_type": "execute_result"
    }
   ],
   "source": [
    "email_pattern = r\"\\w+@\\w+(\\.\\w+){1,2}\"\n",
    "emails = re.findall(email_pattern, data)\n",
    "emails"
   ]
  },
  {
   "cell_type": "code",
   "execution_count": 56,
   "id": "2e6c1f05",
   "metadata": {},
   "outputs": [
    {
     "data": {
      "text/plain": [
       "<re.Match object; span=(17, 28), match='02-777-7777'>"
      ]
     },
     "execution_count": 56,
     "metadata": {},
     "output_type": "execute_result"
    }
   ],
   "source": [
    "#정규표현식 패턴과 처음 match되는 것을 찾아줌\n",
    "firsttel = re.search(tel_pattern, data)\n",
    "firsttel"
   ]
  },
  {
   "cell_type": "code",
   "execution_count": 60,
   "id": "d120a405",
   "metadata": {},
   "outputs": [
    {
     "name": "stdout",
     "output_type": "stream",
     "text": [
      "02-777-7777\n",
      "02-777-7777\n"
     ]
    }
   ],
   "source": [
    "print(data[17:28]) #문자열 슬라이싱\n",
    "print(firsttel.group(0))"
   ]
  },
  {
   "cell_type": "code",
   "execution_count": 61,
   "id": "b2fced73",
   "metadata": {},
   "outputs": [
    {
     "data": {
      "text/plain": [
       "<re.Match object; span=(17, 28), match='02-777-7777'>"
      ]
     },
     "execution_count": 61,
     "metadata": {},
     "output_type": "execute_result"
    }
   ],
   "source": [
    "tel_pattern = r\"(\\d{2,3})-(\\d{3,4})-(\\d{4})\"\n",
    "firstphone = re.search(tel_pattern, data)\n",
    "firstphone"
   ]
  },
  {
   "cell_type": "code",
   "execution_count": 62,
   "id": "fc8a5952",
   "metadata": {},
   "outputs": [
    {
     "name": "stdout",
     "output_type": "stream",
     "text": [
      "전체 전화번호 : 02-777-7777\n",
      "국번 : 02\n",
      "중간번호 : 777\n",
      "끝번호 : 7777\n"
     ]
    }
   ],
   "source": [
    "print(\"전체 전화번호 :\", firstphone.group(0))\n",
    "print(\"국번 :\", firstphone.group(1))\n",
    "print(\"중간번호 :\", firstphone.group(2))\n",
    "print(\"끝번호 :\", firstphone.group(3))"
   ]
  },
  {
   "cell_type": "code",
   "execution_count": 7,
   "id": "e52429e8",
   "metadata": {},
   "outputs": [
    {
     "data": {
      "text/plain": [
       "'이름 타로  주소 서울  전화 02 777 7777  핸드폰 010 7777 7777  특징 동해번쩍 서해번쩍혈액현 B         MBTI ENFJ'"
      ]
     },
     "execution_count": 7,
     "metadata": {},
     "output_type": "execute_result"
    }
   ],
   "source": [
    "#data에서 특정한 데이터 없애기\n",
    "re.sub(\"[^가-힣0-9A-Z\\s]\", ' ', data)"
   ]
  },
  {
   "cell_type": "code",
   "execution_count": 5,
   "id": "2fab54c2",
   "metadata": {},
   "outputs": [
    {
     "data": {
      "text/plain": [
       "'이름:타로, 주소:서울, 전화: , 핸드폰: , 특징:동해번쩍 서해번쩍혈액현:Bㅋㅋㅋㅋㅋzz, MBTI:ENFJ'"
      ]
     },
     "execution_count": 5,
     "metadata": {},
     "output_type": "execute_result"
    }
   ],
   "source": [
    "#data에서 전화번호 없애기\n",
    "tel_pattern = r\"(\\d{2,3})-(\\d{3,4})-(\\d{4})\"\n",
    "re.sub(tel_pattern, ' ', data)"
   ]
  },
  {
   "cell_type": "code",
   "execution_count": 8,
   "id": "fd15d070",
   "metadata": {},
   "outputs": [],
   "source": [
    "# 파일 경로\n",
    "file_path = r\"C:\\taro\\ai\\source\\01_python\\data\\ch02.txt\"\n",
    "# file_path = \"C:\\\\taro\\\\ai\\\\source\\\\01_python\\\\data\\\\ch02.txt\"\n",
    "# file_path = \"C:/taro/ai/source/01_python/data/ch02.txt\""
   ]
  },
  {
   "cell_type": "code",
   "execution_count": 10,
   "id": "ad5d6621",
   "metadata": {},
   "outputs": [
    {
     "name": "stdout",
     "output_type": "stream",
     "text": [
      "Hello, python\n",
      "Hello, world\n"
     ]
    }
   ],
   "source": [
    "file_stream = open(file_path, \"w\")\n",
    "print(\"Hello, python\", \"Hello, world\", sep=\"\\n\")\n",
    "print(\"Hello, python\", \"Hello, world\", sep=\"\\n\", file=file_stream) #파일 출력\n",
    "file_stream.close() # close하지 않으면 저장 안함"
   ]
  },
  {
   "cell_type": "markdown",
   "id": "c08e2bab",
   "metadata": {},
   "source": [
    "### ※ 문자열 인덱싱"
   ]
  },
  {
   "cell_type": "code",
   "execution_count": 12,
   "id": "bfcf7115",
   "metadata": {},
   "outputs": [
    {
     "data": {
      "text/plain": [
       "'0123456789'"
      ]
     },
     "execution_count": 12,
     "metadata": {},
     "output_type": "execute_result"
    }
   ],
   "source": [
    "str_ = '0123456789'\n",
    "str_"
   ]
  },
  {
   "cell_type": "code",
   "execution_count": 13,
   "id": "10aaebc4",
   "metadata": {},
   "outputs": [
    {
     "data": {
      "text/plain": [
       "('0', '3', '9', '6')"
      ]
     },
     "execution_count": 13,
     "metadata": {},
     "output_type": "execute_result"
    }
   ],
   "source": [
    "str_[0], str_[3], str_[-1], str_[-4] #음수인덱싱은 맨 마지막이 -1"
   ]
  },
  {
   "cell_type": "code",
   "execution_count": 14,
   "id": "f954cc97",
   "metadata": {},
   "outputs": [
    {
     "ename": "IndexError",
     "evalue": "string index out of range",
     "output_type": "error",
     "traceback": [
      "\u001b[1;31m---------------------------------------------------------------------------\u001b[0m",
      "\u001b[1;31mIndexError\u001b[0m                                Traceback (most recent call last)",
      "Cell \u001b[1;32mIn[14], line 1\u001b[0m\n\u001b[1;32m----> 1\u001b[0m \u001b[43mstr_\u001b[49m\u001b[43m[\u001b[49m\u001b[38;5;241;43m10\u001b[39;49m\u001b[43m]\u001b[49m\n",
      "\u001b[1;31mIndexError\u001b[0m: string index out of range"
     ]
    }
   ],
   "source": [
    "str_[10] #없는 인덱싱은 에러"
   ]
  },
  {
   "cell_type": "markdown",
   "id": "4c7cd1e0",
   "metadata": {},
   "source": [
    "### ※ 문자열 슬라이싱"
   ]
  },
  {
   "cell_type": "code",
   "execution_count": null,
   "id": "59a431c1",
   "metadata": {},
   "outputs": [],
   "source": [
    "'''\n",
    "문자열변수{from:to} : from부터 to앞까지 추출\n",
    "문자열변수[from:to:step] : from부터 to앞까지 step씩 전진하면서 추출\n",
    "    from 생략시 처음부터\n",
    "    to 생략시 끝까지\n",
    "    step 생략시 1\n",
    "'''"
   ]
  },
  {
   "cell_type": "code",
   "execution_count": 15,
   "id": "e2ba5e69",
   "metadata": {},
   "outputs": [
    {
     "data": {
      "text/plain": [
       "'2345'"
      ]
     },
     "execution_count": 15,
     "metadata": {},
     "output_type": "execute_result"
    }
   ],
   "source": [
    "str_[2:6]"
   ]
  },
  {
   "cell_type": "code",
   "execution_count": 18,
   "id": "f148503f",
   "metadata": {},
   "outputs": [
    {
     "data": {
      "text/plain": [
       "'987654321'"
      ]
     },
     "execution_count": 18,
     "metadata": {},
     "output_type": "execute_result"
    }
   ],
   "source": [
    "str_[9:0:-1]"
   ]
  },
  {
   "cell_type": "code",
   "execution_count": 21,
   "id": "30ca5e06",
   "metadata": {},
   "outputs": [
    {
     "name": "stdout",
     "output_type": "stream",
     "text": [
      "9876543210\n"
     ]
    }
   ],
   "source": [
    "print(str_[::-1])"
   ]
  },
  {
   "cell_type": "markdown",
   "id": "ccbab629",
   "metadata": {},
   "source": [
    "## 3.3 논리형(True / False)"
   ]
  },
  {
   "cell_type": "code",
   "execution_count": 23,
   "id": "9207993e",
   "metadata": {},
   "outputs": [
    {
     "name": "stdout",
     "output_type": "stream",
     "text": [
      "True\n",
      "<class 'bool'>\n",
      "True\n"
     ]
    }
   ],
   "source": [
    "a = 10>5\n",
    "print(a)\n",
    "print(type(a))\n",
    "print(isinstance(a, bool))"
   ]
  },
  {
   "cell_type": "code",
   "execution_count": 24,
   "id": "429e6ffe",
   "metadata": {},
   "outputs": [
    {
     "data": {
      "text/plain": [
       "(1, 0)"
      ]
     },
     "execution_count": 24,
     "metadata": {},
     "output_type": "execute_result"
    }
   ],
   "source": [
    "int(True), int(False)"
   ]
  },
  {
   "cell_type": "code",
   "execution_count": 32,
   "id": "0c7b27e4",
   "metadata": {},
   "outputs": [
    {
     "data": {
      "text/plain": [
       "(True, False, True, False)"
      ]
     },
     "execution_count": 32,
     "metadata": {},
     "output_type": "execute_result"
    }
   ],
   "source": [
    "bool(-1000), bool(0), bool(\"타로\"), bool(\"\")\n",
    "# False로 간주되는 것 : 0, \"\", [], ()\n",
    "# False로 판별되는 경우를 제외하고는 모두 Ture"
   ]
  },
  {
   "cell_type": "code",
   "execution_count": 38,
   "id": "ae88c010",
   "metadata": {},
   "outputs": [
    {
     "name": "stdout",
     "output_type": "stream",
     "text": [
      "False\n"
     ]
    }
   ],
   "source": [
    "if[]:\n",
    "    print(\"True\")\n",
    "else:\n",
    "    print(\"False\")"
   ]
  },
  {
   "cell_type": "code",
   "execution_count": 40,
   "id": "0e6aac4d",
   "metadata": {},
   "outputs": [
    {
     "name": "stdout",
     "output_type": "stream",
     "text": [
      "이름은?타로\n",
      "당신 이름은 타로\n"
     ]
    }
   ],
   "source": [
    "name = input(\"이름은?\")\n",
    "if name: #name이 빈스트림이 아니면\n",
    "    print('당신 이름은', name)\n",
    "else:\n",
    "    print('이름을 입력 안 하셨군요')"
   ]
  },
  {
   "cell_type": "markdown",
   "id": "e0752428",
   "metadata": {},
   "source": [
    "## 3.4 자료형 확인 및 형변환 함수\n",
    " - type(변수)\n",
    " - isinstance(변수, 타입) : 변수가 해당 타입인지 여부\n",
    " - float() : 실수형으로 변환\n",
    " - int() : 정수형으로 변환\n",
    " - str() : 문자형으로 변환\n",
    " - bool() : 논리형으로 변환"
   ]
  },
  {
   "cell_type": "code",
   "execution_count": 42,
   "id": "dabf89a5",
   "metadata": {},
   "outputs": [
    {
     "data": {
      "text/plain": [
       "(4.0, 4.1, 4, 4, '4', '4.9')"
      ]
     },
     "execution_count": 42,
     "metadata": {},
     "output_type": "execute_result"
    }
   ],
   "source": [
    "float(4), float(\"4.1\"), int(4.9), int(\"4\"), str(4), str(4.9)"
   ]
  },
  {
   "cell_type": "code",
   "execution_count": null,
   "id": "2509313c",
   "metadata": {},
   "outputs": [],
   "source": [
    "# 에러나는 경우들\n",
    "# int(\"\"), int(\" \"), int(None), int(\"123.9\")\n",
    "# float(\"\"), float(\" \"), float(None)"
   ]
  },
  {
   "cell_type": "markdown",
   "id": "bd0bc523",
   "metadata": {},
   "source": [
    "# 4. 포맷팅\n",
    " - 포맷팅이란 출력할 문자, 수자, 날짜 데이터의 형식을 지정하는 것\n",
    "## 4.1 문자열에 형식 지정"
   ]
  },
  {
   "cell_type": "code",
   "execution_count": 44,
   "id": "c5c111e7",
   "metadata": {},
   "outputs": [
    {
     "name": "stdout",
     "output_type": "stream",
     "text": [
      "타로님의 나이는 38살입니다\n"
     ]
    }
   ],
   "source": [
    "name = \"타로\"\n",
    "age = 38\n",
    "print(name, '님의 나이는 ', age, '살입니다', sep='')"
   ]
  },
  {
   "cell_type": "code",
   "execution_count": 47,
   "id": "2f324e72",
   "metadata": {},
   "outputs": [
    {
     "name": "stdout",
     "output_type": "stream",
     "text": [
      "타로님의 나이는 38살입니다\n",
      "타로님의 나이는 38살입니다\n"
     ]
    }
   ],
   "source": [
    "# %s:문자, %d:10진수, %f:실수\n",
    "print(\"%s님의 나이는 %d살입니다\"%(name, age))\n",
    "print(f\"{name}님의 나이는 {age}살입니다\")"
   ]
  },
  {
   "cell_type": "code",
   "execution_count": 54,
   "id": "089cce53",
   "metadata": {},
   "outputs": [
    {
     "name": "stdout",
     "output_type": "stream",
     "text": [
      "타로님의 나이는 38살입니다\n",
      "타로님의 나이는 38살입니다\n",
      "타로님의 나이는 38살입니다\n",
      "   타로님의 나이는 38_살입니다\n"
     ]
    }
   ],
   "source": [
    "print(\"{}님의 나이는 {}살입니다\".format(name, age))\n",
    "print(\"{0}님의 나이는 {1}살입니다\".format(name, age))\n",
    "print(\"{1}님의 나이는 {0}살입니다\".format(age, name))\n",
    "print(\"{1:>5s}님의 나이는 {0:_<3d}살입니다\".format(age, name))"
   ]
  },
  {
   "cell_type": "markdown",
   "id": "1a5812a8",
   "metadata": {},
   "source": [
    "## 4.2 format()문법\n",
    " - \"{[인덱스]:[공백대체문자][정렬방식][자릿수][타입]}\".format(변수명)\n",
    " \n",
    "     * 인덱스 : format 함수안의 매개변수 순서\n",
    "     * 정렬방식 : <(왼쪽정렬), >(오른쪽정렬), \"(가운데정렬)\n",
    "     * 정수자릿수 : 출력할 자릿수\n",
    "     * 실수자릿수 : 전체출력될 자리수, 변수중에 출력할 자리수\n",
    "     * 타입 : d(10진수), o(8진수), x(16진수), b(2진수), f(실수), s(문자)\n",
    "     * 공백대체문자는 정렬방식을 명시하여 "
   ]
  },
  {
   "cell_type": "code",
   "execution_count": 56,
   "id": "b52bec11",
   "metadata": {},
   "outputs": [
    {
     "name": "stdout",
     "output_type": "stream",
     "text": [
      "[12345] [     12345] [12345]\n",
      "[Hello] [Hello     ] [Hello]\n"
     ]
    }
   ],
   "source": [
    "# 숫자의 경우 오른쪽 정렬(기본)\n",
    "# 문자의 경우 왼쪽 정렬(기본)\n",
    "# 변수보다 작은 자리수를 지정하면 자릿수 무시되고 다 출력\n",
    "a = 12345\n",
    "s = 'Hello'\n",
    "print(\"[{0}] [{0:10}] [{0:3}]\".format(a))\n",
    "print(\"[{0}] [{0:10}] [{0:3}]\".format(s))"
   ]
  },
  {
   "cell_type": "code",
   "execution_count": 59,
   "id": "b4676cb5",
   "metadata": {},
   "outputs": [
    {
     "name": "stdout",
     "output_type": "stream",
     "text": [
      "[10  ] [ 20 ] [   3]\n"
     ]
    }
   ],
   "source": [
    "# 정렬방식 : <, ^, >\n",
    "a, b, c = 10, 20, 3\n",
    "print(\"[{:<4}] [{:^4}] [{:>4}]\".format(a, b, c))"
   ]
  },
  {
   "cell_type": "code",
   "execution_count": 66,
   "id": "96423843",
   "metadata": {},
   "outputs": [
    {
     "name": "stdout",
     "output_type": "stream",
     "text": [
      "[$$$$10] [ 12.57] [____He]\n"
     ]
    }
   ],
   "source": [
    "# 실수 자릿수 ex 10.2f : 전체 10자리 중 소수점 2자리 / 6.2 : 전체6자리중 2자리 출력\n",
    "a = 10\n",
    "f = 12.569\n",
    "s = \"Hello\"\n",
    "print(\"[{:$>6}] [{:6.2f}] [{:_>6.2}]\".format(a, f, s))\n",
    "# 공백대체문자를 쓸 경우 반드시 정렬방식을 표현"
   ]
  },
  {
   "cell_type": "code",
   "execution_count": 67,
   "id": "967eb088",
   "metadata": {},
   "outputs": [
    {
     "name": "stdout",
     "output_type": "stream",
     "text": [
      "[      +123] [      -123] [       123]\n",
      "[       123] [-      123] [       123]\n",
      "[+      123] [-      123] [       123]\n"
     ]
    }
   ],
   "source": [
    "# 자릿수앞에 +를 붙이면 양수의 경우도 부호출력\n",
    "# 부호나 소수점도 자리수에 포함\n",
    "a, b = 123, -123\n",
    "print(\"[{:+10}] [{:+10}] [{:10}]\".format(a, b, a))\n",
    "print(\"[{:=10}] [{:=10}] [{:10}]\".format(a, b, a))\n",
    "print(\"[{:=+10}] [{:=+10}] [{:10}]\".format(a, b, a))"
   ]
  },
  {
   "cell_type": "code",
   "execution_count": 69,
   "id": "77b988ca",
   "metadata": {},
   "outputs": [
    {
     "name": "stdout",
     "output_type": "stream",
     "text": [
      "10진수 [  15]\n",
      "8진수 [  17]\n",
      "16진수 [   f]\n",
      "2진수 [1111]\n"
     ]
    }
   ],
   "source": [
    "# 10진수, 8진수, 16진수, 2진수 출력\n",
    "a = 15\n",
    "print(\"10진수 [{:4d}]\".format(a))\n",
    "print(\"8진수 [{:4o}]\".format(a))\n",
    "print(\"16진수 [{:4x}]\".format(a))\n",
    "print(\"2진수 [{:4b}]\".format(a))"
   ]
  },
  {
   "cell_type": "code",
   "execution_count": 72,
   "id": "8e52e4d4",
   "metadata": {},
   "outputs": [
    {
     "name": "stdout",
     "output_type": "stream",
     "text": [
      "[    +2.785]\n",
      "[    +2.785]\n"
     ]
    }
   ],
   "source": [
    "a = 2.785\n",
    "sign = \"+\"\n",
    "width = 10\n",
    "precision =4\n",
    "print(\"[{:{}{}.{}}]\".format(a, sign, width, precision))\n",
    "print(\"[{:{sign}{width}.{precision}}]\".format(a, sign=sign, width=width, precision=precision))"
   ]
  },
  {
   "cell_type": "markdown",
   "id": "db97deb1",
   "metadata": {},
   "source": [
    "## 4.3 날짜출력"
   ]
  },
  {
   "cell_type": "code",
   "execution_count": 76,
   "id": "75d42303",
   "metadata": {},
   "outputs": [
    {
     "data": {
      "text/plain": [
       "'C:\\\\Users\\\\Admin\\\\anaconda3\\\\lib\\\\datetime.py'"
      ]
     },
     "execution_count": 76,
     "metadata": {},
     "output_type": "execute_result"
    }
   ],
   "source": [
    "import datetime\n",
    "datetime.__file__"
   ]
  },
  {
   "cell_type": "code",
   "execution_count": 79,
   "id": "175e9bb6",
   "metadata": {},
   "outputs": [
    {
     "name": "stdout",
     "output_type": "stream",
     "text": [
      "2025년 09월 11일 00시 00분 00초\n",
      "2025년 09월 11일 AM 09시 30분 00초\n"
     ]
    }
   ],
   "source": [
    "from datetime import datetime # datetime 모듈안의 datetime만 메모리 Load\n",
    "thatday1 = datetime(2025, 9, 11) #2025년 9월 11일 0시 0분 0초\n",
    "thatday2 = datetime(2025, 9, 11, 9, 30, 0)\n",
    "# Y(년도4자리), y(년도2자리), m(월), d(일), p(pm/am), I(12시간), H(24시간) M(분) S(초)\n",
    "print(\"{:%Y년 %m월 %d일 %H시 %M분 %S초}\".format(thatday1))\n",
    "print(\"{:%Y년 %m월 %d일 %p %H시 %M분 %S초}\".format(thatday2))"
   ]
  },
  {
   "cell_type": "code",
   "execution_count": 80,
   "id": "872f6f99",
   "metadata": {},
   "outputs": [
    {
     "data": {
      "text/plain": [
       "'2025년 09월 11일 AM 00시 00분 00초'"
      ]
     },
     "execution_count": 80,
     "metadata": {},
     "output_type": "execute_result"
    }
   ],
   "source": [
    "thatday1.strftime(\"%Y년 %m월 %d일 %p %H시 %M분 %S초\")"
   ]
  },
  {
   "cell_type": "code",
   "execution_count": 81,
   "id": "b28cf678",
   "metadata": {},
   "outputs": [
    {
     "data": {
      "text/plain": [
       "'2025년 09월 11일 AM 09시 30분 00초'"
      ]
     },
     "execution_count": 81,
     "metadata": {},
     "output_type": "execute_result"
    }
   ],
   "source": [
    "thatday2.strftime(\"%Y년 %m월 %d일 %p %H시 %M분 %S초\")"
   ]
  },
  {
   "cell_type": "code",
   "execution_count": 82,
   "id": "4bc5e3fc",
   "metadata": {},
   "outputs": [
    {
     "data": {
      "text/plain": [
       "datetime.timedelta(days=4, seconds=53749, microseconds=738269)"
      ]
     },
     "execution_count": 82,
     "metadata": {},
     "output_type": "execute_result"
    }
   ],
   "source": [
    "# 현재의 날짜와 시간\n",
    "# datetime(2025, 9, 11, 14, 30) 특정한 날짜와 시간\n",
    "now = datetime.now() # 지금\n",
    "now - thatday1 # 날짜형 변수끼리 연산 가능"
   ]
  },
  {
   "cell_type": "code",
   "execution_count": 84,
   "id": "cf6242fb",
   "metadata": {},
   "outputs": [
    {
     "name": "stdout",
     "output_type": "stream",
     "text": [
      "2025-09-15 PM 02:55\n",
      "2025-09-15 PM 02:55\n"
     ]
    }
   ],
   "source": [
    "# 지금(날짜와 시간) 원하는 스타일로 출력\n",
    "print(\"{:%Y-%m-%d %p %I:%M}\".format(now))\n",
    "print(now.strftime(\"%Y-%m-%d %p %I:%M\"))"
   ]
  },
  {
   "cell_type": "code",
   "execution_count": 85,
   "id": "bf2b379b",
   "metadata": {},
   "outputs": [
    {
     "data": {
      "text/plain": [
       "'2025-09-15 PM 03:00'"
      ]
     },
     "execution_count": 85,
     "metadata": {},
     "output_type": "execute_result"
    }
   ],
   "source": [
    "# 지금을 문자열로 전환하는 함수\n",
    "from time import strftime\n",
    "strftime(\"%Y-%m-%d %p %I:%M\")"
   ]
  }
 ],
 "metadata": {
  "kernelspec": {
   "display_name": "Python 3 (ipykernel)",
   "language": "python",
   "name": "python3"
  },
  "language_info": {
   "codemirror_mode": {
    "name": "ipython",
    "version": 3
   },
   "file_extension": ".py",
   "mimetype": "text/x-python",
   "name": "python",
   "nbconvert_exporter": "python",
   "pygments_lexer": "ipython3",
   "version": "3.10.9"
  },
  "toc": {
   "base_numbering": 1,
   "nav_menu": {},
   "number_sections": false,
   "sideBar": true,
   "skip_h1_title": false,
   "title_cell": "Table of Contents",
   "title_sidebar": "Contents",
   "toc_cell": false,
   "toc_position": {
    "height": "calc(100% - 180px)",
    "left": "10px",
    "top": "150px",
    "width": "196.4px"
   },
   "toc_section_display": true,
   "toc_window_display": true
  }
 },
 "nbformat": 4,
 "nbformat_minor": 5
}
