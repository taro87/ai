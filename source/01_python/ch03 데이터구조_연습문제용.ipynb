{
 "cells": [
  {
   "cell_type": "code",
   "execution_count": 1,
   "id": "b0b4b490",
   "metadata": {},
   "outputs": [
    {
     "data": {
      "text/html": [
       "\n",
       "<style>\n",
       "div.container{width:90% !important;}\n",
       "div.cell.code_cell.rendered{width:100%;}\n",
       "div.input_prompt{padding:0px;}\n",
       "div.CodeMirror {font-family:Consolas; font-size:16pt;}\n",
       "div.text_cell_render.rendered_html{font-size:16pt;}\n",
       "div.output {font-size:12pt; font-weight:bold;}\n",
       "div.input {font-family:Consolas; font-size:16pt;}\n",
       "div.prompt {min-width:70px;}\n",
       "div#toc-wrapper{padding-top:120px;}\n",
       "div.text_cell_render ul li{font-size:16pt;padding:5px;}\n",
       "table.dataframe{font-size:16px;}\n",
       "</style>\n"
      ],
      "text/plain": [
       "<IPython.core.display.HTML object>"
      ]
     },
     "metadata": {},
     "output_type": "display_data"
    }
   ],
   "source": [
    "from IPython.display import display, HTML\n",
    "display(HTML(\"\"\"\n",
    "<style>\n",
    "div.container{width:90% !important;}\n",
    "div.cell.code_cell.rendered{width:100%;}\n",
    "div.input_prompt{padding:0px;}\n",
    "div.CodeMirror {font-family:Consolas; font-size:16pt;}\n",
    "div.text_cell_render.rendered_html{font-size:16pt;}\n",
    "div.output {font-size:12pt; font-weight:bold;}\n",
    "div.input {font-family:Consolas; font-size:16pt;}\n",
    "div.prompt {min-width:70px;}\n",
    "div#toc-wrapper{padding-top:120px;}\n",
    "div.text_cell_render ul li{font-size:16pt;padding:5px;}\n",
    "table.dataframe{font-size:16px;}\n",
    "</style>\n",
    "\"\"\"))"
   ]
  },
  {
   "cell_type": "markdown",
   "id": "283fd44d",
   "metadata": {},
   "source": [
    "# <b><font size=\"7\" color=\"red\">ch03. 데이터구조</font></b>\n",
    "- 리스트[], 튜플(), 딕셔너리{}, 셋{}\n",
    "\n",
    "# 1장 리스트\n",
    "## 1.1 리스트 만들기\n",
    " - []를 이용하여 만들며, 여러개 값(여러 타입)을 하나의 변수에 저장/관리할 수 있음\n",
    " - list()함수 이용도 가능\n",
    " - 인덱스 : 각 요소의 위치, 인덱스는 0부터 시작. 맨마지막 인덱스는 -1\n",
    " - 슬라이싱([from:to:step]) : 부분 데이터셋 추출\n",
    " - 인덱스와 슬라이싱을 이용해서 쓰기와 읽기 지원"
   ]
  },
  {
   "cell_type": "code",
   "execution_count": 3,
   "id": "d1464f70",
   "metadata": {},
   "outputs": [
    {
     "name": "stdout",
     "output_type": "stream",
     "text": [
      "banana\n"
     ]
    }
   ],
   "source": [
    "fruit = 'banana'\n",
    "fruits = ['banana', 'apple', 'orange', 'grape']\n",
    "fruits[0]\n",
    "print(fruits[0]) #인덱싱을 이용한 읽기"
   ]
  },
  {
   "cell_type": "code",
   "execution_count": 4,
   "id": "a5bfcb42",
   "metadata": {},
   "outputs": [
    {
     "name": "stdout",
     "output_type": "stream",
     "text": [
      "['mango', 'apple', 'orange', 'grape']\n"
     ]
    }
   ],
   "source": [
    "fruits[0] = 'mango' #인덱싱을 이용한 쓰기\n",
    "print(fruits)"
   ]
  },
  {
   "cell_type": "code",
   "execution_count": null,
   "id": "7c262fb9",
   "metadata": {},
   "outputs": [],
   "source": [
    "fruits = ['mango', 'apple', 'orange']\n",
    "x, y, z = ['mango', 'apple', 'orange']\n",
    "print(\"x={}\".format)"
   ]
  },
  {
   "cell_type": "code",
   "execution_count": 9,
   "id": "67803594",
   "metadata": {},
   "outputs": [
    {
     "data": {
      "text/plain": [
       "[0, 2, 4, 6, 8]"
      ]
     },
     "execution_count": 9,
     "metadata": {},
     "output_type": "execute_result"
    }
   ],
   "source": [
    "# range(from, to, by) : from부터 to앞까지 by씩 증가하는 나열 가능한 자료\n",
    "        # 숫자를 순차적으로 사용할 수 있게\n",
    "        # from 생략시 0, by생략시 1\n",
    "range(0, 10, 2)\n",
    "list(range(0,10,2))"
   ]
  },
  {
   "cell_type": "code",
   "execution_count": 10,
   "id": "787252e9",
   "metadata": {},
   "outputs": [
    {
     "data": {
      "text/plain": [
       "[10, 9, 8, 7, 6, 5, 4, 3, 2, 1, 0]"
      ]
     },
     "execution_count": 10,
     "metadata": {},
     "output_type": "execute_result"
    }
   ],
   "source": [
    "list(range(10,-1,-1))"
   ]
  },
  {
   "cell_type": "code",
   "execution_count": 15,
   "id": "aabd865e",
   "metadata": {},
   "outputs": [
    {
     "name": "stdout",
     "output_type": "stream",
     "text": [
      "0\n",
      "1\n",
      "2\n",
      "[0, 1, 2, 3, 4, 5, 6, 7, 8, 9]\n"
     ]
    }
   ],
   "source": [
    "for i in [0,1,2]:\n",
    "    print(i)\n",
    "for i in [list(range(0,10))]:\n",
    "    print(i)"
   ]
  },
  {
   "cell_type": "code",
   "execution_count": 18,
   "id": "418841aa",
   "metadata": {},
   "outputs": [
    {
     "name": "stdout",
     "output_type": "stream",
     "text": [
      "0번째 과일은 mango\n",
      "1번째 과일은 apple\n",
      "2번째 과일은 orange\n"
     ]
    }
   ],
   "source": [
    "fruits = ['mango', 'apple', 'orange']\n",
    "# print(\"{}번째 과일은 {}\".format(0, fruits[0]))\n",
    "# print(\"{}번째 과일은 {}\".format(1, fruits[1]))\n",
    "# print(\"{}번째 과일은 {}\".format(2, fruits[2]))\n",
    "for fru in range(len(fruits)):\n",
    "    print(\"{}번째 과일은 {}\".format(fru, fruits[fru]))"
   ]
  },
  {
   "cell_type": "code",
   "execution_count": 19,
   "id": "a52bbdb9",
   "metadata": {},
   "outputs": [
    {
     "data": {
      "text/plain": [
       "[(0, 'mango'), (1, 'apple'), (2, 'orange')]"
      ]
     },
     "execution_count": 19,
     "metadata": {},
     "output_type": "execute_result"
    }
   ],
   "source": [
    "list(enumerate(fruits))"
   ]
  },
  {
   "cell_type": "code",
   "execution_count": 21,
   "id": "1cb5883a",
   "metadata": {},
   "outputs": [
    {
     "name": "stdout",
     "output_type": "stream",
     "text": [
      "0번째 과일은 mango\n",
      "1번째 과일은 apple\n",
      "2번째 과일은 orange\n"
     ]
    }
   ],
   "source": [
    "for i, fru in enumerate(fruits): #[(0, 'mango'), (1, 'apple'), (2, 'orange')]:\n",
    "    print(f\"{i}번째 과일은 {fru}\")"
   ]
  },
  {
   "cell_type": "code",
   "execution_count": 26,
   "id": "12fdeabf",
   "metadata": {},
   "outputs": [
    {
     "data": {
      "text/plain": [
       "('2', 5)"
      ]
     },
     "execution_count": 26,
     "metadata": {},
     "output_type": "execute_result"
    }
   ],
   "source": [
    "# 리스트는 여러 타입의 데이터를 담을 수 있음\n",
    "numbers = [0, True, \"2\", [2,3], [4,5,6]]\n",
    "numbers\n",
    "numbers[2], numbers[4][1]"
   ]
  },
  {
   "cell_type": "code",
   "execution_count": 27,
   "id": "98e0bbe6",
   "metadata": {},
   "outputs": [
    {
     "name": "stdout",
     "output_type": "stream",
     "text": [
      "[[1, 2, 3, 4, 5], [10, 20, 30, 40, 50], [-1, -2, -3, -4, -5], [11, 22, 33, 44, 55]]\n"
     ]
    }
   ],
   "source": [
    "# 2차원 리스트\n",
    "numbers = [1,2,3,4,5]\n",
    "              #0열1열2열3열4열\n",
    "numbers_2d =  [[1,2,3,4,5], # 0행\n",
    "              [10,20,30,40,50], #1행\n",
    "              [-1,-2,-3,-4,-5], #2행\n",
    "              [11,22,33,44,55]] #3행\n",
    "print(numbers_2d)"
   ]
  },
  {
   "cell_type": "code",
   "execution_count": 28,
   "id": "2069c52d",
   "metadata": {},
   "outputs": [
    {
     "data": {
      "text/plain": [
       "50"
      ]
     },
     "execution_count": 28,
     "metadata": {},
     "output_type": "execute_result"
    }
   ],
   "source": [
    "# 특정행, 특정열 데이터 인덱싱\n",
    "numbers_2d[1][4]"
   ]
  },
  {
   "cell_type": "code",
   "execution_count": 31,
   "id": "517e91e2",
   "metadata": {},
   "outputs": [
    {
     "name": "stdout",
     "output_type": "stream",
     "text": [
      "1\t2\t3\t4\t5\t\n",
      "10\t20\t30\t40\t50\t\n",
      "-1\t-2\t-3\t-4\t-5\t\n",
      "11\t22\t33\t44\t55\t\n"
     ]
    }
   ],
   "source": [
    "for row in numbers_2d:\n",
    "    for item in row:\n",
    "        print(item, end='\\t')\n",
    "    print()"
   ]
  },
  {
   "cell_type": "code",
   "execution_count": 37,
   "id": "16190a30",
   "metadata": {},
   "outputs": [
    {
     "name": "stdout",
     "output_type": "stream",
     "text": [
      "[1, 2, 3, 4, 5]\t\n",
      "[10, 20, 30, 40, 50]\t\n",
      "[-1, -2, -3, -4, -5]\t\n",
      "[11, 22, 33, 44, 55]\t\n"
     ]
    }
   ],
   "source": [
    "for item in numbers_2d:\n",
    "    print(item, end='\\t')\n",
    "    print()"
   ]
  },
  {
   "cell_type": "code",
   "execution_count": 41,
   "id": "5af63e47",
   "metadata": {},
   "outputs": [
    {
     "name": "stdout",
     "output_type": "stream",
     "text": [
      "0행0열 : 1\t0행1열 : 2\t0행2열 : 3\t0행3열 : 4\t0행4열 : 5\t\n",
      "1행0열 : 10\t1행1열 : 20\t1행2열 : 30\t1행3열 : 40\t1행4열 : 50\t\n",
      "2행0열 : -1\t2행1열 : -2\t2행2열 : -3\t2행3열 : -4\t2행4열 : -5\t\n",
      "3행0열 : 11\t3행1열 : 22\t3행2열 : 33\t3행3열 : 44\t3행4열 : 55\t\n"
     ]
    }
   ],
   "source": [
    "for i in range(len(numbers_2d)): # i : 행\n",
    "    for j in range(len(numbers_2d[i])): # j : 열\n",
    "        print(f\"{i}행{j}열 : {numbers_2d[i][j]}\", end=\"\\t\")\n",
    "    print() # 개행"
   ]
  },
  {
   "cell_type": "code",
   "execution_count": 42,
   "id": "952e205f",
   "metadata": {},
   "outputs": [
    {
     "data": {
      "text/plain": [
       "([(0, [1, 2, 3, 4, 5]),\n",
       "  (1, [10, 20, 30, 40, 50]),\n",
       "  (2, [-1, -2, -3, -4, -5]),\n",
       "  (3, [11, 22, 33, 44, 55])],\n",
       " [(0, 1), (1, 2), (2, 3), (3, 4), (4, 5)])"
      ]
     },
     "execution_count": 42,
     "metadata": {},
     "output_type": "execute_result"
    }
   ],
   "source": [
    "list(enumerate(numbers_2d)), list(enumerate(numbers_2d[0]))"
   ]
  },
  {
   "cell_type": "code",
   "execution_count": 43,
   "id": "00664336",
   "metadata": {},
   "outputs": [
    {
     "name": "stdout",
     "output_type": "stream",
     "text": [
      "0행0열 : 1\t0행1열 : 2\t0행2열 : 3\t0행3열 : 4\t0행4열 : 5\t\n",
      "1행0열 : 10\t1행1열 : 20\t1행2열 : 30\t1행3열 : 40\t1행4열 : 50\t\n",
      "2행0열 : -1\t2행1열 : -2\t2행2열 : -3\t2행3열 : -4\t2행4열 : -5\t\n",
      "3행0열 : 11\t3행1열 : 22\t3행2열 : 33\t3행3열 : 44\t3행4열 : 55\t\n"
     ]
    }
   ],
   "source": [
    "for i, row in enumerate(numbers_2d):\n",
    "    for j, item in enumerate(numbers_2d[i]):\n",
    "        print(\"{}행{}열 : {}\".format(i, j, numbers_2d[i][j]), end=\"\\t\")\n",
    "    print()"
   ]
  },
  {
   "cell_type": "markdown",
   "id": "b3b90182",
   "metadata": {},
   "source": [
    "## 1.2 기본 정보 조회"
   ]
  },
  {
   "cell_type": "code",
   "execution_count": 50,
   "id": "fa339524",
   "metadata": {},
   "outputs": [],
   "source": [
    "numbers = [11,3,50,6,7]\n",
    "numbers_2d = [[10,3,5],\n",
    "             [110,2,40],\n",
    "             [55,12,11]]"
   ]
  },
  {
   "cell_type": "code",
   "execution_count": 46,
   "id": "60eef06e",
   "metadata": {},
   "outputs": [
    {
     "data": {
      "text/plain": [
       "(5, 3)"
      ]
     },
     "execution_count": 46,
     "metadata": {},
     "output_type": "execute_result"
    }
   ],
   "source": [
    "# item 수\n",
    "len(numbers), len(numbers_2d)"
   ]
  },
  {
   "cell_type": "code",
   "execution_count": 48,
   "id": "3d1f2781",
   "metadata": {},
   "outputs": [
    {
     "data": {
      "text/plain": [
       "(3, 50)"
      ]
     },
     "execution_count": 48,
     "metadata": {},
     "output_type": "execute_result"
    }
   ],
   "source": [
    "# 최소값\n",
    "min(numbers), max(numbers)"
   ]
  },
  {
   "cell_type": "code",
   "execution_count": 51,
   "id": "694c77ac",
   "metadata": {},
   "outputs": [
    {
     "data": {
      "text/plain": [
       "([10, 3, 5], [110, 2, 40])"
      ]
     },
     "execution_count": 51,
     "metadata": {},
     "output_type": "execute_result"
    }
   ],
   "source": [
    "# 2차원 list의 최소/최대값 : 부분리스트 중 첫 요소가 가장 작은값/큰값\n",
    "min(numbers_2d), max(numbers_2d)"
   ]
  },
  {
   "cell_type": "code",
   "execution_count": 53,
   "id": "c786b1dd",
   "metadata": {},
   "outputs": [
    {
     "data": {
      "text/plain": [
       "('apple', 'orange')"
      ]
     },
     "execution_count": 53,
     "metadata": {},
     "output_type": "execute_result"
    }
   ],
   "source": [
    "# list의 데이터가 문자일 경우 ascii 코드값으로 min과 max적용\n",
    "fruits = ['mango','apple', 'orange']\n",
    "min(fruits), max(fruits)"
   ]
  },
  {
   "cell_type": "code",
   "execution_count": 57,
   "id": "8586eadf",
   "metadata": {},
   "outputs": [
    {
     "name": "stdout",
     "output_type": "stream",
     "text": [
      "오름차순 정렬 : [1, 2, 3, 5, 12]\n",
      "내림차순 정렬 : [12, 5, 3, 2, 1]\n",
      "합 : 23\n",
      "평균 : 4.6\n",
      "sorted 함수 사용시 리스트의 내용이 바뀌지않음 : [1, 12, 3, 5, 2]\n"
     ]
    }
   ],
   "source": [
    "# 정렬하기\n",
    "numbers = [1,12,3,5,2]\n",
    "print(\"오름차순 정렬 :\", sorted(numbers))\n",
    "print(\"내림차순 정렬 :\", sorted(numbers, reverse=True))\n",
    "print(\"합 :\", sum(numbers))\n",
    "print(\"평균 :\", sum(numbers)/len(numbers))\n",
    "print(\"sorted 함수 사용시 리스트의 내용이 바뀌지않음 :\", numbers)"
   ]
  },
  {
   "cell_type": "markdown",
   "id": "09c15e81",
   "metadata": {},
   "source": [
    "## 1.3 요소추가\n",
    "```\n",
    " - + : 두 리스트 연결\n",
    " - = : 리스트를 곱한 수만큼 반복\n",
    " - append() : 요소 맨 뒤에 추가\n",
    " - extend(리스트) : 리스트를 요소별로 맨 뒤에 추가\n",
    " - insert(idx, 값) : idx번째 인덱스 위치에 값 추가\n",
    "```"
   ]
  },
  {
   "cell_type": "code",
   "execution_count": 58,
   "id": "ead653f1",
   "metadata": {},
   "outputs": [
    {
     "data": {
      "text/plain": [
       "[1, 2, 3, 1, 2, 3]"
      ]
     },
     "execution_count": 58,
     "metadata": {},
     "output_type": "execute_result"
    }
   ],
   "source": [
    "numbers = [1,2,3]\n",
    "numbers = numbers + numbers #리스트 연결\n",
    "numbers"
   ]
  },
  {
   "cell_type": "code",
   "execution_count": 59,
   "id": "82c38a7c",
   "metadata": {},
   "outputs": [
    {
     "name": "stdout",
     "output_type": "stream",
     "text": [
      "[1, 2, 3, 1, 2, 3, 1, 2, 3]\n",
      "[1, 2, 3, 1, 2, 3, 1, 2, 3]\n"
     ]
    }
   ],
   "source": [
    "numbers = [1,2,3]\n",
    "print(numbers*3) # 곱한 수만큼 반복\n",
    "print(3*numbers)"
   ]
  },
  {
   "cell_type": "code",
   "execution_count": 60,
   "id": "8ae07626",
   "metadata": {},
   "outputs": [
    {
     "data": {
      "text/plain": [
       "[1, 2, 3, 4]"
      ]
     },
     "execution_count": 60,
     "metadata": {},
     "output_type": "execute_result"
    }
   ],
   "source": [
    "numbers.append(4) # 맨 뒤에 4추가\n",
    "numbers"
   ]
  },
  {
   "cell_type": "code",
   "execution_count": 61,
   "id": "e528243a",
   "metadata": {},
   "outputs": [
    {
     "data": {
      "text/plain": [
       "[1, 2, 3, 4, [5, 6, 7]]"
      ]
     },
     "execution_count": 61,
     "metadata": {},
     "output_type": "execute_result"
    }
   ],
   "source": [
    "numbers.append([5,6,7]) #append는 무조건 한 데이터로 인식해서 추가\n",
    "numbers"
   ]
  },
  {
   "cell_type": "code",
   "execution_count": 62,
   "id": "38941130",
   "metadata": {},
   "outputs": [
    {
     "data": {
      "text/plain": [
       "[1, 2, 3, 4, 5, 6]"
      ]
     },
     "execution_count": 62,
     "metadata": {},
     "output_type": "execute_result"
    }
   ],
   "source": [
    "numbers = [1,2,3]\n",
    "numbers.extend([4,5,6]) # 맨 뒤에 요소별로 각각 추가\n",
    "numbers"
   ]
  },
  {
   "cell_type": "code",
   "execution_count": 63,
   "id": "7b4d5cfe",
   "metadata": {},
   "outputs": [
    {
     "data": {
      "text/plain": [
       "['a', 'b', 'c', 'd']"
      ]
     },
     "execution_count": 63,
     "metadata": {},
     "output_type": "execute_result"
    }
   ],
   "source": [
    "lst = ['a','b','c']\n",
    "lst.append('d')\n",
    "lst"
   ]
  },
  {
   "cell_type": "code",
   "execution_count": 64,
   "id": "ff175c23",
   "metadata": {},
   "outputs": [
    {
     "data": {
      "text/plain": [
       "['a', 'b', 'c', 'd', 'h', 'e', 'l', 'l', 'o']"
      ]
     },
     "execution_count": 64,
     "metadata": {},
     "output_type": "execute_result"
    }
   ],
   "source": [
    "lst.extend('hello')\n",
    "lst"
   ]
  },
  {
   "cell_type": "code",
   "execution_count": 67,
   "id": "cba0e56f",
   "metadata": {},
   "outputs": [
    {
     "data": {
      "text/plain": [
       "[1, '번째', 2, 3, 4, 5]"
      ]
     },
     "execution_count": 67,
     "metadata": {},
     "output_type": "execute_result"
    }
   ],
   "source": [
    "numbers = [1,2,3,4,5]\n",
    "numbers.insert(1, '번째') # 1번째 인덱스에 '번째' 추가\n",
    "numbers"
   ]
  },
  {
   "cell_type": "markdown",
   "id": "37c0297e",
   "metadata": {},
   "source": [
    "## 1.4 인덱싱과 요소 갯수\n",
    " - 변수[index] : 인덱스를 이용한 접근\n",
    " - index(찾을데이터) : 해당 찾을 데이터가 있는 요소의 index를 반환\n",
    " - 찾을데이터 in 변수 : 찾을데이터가 리스트변수의 요소인지 여부\n",
    " - count(찾을데이터) : 리스트에서 해당 찾을데이터의 갯수 반환"
   ]
  },
  {
   "cell_type": "code",
   "execution_count": 69,
   "id": "53bc8bb8",
   "metadata": {},
   "outputs": [
    {
     "data": {
      "text/plain": [
       "2"
      ]
     },
     "execution_count": 69,
     "metadata": {},
     "output_type": "execute_result"
    }
   ],
   "source": [
    "numbers = [1,2,3,[1,2,3],1,2,3]\n",
    "numbers.count(2)"
   ]
  },
  {
   "cell_type": "code",
   "execution_count": 70,
   "id": "8cfd8014",
   "metadata": {},
   "outputs": [
    {
     "data": {
      "text/plain": [
       "0"
      ]
     },
     "execution_count": 70,
     "metadata": {},
     "output_type": "execute_result"
    }
   ],
   "source": [
    "numbers.count(5)"
   ]
  },
  {
   "cell_type": "code",
   "execution_count": 71,
   "id": "f6c7618f",
   "metadata": {},
   "outputs": [
    {
     "name": "stdout",
     "output_type": "stream",
     "text": [
      "True\n"
     ]
    }
   ],
   "source": [
    "print(2 in numbers) # 2가 numbers의 요소인지 여부"
   ]
  },
  {
   "cell_type": "code",
   "execution_count": 72,
   "id": "5df80c39",
   "metadata": {},
   "outputs": [
    {
     "name": "stdout",
     "output_type": "stream",
     "text": [
      "5가 요소에 포함되지 않습니다\n"
     ]
    }
   ],
   "source": [
    "if 5 in numbers:\n",
    "    print(numbers.index(5))\n",
    "else:\n",
    "    print(\"5가 요소에 포함되지 않습니다\")"
   ]
  },
  {
   "cell_type": "code",
   "execution_count": 73,
   "id": "608fcd56",
   "metadata": {},
   "outputs": [
    {
     "name": "stdout",
     "output_type": "stream",
     "text": [
      "5가 요소에 포함되지 않습니다\n"
     ]
    }
   ],
   "source": [
    "if numbers.count(5):\n",
    "    print(numbers.index(5))\n",
    "else:\n",
    "    print(\"5가 요소에 포함되지 않습니다\")"
   ]
  },
  {
   "cell_type": "code",
   "execution_count": 80,
   "id": "16deeb8c",
   "metadata": {},
   "outputs": [],
   "source": [
    "def safe_index(lst, item):\n",
    "    \"\"\"첫번째 매개변수 lst에서 item요소가 있는 index를 반환.\n",
    "       item 요소가 없으면 -1 반환\"\"\"\n",
    "    if item in lst:\n",
    "        return lst.index(item)\n",
    "    return -1"
   ]
  },
  {
   "cell_type": "code",
   "execution_count": 81,
   "id": "4dd787f0",
   "metadata": {},
   "outputs": [
    {
     "data": {
      "text/plain": [
       "-1"
      ]
     },
     "execution_count": 81,
     "metadata": {},
     "output_type": "execute_result"
    }
   ],
   "source": [
    "safe_index(numbers,5)"
   ]
  },
  {
   "cell_type": "code",
   "execution_count": 2,
   "id": "303640c7",
   "metadata": {},
   "outputs": [
    {
     "data": {
      "text/plain": [
       "(1, -1)"
      ]
     },
     "execution_count": 2,
     "metadata": {},
     "output_type": "execute_result"
    }
   ],
   "source": [
    "from lst import safe_index #lst.py(모듈)안의 safe_index를 메모리에 load\n",
    "numbers = [1,2,3]\n",
    "safe_index(numbers,2), safe_index(numbers,5)"
   ]
  },
  {
   "cell_type": "code",
   "execution_count": 3,
   "id": "293bbf38",
   "metadata": {},
   "outputs": [
    {
     "data": {
      "text/plain": [
       "[3]"
      ]
     },
     "execution_count": 3,
     "metadata": {},
     "output_type": "execute_result"
    }
   ],
   "source": [
    "numbers[2:5] # 벗어난 인덱스로 슬라이싱 시 에러나 안남"
   ]
  },
  {
   "cell_type": "markdown",
   "id": "23cc0fe2",
   "metadata": {},
   "source": [
    "## 1.5 원하는 요소 추출\n",
    "1. 리스트 슬라이싱\n",
    "    - [from:to:step] from번째부터 to앞까지 step씩 증가하는 index값을 추출\n",
    "    - 인덱스의 범위를 벗어난 값도 에러나지 않음\n",
    "    - 인덱스는 음수 가능\n",
    "2. <font color=\"red\">**리스트컴프리헨션** : 원하는 조건의 데이터 추출"
   ]
  },
  {
   "cell_type": "code",
   "execution_count": 4,
   "id": "29a1972c",
   "metadata": {},
   "outputs": [
    {
     "name": "stdout",
     "output_type": "stream",
     "text": [
      "[20, 18, 16, 14, 13, 11, 9, 5, 3, 1]\n"
     ]
    }
   ],
   "source": [
    "numbers = [1,3,5,9,11,13,14,16,18,20]\n",
    "print(numbers[::-1])\n",
    "print(numbers[::2])"
   ]
  },
  {
   "cell_type": "code",
   "execution_count": 5,
   "id": "20de349f",
   "metadata": {},
   "outputs": [
    {
     "data": {
      "text/plain": [
       "[1, 3, 5, 9, 11, 13, 14, 16, 18, 20]"
      ]
     },
     "execution_count": 5,
     "metadata": {},
     "output_type": "execute_result"
    }
   ],
   "source": [
    "# 모든 데이터 추출\n",
    "# for data in numbers:\n",
    "#     print(data, end=\"\\t\")\n",
    "[data for data in numbers]"
   ]
  },
  {
   "cell_type": "code",
   "execution_count": 8,
   "id": "fc56ab17",
   "metadata": {},
   "outputs": [
    {
     "data": {
      "text/plain": [
       "[14, 16, 18, 20]"
      ]
     },
     "execution_count": 8,
     "metadata": {},
     "output_type": "execute_result"
    }
   ],
   "source": [
    "# 짝수 데이터 추출\n",
    "# for data in numbers:\n",
    "#     if data%2==0:\n",
    "#         print(data, end=\" \")\n",
    "[data for data in numbers if data%2==0]"
   ]
  },
  {
   "cell_type": "code",
   "execution_count": 10,
   "id": "9eedc7c8",
   "metadata": {},
   "outputs": [
    {
     "data": {
      "text/plain": [
       "[11, 13, 14, 16, 18, 20]"
      ]
     },
     "execution_count": 10,
     "metadata": {},
     "output_type": "execute_result"
    }
   ],
   "source": [
    "#연습문제\n",
    "# nubvers에서 10이상인 요소만 추출\n",
    "[data for data in numbers if data>=10]"
   ]
  },
  {
   "cell_type": "code",
   "execution_count": 11,
   "id": "fad3ef6e",
   "metadata": {},
   "outputs": [
    {
     "data": {
      "text/plain": [
       "['orange', 'apple', 'mango']"
      ]
     },
     "execution_count": 11,
     "metadata": {},
     "output_type": "execute_result"
    }
   ],
   "source": [
    "# fruits에서 과일의 글자가 5글자 이상인 과일만 추출\n",
    "fruits = ['orange', 'apple', 'mango', 'kiwi']\n",
    "[data for data in fruits if len(data)>=5]"
   ]
  },
  {
   "cell_type": "code",
   "execution_count": 17,
   "id": "ad6eede1",
   "metadata": {},
   "outputs": [
    {
     "data": {
      "text/plain": [
       "[6, 5, 5, 4]"
      ]
     },
     "execution_count": 17,
     "metadata": {},
     "output_type": "execute_result"
    }
   ],
   "source": [
    "# fruits 리스트의 과일 글자수\n",
    "[len(fruit) for fruit in fruits]"
   ]
  },
  {
   "cell_type": "code",
   "execution_count": 18,
   "id": "3d734cae",
   "metadata": {},
   "outputs": [
    {
     "data": {
      "text/plain": [
       "[9, 16, 25]"
      ]
     },
     "execution_count": 18,
     "metadata": {},
     "output_type": "execute_result"
    }
   ],
   "source": [
    "# 3이상인 요소들의 제곱을 추출\n",
    "L = [1,2,3,4,5]\n",
    "[l**2 for l in L if l>=3]"
   ]
  },
  {
   "cell_type": "code",
   "execution_count": 19,
   "id": "518910d0",
   "metadata": {},
   "outputs": [
    {
     "data": {
      "text/plain": [
       "[2, 4, 6, 8, 10]"
      ]
     },
     "execution_count": 19,
     "metadata": {},
     "output_type": "execute_result"
    }
   ],
   "source": [
    "# 리스트 요소의 값의 2배를 추출\n",
    "[l*2 for l in L]"
   ]
  },
  {
   "cell_type": "markdown",
   "id": "ca7ded31",
   "metadata": {},
   "source": [
    "## 1.6 요소 수정하기\n",
    " - 인덱스, 슬라이싱을 이용해서 수정"
   ]
  },
  {
   "cell_type": "code",
   "execution_count": 21,
   "id": "020c1c43",
   "metadata": {},
   "outputs": [
    {
     "data": {
      "text/plain": [
       "[0, 1, 222, 3, 4, 5, 6, 7, 8, 9]"
      ]
     },
     "execution_count": 21,
     "metadata": {},
     "output_type": "execute_result"
    }
   ],
   "source": [
    "numbers = [0,1,2,3,4,5,6,7,8,9]\n",
    "numbers[2] = 222\n",
    "numbers"
   ]
  },
  {
   "cell_type": "code",
   "execution_count": 25,
   "id": "ca5bff8b",
   "metadata": {},
   "outputs": [
    {
     "data": {
      "text/plain": [
       "['xx', 'xx', 'xxx', 'xx', 'xx', 'xxx', 'xx', 'xx', 222, 3, 4, 5, 6, 7, 8, 9]"
      ]
     },
     "execution_count": 25,
     "metadata": {},
     "output_type": "execute_result"
    }
   ],
   "source": [
    "# 슬라이싱(step 부분 미포함)을 이용하여 부분 리스트를 통째로 수정\n",
    "numbers[0:2] = ['xx','xx','xxx','xx','xx']\n",
    "numbers"
   ]
  },
  {
   "cell_type": "code",
   "execution_count": 26,
   "id": "f6777296",
   "metadata": {},
   "outputs": [
    {
     "name": "stdout",
     "output_type": "stream",
     "text": [
      "수정전 : [0, 0, 0, 0, 0, 0, 0, 0, 0, 0]\n",
      "수정후 : [9, 0, 9, 0, 9, 0, 9, 0, 9, 0]\n"
     ]
    }
   ],
   "source": [
    "# 슬라이싱(step 부분 포함)을 이용하여 부분 수정시 요소 갯수가 맞아야 함\n",
    "numbers = [0]*10\n",
    "print('수정전 :', numbers)\n",
    "numbers[0::2] = [9,9,9,9,9]\n",
    "print('수정후 :', numbers)"
   ]
  },
  {
   "cell_type": "markdown",
   "id": "c2a22fc5",
   "metadata": {},
   "source": [
    "## 1.7 요소삭제\n",
    " - pop() : 가장 마지막 인덱스의 요소가 반환되고 삭제\n",
    " - pop(idx) : idx번째 요소가 반환되고 삭제\n",
    " - remove(data) : list안의 data가 삭제\n",
    " - del 리스트변수[idx] : idx번째 요소가 삭제"
   ]
  },
  {
   "cell_type": "code",
   "execution_count": 30,
   "id": "7960ebec",
   "metadata": {},
   "outputs": [
    {
     "name": "stdout",
     "output_type": "stream",
     "text": [
      "삭제한 데이터 : 5\n",
      "삭제 후 numbers : [1, 2, 3, 4]\n",
      "1번째 삭제한 데이터 : 2\n",
      "1번째 삭제 후 numbers [1, 3, 4]\n",
      "데이터 1 삭제\n",
      "데이터 1 삭제 후 numbers : [3, 4]\n",
      "del numbers[1]\n",
      "[3]\n"
     ]
    }
   ],
   "source": [
    "numbers = [1,2,3,4,5]\n",
    "print(\"삭제한 데이터 :\", numbers.pop())\n",
    "print(\"삭제 후 numbers :\", numbers)\n",
    "print(\"1번째 삭제한 데이터 :\", numbers.pop(1))\n",
    "print(\"1번째 삭제 후 numbers\", numbers)\n",
    "print(\"데이터 1 삭제\")\n",
    "numbers.remove(1)\n",
    "print(\"데이터 1 삭제 후 numbers :\", numbers)\n",
    "print(\"del numbers[1]\")\n",
    "del numbers[1]\n",
    "print(numbers)"
   ]
  },
  {
   "cell_type": "code",
   "execution_count": 31,
   "id": "af473325",
   "metadata": {},
   "outputs": [
    {
     "name": "stdout",
     "output_type": "stream",
     "text": [
      "해당 데이터는 없는 item입니다\n"
     ]
    }
   ],
   "source": [
    "# numbers.remove(9)\n",
    "if 9 in numbers:\n",
    "    numbers.remove(9)\n",
    "else:\n",
    "    print(\"해당 데이터는 없는 item입니다\")"
   ]
  },
  {
   "cell_type": "code",
   "execution_count": 32,
   "id": "035f84db",
   "metadata": {},
   "outputs": [
    {
     "data": {
      "text/plain": [
       "[]"
      ]
     },
     "execution_count": 32,
     "metadata": {},
     "output_type": "execute_result"
    }
   ],
   "source": [
    "numbers.clear() # 모든 요소를 삭제\n",
    "numbers"
   ]
  },
  {
   "cell_type": "markdown",
   "id": "22c13baa",
   "metadata": {},
   "source": [
    "## 1.8 정렬하기"
   ]
  },
  {
   "cell_type": "code",
   "execution_count": 33,
   "id": "70441bf6",
   "metadata": {},
   "outputs": [
    {
     "name": "stdout",
     "output_type": "stream",
     "text": [
      "numbers는 변경하지 않고 정렬결과 : [0, 5, 6, 8, 9]\n",
      "numbers : [9, 0, 5, 8, 6]\n"
     ]
    }
   ],
   "source": [
    "numbers = [9,0,5,8,6]\n",
    "print(\"numbers는 변경하지 않고 정렬결과 :\", sorted(numbers))\n",
    "print(\"numbers :\", numbers)"
   ]
  },
  {
   "cell_type": "code",
   "execution_count": 34,
   "id": "53893d17",
   "metadata": {},
   "outputs": [
    {
     "data": {
      "text/plain": [
       "[0, 5, 6, 8, 9]"
      ]
     },
     "execution_count": 34,
     "metadata": {},
     "output_type": "execute_result"
    }
   ],
   "source": [
    "numbers.sort() # numbers 자체가 오름차순 정렬한 결과로 바꿈\n",
    "numbers"
   ]
  },
  {
   "cell_type": "code",
   "execution_count": 35,
   "id": "a9deb2c4",
   "metadata": {},
   "outputs": [
    {
     "data": {
      "text/plain": [
       "[9, 8, 6, 5, 0]"
      ]
     },
     "execution_count": 35,
     "metadata": {},
     "output_type": "execute_result"
    }
   ],
   "source": [
    "numbers.sort(reverse=True) # numbers 자체가 내림차순 정렬한 결과로 바꿈\n",
    "numbers"
   ]
  },
  {
   "cell_type": "code",
   "execution_count": 36,
   "id": "7147d4de",
   "metadata": {},
   "outputs": [
    {
     "data": {
      "text/plain": [
       "[0, 5, 6, 8, 9]"
      ]
     },
     "execution_count": 36,
     "metadata": {},
     "output_type": "execute_result"
    }
   ],
   "source": [
    "numbers.reverse() # 리스트를 역순으로 변경\n",
    "numbers"
   ]
  },
  {
   "cell_type": "markdown",
   "id": "3e4709f6",
   "metadata": {},
   "source": [
    "## 1.9 리스트 복제"
   ]
  },
  {
   "cell_type": "code",
   "execution_count": 37,
   "id": "592cb338",
   "metadata": {},
   "outputs": [
    {
     "name": "stdout",
     "output_type": "stream",
     "text": [
      "원본i = 10, 복사본cp_i=10 / 원본주소=2625718649360, 복사본주소=2625718649360\n",
      "원본i = 10, 복사본cp_i=99 / 원본주소=2625718649360, 복사본주소=2625718652208\n"
     ]
    }
   ],
   "source": [
    "# 스칼라 데이터의 복제\n",
    "i = 10\n",
    "cp_i = i\n",
    "print(f\"원본i = {i}, 복사본cp_i={cp_i} / 원본주소={id(i)}, 복사본주소={id(cp_i)}\")\n",
    "cp_i = 99\n",
    "print(f\"원본i = {i}, 복사본cp_i={cp_i} / 원본주소={id(i)}, 복사본주소={id(cp_i)}\")"
   ]
  },
  {
   "cell_type": "code",
   "execution_count": 38,
   "id": "a69e40d0",
   "metadata": {},
   "outputs": [
    {
     "name": "stdout",
     "output_type": "stream",
     "text": [
      "원본 주소 : 2625834417728\n",
      "복제본 주소 : 2625834417728\n",
      "원본 내용 : 2625834417728\n",
      "복제된 주소 : 2625834417728\n"
     ]
    }
   ],
   "source": [
    "# 데이터 구조의 복제\n",
    "numbers = [5,6,1,9]\n",
    "new_numbers = numbers\n",
    "print(\"원본 주소 :\", id(numbers))\n",
    "print(\"복제본 주소 :\", id(new_numbers))\n",
    "new_numbers[0] = 99\n",
    "print(\"원본 내용 :\", id(numbers))\n",
    "print(\"복제된 주소 :\", id(new_numbers))"
   ]
  },
  {
   "cell_type": "code",
   "execution_count": 39,
   "id": "2abca13a",
   "metadata": {},
   "outputs": [
    {
     "name": "stdout",
     "output_type": "stream",
     "text": [
      "원본 : [1, 5, 6, 9]\n",
      "복제본 : [1, 5, 6, 9]\n",
      "원본 내용 : 2625797146688\n",
      "복제된 주소 : 2625797146688\n"
     ]
    }
   ],
   "source": [
    "# 할당\n",
    "numbers = [5,6,1,9]\n",
    "new_numbers = numbers\n",
    "new_numbers.sort()\n",
    "print(\"원본 :\", numbers)\n",
    "print(\"복제본 :\", new_numbers)\n",
    "print(\"원본 내용 :\", id(numbers))\n",
    "print(\"복제된 주소 :\", id(new_numbers))"
   ]
  },
  {
   "cell_type": "code",
   "execution_count": 41,
   "id": "addfbbcb",
   "metadata": {},
   "outputs": [
    {
     "name": "stdout",
     "output_type": "stream",
     "text": [
      "원본 : [5, 6, 1, 9]\n",
      "복제본 : [9, 6, 5, 1]\n",
      "원본 내용 : 2625834908160\n",
      "복제된 주소 : 2625834909056\n"
     ]
    }
   ],
   "source": [
    "# 리스트 복제(깊은 복사)\n",
    "numbers = [5,6,1,9]\n",
    "new_numbers = numbers.copy() # numbers를 복제\n",
    "new_numbers.sort(reverse=True) # 내림차순 정렬\n",
    "print(\"원본 :\", numbers)\n",
    "print(\"복제본 :\", new_numbers)\n",
    "print(\"원본 내용 :\", id(numbers))\n",
    "print(\"복제된 주소 :\", id(new_numbers))"
   ]
  },
  {
   "cell_type": "code",
   "execution_count": 42,
   "id": "61d06faf",
   "metadata": {},
   "outputs": [
    {
     "name": "stdout",
     "output_type": "stream",
     "text": [
      "정렬전 : ['서울', '대전', '대구', '부산', '찍고']\n",
      "정렬후 : ['대구', '대전', '부산', '서울', '찍고']\n"
     ]
    }
   ],
   "source": [
    "city = ['서울','대전','대구','부산','찍고']\n",
    "temp = city.copy()\n",
    "temp.sort()\n",
    "print(\"정렬전 :\", city)\n",
    "print(\"정렬후 :\", temp)"
   ]
  },
  {
   "cell_type": "markdown",
   "id": "148fbbea",
   "metadata": {},
   "source": [
    "# 2장 튜플\n",
    "- 리스트([])와 유사하지만 읽기전용. 수정이 필요없는 데이터에서 사용\n",
    "- 수정이 불가하므로, 튜플에서 데이터 수정, 추가, 삭제 불가\n",
    "- 제공되는 함수가 적음\n",
    "- ()이용해서 생성"
   ]
  },
  {
   "cell_type": "code",
   "execution_count": 43,
   "id": "914f64b5",
   "metadata": {},
   "outputs": [
    {
     "name": "stdout",
     "output_type": "stream",
     "text": [
      "<class 'tuple'>\n",
      "('서울', '대전', '대구', '부산', '찍고')\n"
     ]
    }
   ],
   "source": [
    "city = ('서울','대전','대구','부산','찍고')\n",
    "# 파이썬은 여러개의 값이 전달될 때 튜플 타입으로 전달\n",
    "city = '서울','대전','대구','부산','찍고'\n",
    "print(type(city))\n",
    "print(city)"
   ]
  },
  {
   "cell_type": "code",
   "execution_count": 44,
   "id": "e62b04f9",
   "metadata": {},
   "outputs": [
    {
     "data": {
      "text/plain": [
       "'서울, 대전, 대구, 부산, 찍고'"
      ]
     },
     "execution_count": 44,
     "metadata": {},
     "output_type": "execute_result"
    }
   ],
   "source": [
    "# 매개변수로 list가 오는 함수는 tuple 매체변수로 함수 사용\n",
    "\", \".join(city)"
   ]
  },
  {
   "cell_type": "code",
   "execution_count": 46,
   "id": "dbb323e9",
   "metadata": {},
   "outputs": [
    {
     "data": {
      "text/plain": [
       "-1"
      ]
     },
     "execution_count": 46,
     "metadata": {},
     "output_type": "execute_result"
    }
   ],
   "source": [
    "from lst import safe_index\n",
    "safe_index(city, '대전')"
   ]
  },
  {
   "cell_type": "code",
   "execution_count": 47,
   "id": "2279303a",
   "metadata": {},
   "outputs": [
    {
     "name": "stdout",
     "output_type": "stream",
     "text": [
      "<class 'list'>\n",
      "['서울']\n",
      "1\n"
     ]
    }
   ],
   "source": [
    "l = ['서울'] # 요소가 하나 있는 리스트\n",
    "print(type(l))\n",
    "print(l)\n",
    "print(len(l))"
   ]
  },
  {
   "cell_type": "code",
   "execution_count": 49,
   "id": "c258aefc",
   "metadata": {},
   "outputs": [
    {
     "name": "stdout",
     "output_type": "stream",
     "text": [
      "<class 'str'>\n",
      "서울\n"
     ]
    }
   ],
   "source": [
    "city = ('서울') # 요소가 하나 있는 튜플\n",
    "print(type(city))\n",
    "print(city)"
   ]
  },
  {
   "cell_type": "code",
   "execution_count": null,
   "id": "95b96bed",
   "metadata": {},
   "outputs": [],
   "source": [
    "city = ('서울',) # 요소가 하나 있는 튜플\n",
    "print(type(city))\n",
    "print(city)"
   ]
  },
  {
   "cell_type": "code",
   "execution_count": 2,
   "id": "d5bc3d5b",
   "metadata": {},
   "outputs": [
    {
     "data": {
      "text/plain": [
       "(1, 3, 6)"
      ]
     },
     "execution_count": 2,
     "metadata": {},
     "output_type": "execute_result"
    }
   ],
   "source": [
    "numbers = (1,2,3)\n",
    "min(numbers), max(numbers), sum(numbers)"
   ]
  },
  {
   "cell_type": "code",
   "execution_count": 51,
   "id": "b2dc8d72",
   "metadata": {},
   "outputs": [
    {
     "data": {
      "text/plain": [
       "1"
      ]
     },
     "execution_count": 51,
     "metadata": {},
     "output_type": "execute_result"
    }
   ],
   "source": [
    "numbers.count(2)"
   ]
  },
  {
   "cell_type": "code",
   "execution_count": 52,
   "id": "a4e26cef",
   "metadata": {},
   "outputs": [
    {
     "name": "stdout",
     "output_type": "stream",
     "text": [
      "해당 데이터 없음\n"
     ]
    }
   ],
   "source": [
    "if 4 in numbers:\n",
    "    numbers.index(4)\n",
    "else:\n",
    "    print('해당 데이터 없음')"
   ]
  },
  {
   "cell_type": "code",
   "execution_count": 8,
   "id": "626c1156",
   "metadata": {},
   "outputs": [
    {
     "data": {
      "text/plain": [
       "3"
      ]
     },
     "execution_count": 8,
     "metadata": {},
     "output_type": "execute_result"
    }
   ],
   "source": [
    "numbers = [1,2,3,2]\n",
    "numbers.index(2,2) # index(찾을데이터, 시작점)"
   ]
  },
  {
   "cell_type": "code",
   "execution_count": 14,
   "id": "37bd687f",
   "metadata": {},
   "outputs": [],
   "source": [
    "def safe_index(lst, item, start=0):\n",
    "    \"\"\"첫번째 매개변수 lst : 리스트, 튜블\n",
    "       두번째 매개변수 item : 리스트나 튜플에서 찾을 데이터\n",
    "       세번째 매개변수 start : 몇번째 index부터 찾을지 index 수(기본값 : 0).\n",
    "       item 요소가 없으면 -1 반환\"\"\"\n",
    "    return lst.index(item, start) if item in lst[start:] else -1\n",
    "#     if item in lst[start:]:\n",
    "#         return lst.index(item, start) # start번째부터 item이 있는 index를 반환\n",
    "#     return -1"
   ]
  },
  {
   "cell_type": "code",
   "execution_count": 15,
   "id": "2f3dc34b",
   "metadata": {},
   "outputs": [
    {
     "data": {
      "text/plain": [
       "3"
      ]
     },
     "execution_count": 15,
     "metadata": {},
     "output_type": "execute_result"
    }
   ],
   "source": [
    "safe_index(numbers, 2, 3)"
   ]
  },
  {
   "cell_type": "code",
   "execution_count": 12,
   "id": "b5f94839",
   "metadata": {},
   "outputs": [
    {
     "data": {
      "text/plain": [
       "10"
      ]
     },
     "execution_count": 12,
     "metadata": {},
     "output_type": "execute_result"
    }
   ],
   "source": [
    "# 위의 if문을 조건식을 이용하여 한줄 코드\n",
    "x, y = 10, 20\n",
    "def diff(x,y):\n",
    "    if x>y:\n",
    "        return x-y\n",
    "    else:\n",
    "        return y-x\n",
    "diff(30,20)"
   ]
  },
  {
   "cell_type": "code",
   "execution_count": 13,
   "id": "c4275306",
   "metadata": {},
   "outputs": [
    {
     "data": {
      "text/plain": [
       "10"
      ]
     },
     "execution_count": 13,
     "metadata": {},
     "output_type": "execute_result"
    }
   ],
   "source": [
    "x, y = 10, 20\n",
    "def diff(x,y):\n",
    "    result = x-y if x>y else y-x # if문이 참일때 값 if 조건 else if문 거짓일때 값0\n",
    "    return result\n",
    "diff(30,20)"
   ]
  },
  {
   "cell_type": "code",
   "execution_count": 16,
   "id": "bf78a67d",
   "metadata": {},
   "outputs": [
    {
     "name": "stdout",
     "output_type": "stream",
     "text": [
      "(1, 2, 3, 1, 2, 3)\n",
      "(1, 2, 3, 1, 2, 3, 1, 2, 3)\n",
      "(1, 2, 3, 1, 2, 3, 1, 2, 3)\n"
     ]
    }
   ],
   "source": [
    "numbers = (1, 2, 3)\n",
    "print(numbers + numbers) #연결\n",
    "print(3*numbers) #반복\n",
    "print(numbers*3) #반복"
   ]
  },
  {
   "cell_type": "code",
   "execution_count": 18,
   "id": "13216591",
   "metadata": {},
   "outputs": [
    {
     "data": {
      "text/plain": [
       "(144, 3136, 1156, 400)"
      ]
     },
     "execution_count": 18,
     "metadata": {},
     "output_type": "execute_result"
    }
   ],
   "source": [
    "# 짝수 요소들을 추출하여 제곱한 데이터를 튜플로 출력하시오\n",
    "numbers = (11, 12, 56, 34, 51, 23, 11, 20)\n",
    "tuple(num**2 for num in numbers if num%2==0)"
   ]
  },
  {
   "cell_type": "markdown",
   "id": "e4da1909",
   "metadata": {},
   "source": [
    "# 3장 딕셔너리\n",
    "- {}를 이용해서 키(key)-값(value)의 쌍으로 구성된 자료구조\n",
    "- 키는 유일한 값(중복 허용 안함). 키에 list는 사용 불가. 키에 tuple은 사용 가능\n",
    "- 값은 중복 가능. 모든 데이터 타입 가능\n",
    "- 인덱스를 이용한 참조는 지원 안함"
   ]
  },
  {
   "cell_type": "code",
   "execution_count": 19,
   "id": "25b91f07",
   "metadata": {},
   "outputs": [
    {
     "name": "stdout",
     "output_type": "stream",
     "text": [
      "<class 'dict'>\n",
      "{'name': '타로', 1: 22, (1, 2): [1, 2]}\n"
     ]
    }
   ],
   "source": [
    "dic = {'name':'타로', 1:22, (1,2):[1,2]}\n",
    "print(type(dic))\n",
    "print(dic)"
   ]
  },
  {
   "cell_type": "code",
   "execution_count": 20,
   "id": "b90ef373",
   "metadata": {},
   "outputs": [
    {
     "data": {
      "text/plain": [
       "3"
      ]
     },
     "execution_count": 20,
     "metadata": {},
     "output_type": "execute_result"
    }
   ],
   "source": [
    "len(dic) # 데이터 요소의 갯수"
   ]
  },
  {
   "cell_type": "code",
   "execution_count": 21,
   "id": "945e6a1a",
   "metadata": {},
   "outputs": [
    {
     "data": {
      "text/plain": [
       "{'frult': 'apple', 'number': 3, 'sport': 'tennis'}"
      ]
     },
     "execution_count": 21,
     "metadata": {},
     "output_type": "execute_result"
    }
   ],
   "source": [
    "my_favorlte = {'frult':'apple', 'number':3, 'sport':'tennis'}\n",
    "my_favorlte"
   ]
  },
  {
   "cell_type": "code",
   "execution_count": 22,
   "id": "f621d268",
   "metadata": {},
   "outputs": [
    {
     "name": "stdout",
     "output_type": "stream",
     "text": [
      "3\n",
      "3\n"
     ]
    }
   ],
   "source": [
    "# 변수(키) / 변수.get(키)\n",
    "print(my_favorlte['number'])\n",
    "print(my_favorlte.get('number'))"
   ]
  },
  {
   "cell_type": "code",
   "execution_count": 29,
   "id": "e1ce9076",
   "metadata": {},
   "outputs": [
    {
     "name": "stdout",
     "output_type": "stream",
     "text": [
      "None\n",
      "없는거야~\n"
     ]
    }
   ],
   "source": [
    "# print(my_favorlte['people']) 키목록에 없는 데이터를 참조시 에러\n",
    "print(my_favorlte.get('people')) #없는 키를 get함수로 참조시 None\n",
    "print(my_favorlte.get('people', '없는거야~')) # 없는 키를 get함수로 참조시"
   ]
  },
  {
   "cell_type": "markdown",
   "id": "36077239",
   "metadata": {},
   "source": [
    "## 딕셔너리 item 수정,추가,삭제"
   ]
  },
  {
   "cell_type": "code",
   "execution_count": 34,
   "id": "cbec5828",
   "metadata": {},
   "outputs": [
    {
     "name": "stdout",
     "output_type": "stream",
     "text": [
      "people, subject 추가후 : {'frult': 'kiwi', 'number': -99, 'sport': 'tennis', 'people': '두리상이', 'subject': 'AI', 'major': 'AI'}\n",
      "한꺼번에 추가후 : {'frult': 'kiwi', 'number': -99, 'sport': 'tennis', 'people': '두리상이', 'subject': '수학', 'major': 'AI'}\n",
      "하나씩 수정 후 : {'frult': 'mango', 'number': 7, 'sport': 'tennis', 'people': '두리상이', 'subject': '수학', 'major': 'AI'}\n",
      "한꺼번에 수정 후 : {'frult': 'kiwi', 'number': -99, 'sport': 'tennis', 'people': '두리상이', 'subject': '수학', 'major': 'AI'}\n",
      "제거 후 : {'frult': 'kiwi', 'number': -99, 'sport': 'tennis', 'people': '두리상이', 'major': 'AI'}\n"
     ]
    }
   ],
   "source": [
    "# 추가\n",
    "my_favorlte['people'] = '두리상이'\n",
    "my_favorlte['subject'] = 'AI'\n",
    "print('people, subject 추가후 :', my_favorlte)\n",
    "# 여러 item을 한꺼번에 추가\n",
    "my_favorlte.update({'subject':'수학', 'major':'AI'})\n",
    "print('한꺼번에 추가후 :', my_favorlte)\n",
    "# 한 item씩 수정\n",
    "my_favorlte['frult'] = 'mango'\n",
    "my_favorlte['number'] = 7\n",
    "print(\"하나씩 수정 후 :\", my_favorlte)\n",
    "# 여러 item을 한꺼번에 수정\n",
    "my_favorlte.update(frult='kiwi', number=-99)\n",
    "print(\"한꺼번에 수정 후 :\", my_favorlte)\n",
    "# item 제거\n",
    "if 'subject' in my_favorlte:\n",
    "    del my_favorlte['subject'] # subject item 제거\n",
    "else:\n",
    "    print(\"subject 키가 존재하지 않습니다\")\n",
    "print(\"del 제거 후 :\", my_favorlte)\n",
    "# item 제거(2)\n",
    "print('제거한 데이터 :', my_favorlte.pop('major')) # major키 값을 반환하고 제거\n",
    "if 'major' in my_favorlte:\n",
    "    print('제거한 데이터 :', my_favorlte.pop('major'))\n",
    "else:\n",
    "    print(\"major 키가 존재하지 않습니다\")"
   ]
  },
  {
   "cell_type": "code",
   "execution_count": 35,
   "id": "02745d3d",
   "metadata": {},
   "outputs": [],
   "source": [
    "# for문을 이용한 튜플 출력\n",
    "my_tuple = ('타로', 39, '010-9999-9999')"
   ]
  },
  {
   "cell_type": "code",
   "execution_count": 39,
   "id": "31d6c4fc",
   "metadata": {},
   "outputs": [
    {
     "name": "stdout",
     "output_type": "stream",
     "text": [
      "타로\t39\t010-9999-9999\t\n",
      "0번째 : 타로\t1번째 : 39\t2번째 : 010-9999-9999\t\n",
      "0번째 : 타로\t1번째 : 39\t2번째 : 010-9999-9999\t"
     ]
    }
   ],
   "source": [
    "for data in my_tuple:\n",
    "    print(data, end='\\t')\n",
    "print() # 개형\n",
    "for idx in range(len(my_tuple)):\n",
    "    print(f\"{idx}번째 : {my_tuple[idx]}\", end=\"\\t\")\n",
    "print() # 개형\n",
    "for idx, data in enumerate(my_tuple):\n",
    "    print(f\"{idx}번째 : {data}\", end=\"\\t\")"
   ]
  },
  {
   "cell_type": "code",
   "execution_count": 40,
   "id": "1f85016d",
   "metadata": {},
   "outputs": [],
   "source": [
    "my_dic = {'name':'타로', 'age':39, 'tel':'010-9999-9999'}"
   ]
  },
  {
   "cell_type": "code",
   "execution_count": 43,
   "id": "c0948039",
   "metadata": {},
   "outputs": [
    {
     "name": "stdout",
     "output_type": "stream",
     "text": [
      "name : 타로\n",
      "age : 39\n",
      "tel : 010-9999-9999\n"
     ]
    }
   ],
   "source": [
    "for key in my_dic: # 비추천\n",
    "    print(\"{} : {}\".format(key, my_dic[key]))"
   ]
  },
  {
   "cell_type": "code",
   "execution_count": 44,
   "id": "41dc053e",
   "metadata": {},
   "outputs": [
    {
     "data": {
      "text/plain": [
       "dict_keys(['name', 'age', 'tel'])"
      ]
     },
     "execution_count": 44,
     "metadata": {},
     "output_type": "execute_result"
    }
   ],
   "source": [
    "my_dic.keys() # 키 목록"
   ]
  },
  {
   "cell_type": "code",
   "execution_count": 45,
   "id": "396d36d5",
   "metadata": {},
   "outputs": [
    {
     "data": {
      "text/plain": [
       "dict_values(['타로', 39, '010-9999-9999'])"
      ]
     },
     "execution_count": 45,
     "metadata": {},
     "output_type": "execute_result"
    }
   ],
   "source": [
    "my_dic.values() # 값 목록"
   ]
  },
  {
   "cell_type": "code",
   "execution_count": 46,
   "id": "b643670d",
   "metadata": {},
   "outputs": [
    {
     "data": {
      "text/plain": [
       "dict_items([('name', '타로'), ('age', 39), ('tel', '010-9999-9999')])"
      ]
     },
     "execution_count": 46,
     "metadata": {},
     "output_type": "execute_result"
    }
   ],
   "source": [
    "my_dic.items() # 키,값 목록"
   ]
  },
  {
   "cell_type": "code",
   "execution_count": 47,
   "id": "1edc0e41",
   "metadata": {},
   "outputs": [
    {
     "name": "stdout",
     "output_type": "stream",
     "text": [
      "name:타로\tage:39\ttel:010-9999-9999\t"
     ]
    }
   ],
   "source": [
    "for key, value in my_dic.items():\n",
    "    print(\"{}:{}\".format(key, value), end='\\t')"
   ]
  },
  {
   "cell_type": "code",
   "execution_count": 48,
   "id": "9945aa3d",
   "metadata": {},
   "outputs": [
    {
     "name": "stdout",
     "output_type": "stream",
     "text": [
      "타로\t39\t010-9999-9999\t"
     ]
    }
   ],
   "source": [
    "for value in my_dic.values():\n",
    "    print(value, end='\\t')"
   ]
  },
  {
   "cell_type": "code",
   "execution_count": 49,
   "id": "ce3cf70d",
   "metadata": {},
   "outputs": [
    {
     "data": {
      "text/plain": [
       "[(0, ('name', '타로')), (1, ('age', 39)), (2, ('tel', '010-9999-9999'))]"
      ]
     },
     "execution_count": 49,
     "metadata": {},
     "output_type": "execute_result"
    }
   ],
   "source": [
    "list(enumerate(my_dic.items()))"
   ]
  },
  {
   "cell_type": "code",
   "execution_count": 57,
   "id": "6647f601",
   "metadata": {},
   "outputs": [
    {
     "name": "stdout",
     "output_type": "stream",
     "text": [
      "1. name : 타로\n",
      "2. age : 39\n",
      "3. tel : 010-9999-9999\n"
     ]
    }
   ],
   "source": [
    "for no, (key, value) in enumerate(my_dic.items()):\n",
    "    print(\"{}. {} : {}\".format(no+1, key, value))"
   ]
  },
  {
   "cell_type": "markdown",
   "id": "09f713ca",
   "metadata": {},
   "source": [
    "## in연산자"
   ]
  },
  {
   "cell_type": "code",
   "execution_count": 50,
   "id": "8e3e0cba",
   "metadata": {},
   "outputs": [
    {
     "data": {
      "text/plain": [
       "True"
      ]
     },
     "execution_count": 50,
     "metadata": {},
     "output_type": "execute_result"
    }
   ],
   "source": [
    "# tuple, list\n",
    "t = (10,20,30)\n",
    "30 in t"
   ]
  },
  {
   "cell_type": "code",
   "execution_count": 53,
   "id": "3383932b",
   "metadata": {},
   "outputs": [
    {
     "data": {
      "text/plain": [
       "False"
      ]
     },
     "execution_count": 53,
     "metadata": {},
     "output_type": "execute_result"
    }
   ],
   "source": [
    "dic={'name' : '타로', 'age':30}\n",
    "'타로' in dic # 딕셔너리에서의 in연산자 : key가 있는지 여부 반환"
   ]
  },
  {
   "cell_type": "code",
   "execution_count": 54,
   "id": "ea48f5c0",
   "metadata": {},
   "outputs": [
    {
     "data": {
      "text/plain": [
       "True"
      ]
     },
     "execution_count": 54,
     "metadata": {},
     "output_type": "execute_result"
    }
   ],
   "source": [
    "'타로' in dic.values()"
   ]
  },
  {
   "cell_type": "markdown",
   "id": "0b6a4545",
   "metadata": {},
   "source": [
    "## 복제하기"
   ]
  },
  {
   "cell_type": "code",
   "execution_count": 59,
   "id": "f157ab04",
   "metadata": {},
   "outputs": [
    {
     "name": "stdout",
     "output_type": "stream",
     "text": [
      "my_favorlte 주소 : 2477510448896\n",
      "new_favorlte 주소 : 2477510449664\n"
     ]
    }
   ],
   "source": [
    "my_favorlte = {'frule':'apple', 'number':3}\n",
    "new_favorlte=my_favorlte.copy()\n",
    "print(\"my_favorlte 주소 :\", id(my_favorlte))\n",
    "print(\"new_favorlte 주소 :\", id(new_favorlte))"
   ]
  },
  {
   "cell_type": "code",
   "execution_count": 60,
   "id": "75a4190a",
   "metadata": {},
   "outputs": [
    {
     "name": "stdout",
     "output_type": "stream",
     "text": [
      "원본 : {'frule': 'apple', 'number': 3}\n",
      "수정본 : {'frule': 'apple', 'number': 3, 'frult': '과일은 다 좋아', 'people': '타로'}\n"
     ]
    }
   ],
   "source": [
    "new_favorlte['frult'] = '과일은 다 좋아'\n",
    "new_favorlte['people'] = \"타로\"\n",
    "print('원본 :', my_favorlte)\n",
    "print('수정본 :', new_favorlte)"
   ]
  },
  {
   "cell_type": "markdown",
   "id": "402a1dff",
   "metadata": {},
   "source": [
    "# 4장 셋\n",
    " - 중복을 허용하지 않는 집합(순서X)\n",
    " - {}나 set()함수를 이용해서 셋 생성 ex. set([1,2]), set({'name' : '홍길동'})\n",
    " - 추가 : add(), update()\n",
    " - 삭제 : remove()\n",
    " - 집합연산자 : &교집합, |합집합, -차집합"
   ]
  },
  {
   "cell_type": "code",
   "execution_count": 61,
   "id": "bd002ebe",
   "metadata": {},
   "outputs": [
    {
     "data": {
      "text/plain": [
       "{'apple', 'banana', 'orenge'}"
      ]
     },
     "execution_count": 61,
     "metadata": {},
     "output_type": "execute_result"
    }
   ],
   "source": [
    "frults = {'banana', 'orenge', 'apple', 'apple'}\n",
    "frults"
   ]
  },
  {
   "cell_type": "code",
   "execution_count": 62,
   "id": "f36bb0e4",
   "metadata": {},
   "outputs": [
    {
     "data": {
      "text/plain": [
       "{'add', 'age', 'name'}"
      ]
     },
     "execution_count": 62,
     "metadata": {},
     "output_type": "execute_result"
    }
   ],
   "source": [
    "# set함수를 이용해서 딕셔너리를 셋으로 전환. 전환할 때는 key만 적용\n",
    "s2 = set({'name':'타로', 'age':37, 'add':'서울'})\n",
    "s2"
   ]
  },
  {
   "cell_type": "markdown",
   "id": "d1a767d7",
   "metadata": {},
   "source": [
    "## 추가하기\n",
    "- add() : 기본자료형, 튜플 데이터 하나 추가. list,dic,set유형은 add함수 사용 불가\n",
    "- update() : 리스트, 튜플, 딕셔너리, 셋 요소를 하나씩 따로 추가. dict사용시 key만 추가"
   ]
  },
  {
   "cell_type": "code",
   "execution_count": 65,
   "id": "0962b622",
   "metadata": {},
   "outputs": [
    {
     "name": "stdout",
     "output_type": "stream",
     "text": [
      "add() 후 : {1, 2, 3, 4, (6, 7), '오'}\n"
     ]
    }
   ],
   "source": [
    "s = {1,2,3}\n",
    "s.add(4)\n",
    "s.add('오')\n",
    "s.add((6,7))\n",
    "print(\"add() 후 :\", s)"
   ]
  },
  {
   "cell_type": "code",
   "execution_count": 69,
   "id": "231dc43e",
   "metadata": {},
   "outputs": [
    {
     "name": "stdout",
     "output_type": "stream",
     "text": [
      "True add후 : {1, 2, 3}\n"
     ]
    }
   ],
   "source": [
    "# 1이 set에 있는 상태에서 True 추가\n",
    "s ={1,2,3,1,1}\n",
    "s.add(True)\n",
    "print(\"True add후 :\", s)"
   ]
  },
  {
   "cell_type": "code",
   "execution_count": 70,
   "id": "37ea65d9",
   "metadata": {},
   "outputs": [
    {
     "name": "stdout",
     "output_type": "stream",
     "text": [
      "0 add후 : {False, 1, 2}\n"
     ]
    }
   ],
   "source": [
    "# 0이 set에 있는 상태에서 False 추가\n",
    "s ={False,1,2}\n",
    "s.add(0)\n",
    "print(\"0 add후 :\", s)"
   ]
  },
  {
   "cell_type": "code",
   "execution_count": 68,
   "id": "84523b64",
   "metadata": {},
   "outputs": [
    {
     "name": "stdout",
     "output_type": "stream",
     "text": [
      "update 후 : {1, 2, 3, 4, 5, 6, (6, 7), '오', 'age', 'name'}\n"
     ]
    }
   ],
   "source": [
    "s.update([4,5,6])\n",
    "s.update({'name':'홍', 'age':30})\n",
    "print(\"update 후 :\", s)"
   ]
  },
  {
   "cell_type": "markdown",
   "id": "21e2965e",
   "metadata": {},
   "source": [
    "## 삭제하기\n",
    " - remove() :"
   ]
  },
  {
   "cell_type": "code",
   "execution_count": 71,
   "id": "72fd5954",
   "metadata": {},
   "outputs": [
    {
     "data": {
      "text/plain": [
       "{1, 3}"
      ]
     },
     "execution_count": 71,
     "metadata": {},
     "output_type": "execute_result"
    }
   ],
   "source": [
    "s = {1,2,3,1,1}\n",
    "s.remove(2)\n",
    "s"
   ]
  },
  {
   "cell_type": "code",
   "execution_count": 72,
   "id": "702f1bbd",
   "metadata": {},
   "outputs": [
    {
     "name": "stdout",
     "output_type": "stream",
     "text": [
      "해당 데이터가 없어요~\n"
     ]
    }
   ],
   "source": [
    "# s.remove(5) #없는 요소를 삭제할 경우 에러\n",
    "if 5 in s:\n",
    "    s.remove(5)\n",
    "else:\n",
    "    print(\"해당 데이터가 없어요~\")"
   ]
  },
  {
   "cell_type": "markdown",
   "id": "7053275d",
   "metadata": {},
   "source": [
    "## 집합연산자\n",
    "    &(교집합), |(합집합), -(차집합)"
   ]
  },
  {
   "cell_type": "code",
   "execution_count": 73,
   "id": "e2d5c95e",
   "metadata": {},
   "outputs": [
    {
     "name": "stdout",
     "output_type": "stream",
     "text": [
      "s1 = {1, 2, 3, 4, 5}\n",
      "s2 = {3, 4, 5, 6, 7}\n",
      "s1&s2 = {3, 4, 5}\n",
      "s1|s2 = {1, 2, 3, 4, 5, 6, 7}\n",
      "s1-s2 = {1, 2}\n"
     ]
    }
   ],
   "source": [
    "s1 = {1,2,3,4,5}\n",
    "s2 = {3,4,5,6,7}\n",
    "print(\"s1 =\", s1)\n",
    "print(\"s2 =\", s2)\n",
    "print(\"s1&s2 =\", s1&s2)\n",
    "print(\"s1|s2 =\", s1|s2)\n",
    "print(\"s1-s2 =\", s1-s2)"
   ]
  },
  {
   "cell_type": "code",
   "execution_count": 74,
   "id": "00267bdf",
   "metadata": {},
   "outputs": [
    {
     "name": "stdout",
     "output_type": "stream",
     "text": [
      "1\n",
      "2\n",
      "3\n",
      "4\n",
      "5\n"
     ]
    }
   ],
   "source": [
    "for s in s1:\n",
    "    print(s)"
   ]
  },
  {
   "cell_type": "markdown",
   "id": "5a85eabf",
   "metadata": {},
   "source": [
    "# 5장 enumerate\n",
    "- 반복자.반복문을 처리할 때 사용할 순서객체를 생성하는 함수\n",
    "- 리스트, 튜플, 딕셔너리, 셋을 for문에 사용시"
   ]
  },
  {
   "cell_type": "code",
   "execution_count": 75,
   "id": "0d9f8a65",
   "metadata": {},
   "outputs": [
    {
     "data": {
      "text/plain": [
       "[(0, 'orenge'), (1, 'banana'), (2, 'apple')]"
      ]
     },
     "execution_count": 75,
     "metadata": {},
     "output_type": "execute_result"
    }
   ],
   "source": [
    "list(enumerate(frults))"
   ]
  },
  {
   "cell_type": "code",
   "execution_count": 76,
   "id": "88111d2e",
   "metadata": {},
   "outputs": [
    {
     "name": "stdout",
     "output_type": "stream",
     "text": [
      "1, orenge\n",
      "2, banana\n",
      "3, apple\n"
     ]
    }
   ],
   "source": [
    "for no, frult in enumerate(frults):\n",
    "    print(\"{}, {}\".format(no+1, frult))"
   ]
  },
  {
   "cell_type": "code",
   "execution_count": 79,
   "id": "d4db08d8",
   "metadata": {},
   "outputs": [],
   "source": [
    "names = ['길동', '길자', '길숙']\n",
    "tels = ['02-999-9999', '02-888-8888', '02-777-7777']\n",
    "adds = ['서울', '판교', '하남']"
   ]
  },
  {
   "cell_type": "code",
   "execution_count": 80,
   "id": "65aefea6",
   "metadata": {},
   "outputs": [
    {
     "name": "stdout",
     "output_type": "stream",
     "text": [
      "1, 길동님의 연락처는 02-999-9999이고, 서울살아요\n",
      "2, 길자님의 연락처는 02-888-8888이고, 판교살아요\n",
      "3, 길숙님의 연락처는 02-777-7777이고, 하남살아요\n"
     ]
    }
   ],
   "source": [
    "for idx in range(len(names)):\n",
    "    print(\"{}, {}님의 연락처는 {}이고, {}살아요\".format(idx+1, names[idx], tels[idx], adds[idx]))"
   ]
  },
  {
   "cell_type": "code",
   "execution_count": 81,
   "id": "0474a23c",
   "metadata": {},
   "outputs": [
    {
     "data": {
      "text/plain": [
       "[('길동', '02-999-9999', '서울'),\n",
       " ('길자', '02-888-8888', '판교'),\n",
       " ('길숙', '02-777-7777', '하남')]"
      ]
     },
     "execution_count": 81,
     "metadata": {},
     "output_type": "execute_result"
    }
   ],
   "source": [
    "list(zip(names, tels, adds))"
   ]
  },
  {
   "cell_type": "code",
   "execution_count": 83,
   "id": "c7b15f62",
   "metadata": {},
   "outputs": [
    {
     "name": "stdout",
     "output_type": "stream",
     "text": [
      "길동님의 연락처는 02-999-9999이고, 서울살아요\n",
      "길자님의 연락처는 02-888-8888이고, 판교살아요\n",
      "길숙님의 연락처는 02-777-7777이고, 하남살아요\n"
     ]
    }
   ],
   "source": [
    "for name, tel, add in zip(names,tels,adds):\n",
    "    print(f\"{name}님의 연락처는 {tel}이고, {add}살아요\")"
   ]
  },
  {
   "cell_type": "code",
   "execution_count": 84,
   "id": "13cad7ab",
   "metadata": {},
   "outputs": [
    {
     "name": "stdout",
     "output_type": "stream",
     "text": [
      "0. 길동님의 연락처는 02-999-9999이고, 서울살아요\n",
      "1. 길자님의 연락처는 02-888-8888이고, 판교살아요\n",
      "2. 길숙님의 연락처는 02-777-7777이고, 하남살아요\n"
     ]
    }
   ],
   "source": [
    "for idx, (name, tel, add) in enumerate(zip(names, tels, adds)):\n",
    "    print(f\"{idx}. {name}님의 연락처는 {tel}이고, {add}살아요\")"
   ]
  },
  {
   "cell_type": "code",
   "execution_count": 87,
   "id": "a839e278",
   "metadata": {},
   "outputs": [
    {
     "data": {
      "text/plain": [
       "[{'name': '길동', 'tel': '02-999-9999', 'add': '서울'},\n",
       " {'name': '길자', 'tel': '02-888-8888', 'add': '판교'},\n",
       " {'name': '길숙', 'tel': '02-777-7777', 'add': '하남'}]"
      ]
     },
     "execution_count": 87,
     "metadata": {},
     "output_type": "execute_result"
    }
   ],
   "source": [
    "members = [] # 딕셔너리 리스트\n",
    "for name, tel, add in zip(names, tels, adds):\n",
    "    member = {'name': name, 'tel':tel, 'add':add}\n",
    "    members.append(member)\n",
    "members"
   ]
  },
  {
   "cell_type": "code",
   "execution_count": 89,
   "id": "f44cae9f",
   "metadata": {},
   "outputs": [
    {
     "data": {
      "text/plain": [
       "[{'rank': 1, 'name': '길동', 'tel': '02-999-9999', 'add': '서울'},\n",
       " {'rank': 2, 'name': '길자', 'tel': '02-888-8888', 'add': '판교'},\n",
       " {'rank': 3, 'name': '길숙', 'tel': '02-777-7777', 'add': '하남'}]"
      ]
     },
     "execution_count": 89,
     "metadata": {},
     "output_type": "execute_result"
    }
   ],
   "source": [
    "members = []\n",
    "for idx, (name, tel, add) in enumerate(zip(names, tels, adds)):\n",
    "    member = {'rank':idx+1, 'name': name, 'tel':tel, 'add':add}\n",
    "    members.append(member)\n",
    "members"
   ]
  },
  {
   "cell_type": "code",
   "execution_count": null,
   "id": "21d84c05",
   "metadata": {},
   "outputs": [],
   "source": []
  },
  {
   "cell_type": "markdown",
   "id": "c8b7b90d",
   "metadata": {},
   "source": [
    "# 연습문제"
   ]
  },
  {
   "cell_type": "markdown",
   "id": "4df74a85",
   "metadata": {},
   "source": [
    "- 다음 리스트가 주어졌을 경우 요구사항대로 코드를 작성하시오\n",
    "```\n",
    "numbers = [1,2,3,4,5,6,7,8,9,10]\n",
    "```"
   ]
  },
  {
   "cell_type": "markdown",
   "id": "701a2e8a",
   "metadata": {},
   "source": [
    "1. 숫자 100을 맨 뒤에 추가하세요"
   ]
  },
  {
   "cell_type": "code",
   "execution_count": null,
   "id": "45a85b8a",
   "metadata": {},
   "outputs": [],
   "source": []
  },
  {
   "cell_type": "markdown",
   "id": "9fdc759a",
   "metadata": {},
   "source": [
    "2. 다음 리스트를 numbers리스트 맨 뒤에 추가하세요\n",
    "```\n",
    "data=[200,300,400,500]\n",
    "```"
   ]
  },
  {
   "cell_type": "code",
   "execution_count": null,
   "id": "f87a2ad0",
   "metadata": {},
   "outputs": [],
   "source": []
  },
  {
   "cell_type": "markdown",
   "id": "0d16f6ba",
   "metadata": {},
   "source": [
    "3. 처음 다섯 개 숫자만 출력하세요"
   ]
  },
  {
   "cell_type": "code",
   "execution_count": null,
   "id": "05c773ff",
   "metadata": {},
   "outputs": [],
   "source": []
  },
  {
   "cell_type": "markdown",
   "id": "e5cb9cd6",
   "metadata": {},
   "source": [
    "4. 리스트에서 짝수 번째 데이터만 출력하세요"
   ]
  },
  {
   "cell_type": "code",
   "execution_count": null,
   "id": "7e01f09d",
   "metadata": {},
   "outputs": [],
   "source": []
  },
  {
   "cell_type": "markdown",
   "id": "189f3cea",
   "metadata": {},
   "source": [
    "5. 짝수번째 데이터를 모두 0으로 바꾸세요"
   ]
  },
  {
   "cell_type": "code",
   "execution_count": null,
   "id": "59ad1649",
   "metadata": {},
   "outputs": [],
   "source": []
  },
  {
   "cell_type": "markdown",
   "id": "a0cc02e0",
   "metadata": {},
   "source": [
    "6. 데이터를 역순으로 나열하세요(내림차순 정렬이 아닙니다)"
   ]
  },
  {
   "cell_type": "code",
   "execution_count": null,
   "id": "97739a5b",
   "metadata": {},
   "outputs": [],
   "source": []
  },
  {
   "cell_type": "markdown",
   "id": "37b702c7",
   "metadata": {},
   "source": [
    "- 다음 딕셔너리 데이터가 주어졌을 경우 요구사항대로 코드를 작성하세요\n",
    "```\n",
    "member_info={\"name\":\"홍길동\", \"age\":20, \"address\":\"서울시 마포구\",\"score\":90}\n",
    "```"
   ]
  },
  {
   "cell_type": "markdown",
   "id": "15365db0",
   "metadata": {},
   "source": [
    "7. address값을 출력하세요"
   ]
  },
  {
   "cell_type": "code",
   "execution_count": null,
   "id": "8577cda9",
   "metadata": {},
   "outputs": [],
   "source": []
  },
  {
   "cell_type": "markdown",
   "id": "cfc34449",
   "metadata": {},
   "source": [
    "8. score를 출력하고 member_info 딕셔너리에서 삭제하세요"
   ]
  },
  {
   "cell_type": "code",
   "execution_count": null,
   "id": "b010ebff",
   "metadata": {},
   "outputs": [],
   "source": []
  },
  {
   "cell_type": "markdown",
   "id": "09aee060",
   "metadata": {},
   "source": [
    "9. address를 \"서울시 서대문구\"로 변경하세요"
   ]
  },
  {
   "cell_type": "code",
   "execution_count": null,
   "id": "c06abf42",
   "metadata": {},
   "outputs": [],
   "source": []
  },
  {
   "cell_type": "markdown",
   "id": "69c12d8d",
   "metadata": {},
   "source": [
    "10. member_info 딕셔너리 데이터의 값을 리스트로 출력하세요"
   ]
  },
  {
   "cell_type": "code",
   "execution_count": null,
   "id": "fc71c18b",
   "metadata": {},
   "outputs": [],
   "source": []
  },
  {
   "cell_type": "markdown",
   "id": "40cff72a",
   "metadata": {},
   "source": [
    "# 연습문제(서술형)"
   ]
  },
  {
   "cell_type": "markdown",
   "id": "9cba844c",
   "metadata": {},
   "source": [
    "1. 다음 코드를 실행했을 때 출력되는 것은\n",
    "```\n",
    "L1 = (“orange”,”apple”,”banana”,”kiwi\")\n",
    "new_list=[i for i in L1 if len(i) )>5]\n",
    "print(new_list)\n",
    "```"
   ]
  },
  {
   "cell_type": "code",
   "execution_count": null,
   "id": "632320ba",
   "metadata": {},
   "outputs": [],
   "source": []
  },
  {
   "cell_type": "markdown",
   "id": "04c915c5",
   "metadata": {},
   "source": [
    "2. 다음 코드와 실행결과가 잘못 짝지어진 것은\n",
    "```\n",
    "① print(list(range(10))) -[0,1,2,3,4,5,6,7,8,9]\n",
    "② print(list(range(5,10))) -[5,6,7,8,9]\n",
    "③ print(list(range(10,0,-1))) -[9,8,7,6,5,4,3,2,1,0]\n",
    "④ print(list(range(10,20,2))) –[10,12,14,16,18]\n",
    "```"
   ]
  },
  {
   "cell_type": "code",
   "execution_count": null,
   "id": "cd67a184",
   "metadata": {},
   "outputs": [],
   "source": []
  },
  {
   "cell_type": "markdown",
   "id": "995f6eac",
   "metadata": {},
   "source": [
    "3. 다음 구문에 의해 출력되는 것은\n",
    "```\n",
    "numbers_2d =[[1,2,3,4,5], [10,20,30,40],[1,3,5],[2,]]\n",
    "len(numbers_2d[3]\n",
    "```"
   ]
  },
  {
   "cell_type": "code",
   "execution_count": null,
   "id": "8b1cea78",
   "metadata": {},
   "outputs": [],
   "source": []
  },
  {
   "cell_type": "markdown",
   "id": "eb43807f",
   "metadata": {},
   "source": [
    "4. 다음 코드의 실행결과가 나올 수 있는 빈칸에 들어갈 함수 이름은\n",
    "```\n",
    "numbers = [1,2,3,4,5]\n",
    "numbers.__________([10,20,30,40,50])\n",
    "numbers\n",
    "결과: [1,2,3,4,5,10,20,30,40,50]\n",
    "```"
   ]
  },
  {
   "cell_type": "code",
   "execution_count": null,
   "id": "10987384",
   "metadata": {},
   "outputs": [],
   "source": []
  },
  {
   "cell_type": "markdown",
   "id": "318c458f",
   "metadata": {},
   "source": [
    "5. 다음 구문을 실행할 때 결과는\n",
    "```\n",
    "numbers = list(range(10))\n",
    "numbers[::2]= [0] * len(numbers[::2])\n",
    "print(numbers)\n",
    "```"
   ]
  },
  {
   "cell_type": "code",
   "execution_count": null,
   "id": "6a27c271",
   "metadata": {},
   "outputs": [],
   "source": []
  },
  {
   "cell_type": "markdown",
   "id": "411e8736",
   "metadata": {},
   "source": [
    "6. 다음 구문을 실행할 때 결과는\n",
    "```\n",
    "numbers = [0,1,2,3,4,5,6,7,8,9]\n",
    "numbers[::2]= numbers[5:]\n",
    "print(numbers)\n",
    "```"
   ]
  },
  {
   "cell_type": "code",
   "execution_count": null,
   "id": "dc3eae4b",
   "metadata": {},
   "outputs": [],
   "source": []
  },
  {
   "cell_type": "markdown",
   "id": "1fbe4f8a",
   "metadata": {},
   "source": [
    "7. 다음 구문을 실행할 때 결과는\n",
    "```\n",
    "numbers = [0, 1, 2, 3, 4, 5, 6, 7, 8, 9]\n",
    "numbers[::2]= numbers[:5]\n",
    "print(numbers)\n",
    "```"
   ]
  },
  {
   "cell_type": "code",
   "execution_count": null,
   "id": "16821d2d",
   "metadata": {},
   "outputs": [],
   "source": []
  },
  {
   "cell_type": "markdown",
   "id": "8b428963",
   "metadata": {},
   "source": [
    "8. 다음 데이터에서 10 을 출력할 수 없는 구문은\n",
    "```\n",
    "my_dic = {“a”:10, “b”:20, “c”:30}\n",
    "① my_dic [0]\n",
    "② my_dic [‘a']\n",
    "③ list( my_dic.items ())[0][1]\n",
    "④ list( my_dic.values ())[0]\n",
    "⑤ my_dic.get (‘a')\n",
    "```"
   ]
  },
  {
   "cell_type": "code",
   "execution_count": null,
   "id": "7ff7b4c9",
   "metadata": {},
   "outputs": [],
   "source": []
  },
  {
   "cell_type": "markdown",
   "id": "fe4dcb9a",
   "metadata": {},
   "source": [
    "9. 다음 프로그램의 결과를 출력하시오\n",
    "```\n",
    "fruits = [ ‘apple’, ‘banana’, ‘orange’]\n",
    "x, y, z = fruits\n",
    "print(x)\n",
    "print(y)\n",
    "print(z)\n",
    "```"
   ]
  },
  {
   "cell_type": "code",
   "execution_count": null,
   "id": "17e3cd07",
   "metadata": {},
   "outputs": [],
   "source": []
  },
  {
   "cell_type": "markdown",
   "id": "17b5b704",
   "metadata": {},
   "source": [
    "10. 다음 프로그램의 결과를 출력하시오\n",
    "```\n",
    "fruits = [ ‘apple’, ‘banana’, ‘orange’]\n",
    "print( len (frults)\n",
    "```"
   ]
  },
  {
   "cell_type": "code",
   "execution_count": null,
   "id": "0fabb5e4",
   "metadata": {},
   "outputs": [],
   "source": []
  },
  {
   "cell_type": "markdown",
   "id": "af5f1937",
   "metadata": {},
   "source": [
    "11. 파이썬에서 함수를 만들기 위해 선언하는 단어는"
   ]
  },
  {
   "cell_type": "code",
   "execution_count": null,
   "id": "0eeaa14a",
   "metadata": {},
   "outputs": [],
   "source": []
  },
  {
   "cell_type": "markdown",
   "id": "e0512a43",
   "metadata": {},
   "source": [
    "## 변수타입들\n",
    "<img src=\"https://pynative.com/wp-content/uploads/2021/02/python-data-types.jpg\"\n",
    "              style=\"float:left\"\n",
    "              width=\"500\">"
   ]
  },
  {
   "cell_type": "code",
   "execution_count": null,
   "id": "d3832bcf",
   "metadata": {},
   "outputs": [],
   "source": []
  }
 ],
 "metadata": {
  "kernelspec": {
   "display_name": "Python 3 (ipykernel)",
   "language": "python",
   "name": "python3"
  },
  "language_info": {
   "codemirror_mode": {
    "name": "ipython",
    "version": 3
   },
   "file_extension": ".py",
   "mimetype": "text/x-python",
   "name": "python",
   "nbconvert_exporter": "python",
   "pygments_lexer": "ipython3",
   "version": "3.10.9"
  },
  "toc": {
   "base_numbering": 1,
   "nav_menu": {},
   "number_sections": false,
   "sideBar": true,
   "skip_h1_title": false,
   "title_cell": "Table of Contents",
   "title_sidebar": "Contents",
   "toc_cell": false,
   "toc_position": {
    "height": "calc(100% - 180px)",
    "left": "10px",
    "top": "150px",
    "width": "253.8px"
   },
   "toc_section_display": true,
   "toc_window_display": true
  }
 },
 "nbformat": 4,
 "nbformat_minor": 5
}
