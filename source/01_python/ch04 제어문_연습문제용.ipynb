{
 "cells": [
  {
   "cell_type": "code",
   "execution_count": 1,
   "id": "8c51408a",
   "metadata": {},
   "outputs": [
    {
     "data": {
      "text/html": [
       "\n",
       "<style>\n",
       "div.container{width:90% !important;}\n",
       "div.cell.code_cell.rendered{width:100%;}\n",
       "div.input_prompt{padding:0px;}\n",
       "div.CodeMirror {font-family:Consolas; font-size:16pt;}\n",
       "div.text_cell_render.rendered_html{font-size:16pt;}\n",
       "div.output {font-size:12pt; font-weight:bold;}\n",
       "div.input {font-family:Consolas; font-size:16pt;}\n",
       "div.prompt {min-width:70px;}\n",
       "div#toc-wrapper{padding-top:120px;}\n",
       "div.text_cell_render ul li{font-size:16pt;padding:5px;}\n",
       "table.dataframe{font-size:16px;}\n",
       "</style>\n"
      ],
      "text/plain": [
       "<IPython.core.display.HTML object>"
      ]
     },
     "metadata": {},
     "output_type": "display_data"
    }
   ],
   "source": [
    "from IPython.display import display, HTML\n",
    "display(HTML(\"\"\"\n",
    "<style>\n",
    "div.container{width:90% !important;}\n",
    "div.cell.code_cell.rendered{width:100%;}\n",
    "div.input_prompt{padding:0px;}\n",
    "div.CodeMirror {font-family:Consolas; font-size:16pt;}\n",
    "div.text_cell_render.rendered_html{font-size:16pt;}\n",
    "div.output {font-size:12pt; font-weight:bold;}\n",
    "div.input {font-family:Consolas; font-size:16pt;}\n",
    "div.prompt {min-width:70px;}\n",
    "div#toc-wrapper{padding-top:120px;}\n",
    "div.text_cell_render ul li{font-size:16pt;padding:5px;}\n",
    "table.dataframe{font-size:16px;}\n",
    "</style>\n",
    "\"\"\"))"
   ]
  },
  {
   "cell_type": "markdown",
   "id": "72fd6497",
   "metadata": {},
   "source": [
    "# <b><font size=\"7\" color=\"red\">ch04. 제어문</font></b>\n",
    "- 조건문 : if문\n",
    "- 반복문 : for문(반복횟수), while(조건)\n",
    "- **모두 중첩가능**"
   ]
  },
  {
   "cell_type": "markdown",
   "id": "fe5f3e49",
   "metadata": {},
   "source": [
    "# 1장 조건문(if)\n",
    "```\n",
    "if 조건1:\n",
    "    조건1이 True일 경우 수행할 명령어들(들여쓰기 중요. if절 단독 가능)\n",
    "elif 조건2:\n",
    "    조건1이 False이고, 조건2가 True일 경우 수행할 명령어들\n",
    "else:\n",
    "    모든 조건 False일 경우 수행할 명령어들(elif나 else는 단독 사용 불가)\n",
    "```"
   ]
  },
  {
   "cell_type": "code",
   "execution_count": 8,
   "id": "2f68f551",
   "metadata": {},
   "outputs": [
    {
     "name": "stdout",
     "output_type": "stream",
     "text": [
      "점수를 입력하세요 :89\n",
      "분발하세요\n",
      "공부좀 해라\n"
     ]
    }
   ],
   "source": [
    "score = int(input('점수를 입력하세요 :'))\n",
    "if 100>=score>=90:\n",
    "    print('참 잘했어요')\n",
    "    print('다음에도 기대할게요')\n",
    "# else:\n",
    "#     print('재시험 ㄱㄱ')\n",
    "#     print('홧팅')\n",
    "elif 89>=score>=60:\n",
    "    print('분발하세요')\n",
    "    print('공부좀 해라')\n",
    "else:\n",
    "    print('재시험 ㄱㄱ')\n",
    "    print('홧팅')"
   ]
  },
  {
   "cell_type": "code",
   "execution_count": 23,
   "id": "aed3a2da",
   "metadata": {},
   "outputs": [
    {
     "ename": "SyntaxError",
     "evalue": "invalid syntax (939981629.py, line 28)",
     "output_type": "error",
     "traceback": [
      "\u001b[1;36m  Cell \u001b[1;32mIn[23], line 28\u001b[1;36m\u001b[0m\n\u001b[1;33m    else:\u001b[0m\n\u001b[1;37m    ^\u001b[0m\n\u001b[1;31mSyntaxError\u001b[0m\u001b[1;31m:\u001b[0m invalid syntax\n"
     ]
    }
   ],
   "source": [
    "# ex. 점수를 입력받아 학점출력(A,B,C,D,F, 유효하지 않는 점수)\n",
    "# score = int(input('점수를 입력하세요 :'))\n",
    "# if 100>=score>=90:\n",
    "#     print(f'입력하신 점수는 {score}이고 A학점 입니다')\n",
    "# elif 89>=score>=80:\n",
    "#     print(f'입력하신 점수는 {score}이고 B학점 입니다')\n",
    "# elif 79>=score>=70:\n",
    "#     print(f'입력하신 점수는 {score}이고 C학점 입니다')\n",
    "# elif 69>=score>=60:\n",
    "#     print(f'입력하신 점수는 {score}이고 D학점 입니다')\n",
    "# elif 0<=score<=59:\n",
    "#     print(f'입력하신 점수는 {score}이고 F학점 입니다')\n",
    "# else:\n",
    "#     print('유효하지 않는 점수입니다')\n",
    "\n",
    "score = int(input('점수를 입력하세요 :'))\n",
    "if 100>=score>=90:\n",
    "    lv = 'A학점'\n",
    "elif 89>=score>=80:\n",
    "    lv = 'B학점'\n",
    "elif 79>=score>=70:\n",
    "    lv = 'C학점'\n",
    "elif 69>=score>=60:\n",
    "    lv = 'D학점'\n",
    "elif 0<=score<=59:\n",
    "    lv = 'F학점'\n",
    "else:\n",
    "    lv = '유효하지 않는 점수입니다'\n",
    "print(f\"입력하신 점수는 {score}이고 {lv}입니다\")"
   ]
  },
  {
   "cell_type": "markdown",
   "id": "e2a4860d",
   "metadata": {},
   "source": [
    "# 2장 반복문\n",
    "## 2.1 for-in문\n",
    "\n",
    "```\n",
    "for 임수변수 in 나열가능한자료:\n",
    "    반복할 문장\n",
    "else:\n",
    "    나열가능한자료를 다 소요하여 for블록을 다 수행한 후, 최종 한번 실행할 문장들\n",
    "    for문안의 break를 수행할 경우, else를 수행하지 않음(else는 선택)\n",
    "```"
   ]
  },
  {
   "cell_type": "code",
   "execution_count": 26,
   "id": "3c9b225c",
   "metadata": {},
   "outputs": [
    {
     "name": "stdout",
     "output_type": "stream",
     "text": [
      "1\t3\t5\t7\t9\tDONE\n",
      "END\n"
     ]
    }
   ],
   "source": [
    "for i in range(1,10,2):\n",
    "    print(i, end='\\t')\n",
    "else:\n",
    "    print('DONE')\n",
    "print('END')"
   ]
  },
  {
   "cell_type": "code",
   "execution_count": 28,
   "id": "6159a35a",
   "metadata": {},
   "outputs": [
    {
     "name": "stdout",
     "output_type": "stream",
     "text": [
      "0\t1\t2\t3\t4\tEND\n"
     ]
    }
   ],
   "source": [
    "for i in range(10):\n",
    "    if i==5:\n",
    "        break # 현재 반복문을 빠져나가\n",
    "    print(i, end='\\t')\n",
    "else:\n",
    "    print('\\nDONE')\n",
    "print('END')"
   ]
  },
  {
   "cell_type": "code",
   "execution_count": 29,
   "id": "a2b1ee0e",
   "metadata": {},
   "outputs": [
    {
     "name": "stdout",
     "output_type": "stream",
     "text": [
      "1~100까지 합은 5050\n"
     ]
    }
   ],
   "source": [
    "# 1~100까지 합을 계산하고 출력하세요(for문)\n",
    "sum = 0 #누적변수\n",
    "for i in range(1, 101):\n",
    "    sum += i # sum = sum+i\n",
    "else:\n",
    "    print(\"1~100까지 합은\", sum)"
   ]
  },
  {
   "cell_type": "code",
   "execution_count": 31,
   "id": "b3293e12",
   "metadata": {},
   "outputs": [
    {
     "name": "stdout",
     "output_type": "stream",
     "text": [
      "1~100까지 짝수들의 합은 2550\n"
     ]
    }
   ],
   "source": [
    "# 1~100까지 짝수들의 합을 계산하고 출력하세요(for문)\n",
    "sum = 0\n",
    "for i in range(1, 101):\n",
    "    if i%2==0:\n",
    "        sum += i\n",
    "else:\n",
    "    print(\"1~100까지 짝수들의 합은\", sum)"
   ]
  },
  {
   "cell_type": "markdown",
   "id": "9076f372",
   "metadata": {},
   "source": [
    "## 2.2 while문\n",
    "\n",
    "```\n",
    "while 조건:\n",
    "    조건이 True일 경우 반복할 문장들\n",
    "else:\n",
    "    조건이 False일 경우 한번 실행할 문장들(else구문 선택사항)\n",
    "    while문내의 break 수행할 경우 else구문은 실행되지 않음\n",
    "```"
   ]
  },
  {
   "cell_type": "code",
   "execution_count": 32,
   "id": "9b7c9238",
   "metadata": {},
   "outputs": [
    {
     "name": "stdout",
     "output_type": "stream",
     "text": [
      "1~100까지 짝수의 합은  2550\n"
     ]
    }
   ],
   "source": [
    "# 1~100까지 짝수들의 합을 계산하고 출력하세요(while문)\n",
    "sum = 0\n",
    "i = 1 # i값 초기화\n",
    "while i<=100:\n",
    "    if i%2==0:\n",
    "        sum += i\n",
    "    i += 1\n",
    "else:\n",
    "    print('1~100까지 짝수의 합은 ', sum)"
   ]
  },
  {
   "cell_type": "code",
   "execution_count": 64,
   "id": "914cf815",
   "metadata": {},
   "outputs": [
    {
     "name": "stdout",
     "output_type": "stream",
     "text": [
      "첫번째 정수를 입력하세요-1\n",
      "두번째 정수를 입력하세요-3\n",
      "첫번째 입력한 수-3, 두번째 입력한 수-1 \n",
      "홀수의 합은 -4입니다\n"
     ]
    }
   ],
   "source": [
    "# ex1 사용자에게 두 정수를 입력받아 작은수부터 큰수까지 홀수의 합을 누적해서 출력\n",
    "sum = 0\n",
    "a = int(input(\"첫번째 정수를 입력하세요\"))\n",
    "b = int(input(\"두번째 정수를 입력하세요\"))\n",
    "if a>b:\n",
    "#     temp = a\n",
    "#     a = b\n",
    "#     b = temp\n",
    "    a,b = b,a\n",
    "for i in range(a, b+1):\n",
    "    if i%2:\n",
    "        sum += i\n",
    "else:\n",
    "    print(f\"첫번째 입력한 수{a}, 두번째 입력한 수{b} \\n홀수의 합은 {sum}입니다\")"
   ]
  },
  {
   "cell_type": "code",
   "execution_count": 76,
   "id": "52dc63a0",
   "metadata": {},
   "outputs": [
    {
     "name": "stdout",
     "output_type": "stream",
     "text": [
      "6번 추첨횟수  [2, 18, 39, 43, 44, 45]\n"
     ]
    }
   ],
   "source": [
    "# ex2 로또번호 6개를 추출후, 정렬하여 출력\n",
    "import random\n",
    "# random.seed(3)\n",
    "# random.random() # 0이상 1미만의 실수 난수\n",
    "# random.randint(1, 45) # 1~45의 정수 난수\n",
    "# random.choice(['남자','여자']) # 남자나 여자를 선택(확률일치)\n",
    "# random.choices(['마피아','시민'], weights=[0.1,0.9])\n",
    "lotto_lst = [] #추출된 로또번호를 담을 변수\n",
    "cnt = 0 #임의의 수 발생 횟수\n",
    "a = int(input)\n",
    "while len(lotto_lst) < 6:\n",
    "    temp = random.randint(1, 45) #임의의 수를 temp변수로\n",
    "    cnt += 1\n",
    "    if not temp in lotto_lst:\n",
    "        lotto_lst.append(temp)\n",
    "print(f\"{cnt}번 추첨횟수 \", sorted(lotto_lst))"
   ]
  },
  {
   "cell_type": "code",
   "execution_count": null,
   "id": "b82c1292",
   "metadata": {},
   "outputs": [],
   "source": [
    "# 정렬 알고리즘\n",
    "for i in range(len(lotto_lst)-1):\n",
    "    for j in range(i+j, len(lotto_lst)):\n",
    "        if lotto_lst[i] > lotto_lst[j]:\n",
    "            lotto_lst[i], lotto_lst[j] = lotto_lst[j], lotto_lst[i]"
   ]
  },
  {
   "cell_type": "code",
   "execution_count": 85,
   "id": "8f1728dc",
   "metadata": {},
   "outputs": [
    {
     "data": {
      "text/plain": [
       "[7, 11, 21, 35, 37, 45]"
      ]
     },
     "execution_count": 85,
     "metadata": {},
     "output_type": "execute_result"
    }
   ],
   "source": [
    "# 위의 ex2를 set 이용\n",
    "lotto_set = set() #빈 셋\n",
    "while len(lotto_set)<6:\n",
    "    lotto_set.add(random.randint(1, 45))\n",
    "sorted(list(lotto_set))"
   ]
  },
  {
   "cell_type": "code",
   "execution_count": 90,
   "id": "596da23e",
   "metadata": {},
   "outputs": [
    {
     "data": {
      "text/plain": [
       "[14, 18, 19, 37, 41, 42]"
      ]
     },
     "execution_count": 90,
     "metadata": {},
     "output_type": "execute_result"
    }
   ],
   "source": [
    "# 1~45중 6개 뽑아 정렬\n",
    "sorted(random.sample(range(1, 46), 6))"
   ]
  },
  {
   "cell_type": "code",
   "execution_count": 124,
   "id": "83b9409d",
   "metadata": {},
   "outputs": [
    {
     "ename": "TypeError",
     "evalue": "'int' object is not callable",
     "output_type": "error",
     "traceback": [
      "\u001b[1;31m---------------------------------------------------------------------------\u001b[0m",
      "\u001b[1;31mTypeError\u001b[0m                                 Traceback (most recent call last)",
      "Cell \u001b[1;32mIn[124], line 2\u001b[0m\n\u001b[0;32m      1\u001b[0m \u001b[38;5;28;01mimport\u001b[39;00m \u001b[38;5;21;01mrandom\u001b[39;00m\n\u001b[1;32m----> 2\u001b[0m \u001b[43mrandom\u001b[49m\u001b[38;5;241;43m.\u001b[39;49m\u001b[43mseed\u001b[49m\u001b[43m(\u001b[49m\u001b[38;5;241;43m0\u001b[39;49m\u001b[43m)\u001b[49m\n\u001b[0;32m      3\u001b[0m a \u001b[38;5;241m=\u001b[39m \u001b[38;5;28mint\u001b[39m(\u001b[38;5;28minput\u001b[39m(\u001b[38;5;124m\"\u001b[39m\u001b[38;5;124m본인생일의 년도\u001b[39m\u001b[38;5;124m\"\u001b[39m))\n\u001b[0;32m      4\u001b[0m b \u001b[38;5;241m=\u001b[39m \u001b[38;5;28mint\u001b[39m(\u001b[38;5;28minput\u001b[39m(\u001b[38;5;124m\"\u001b[39m\u001b[38;5;124m본인생일의 월\u001b[39m\u001b[38;5;124m\"\u001b[39m))\n",
      "\u001b[1;31mTypeError\u001b[0m: 'int' object is not callable"
     ]
    }
   ],
   "source": [
    "import random\n",
    "a = int(input(\"본인생일의 년도\"))\n",
    "b = int(input(\"본인생일의 월\"))\n",
    "c = int(input(\"본인생일의 일\"))\n",
    "random.seed(a+b+c)\n",
    "while len(lotto_lst) < 6:\n",
    "    temp = random.randint(1, 45) #임의의 수를 temp변수로\n",
    "    cnt += 1\n",
    "    if not temp in lotto_lst:\n",
    "        lotto_lst.append(temp)\n",
    "print(f\"{cnt}번 추첨횟수 \", sorted(lotto_lst))"
   ]
  },
  {
   "cell_type": "markdown",
   "id": "252eb715",
   "metadata": {},
   "source": [
    "## 2.3 break, continue\n",
    " - break : 현재 반복문 탈출\n",
    " - continue : 수행중인 반복문을 멈추고 조건절로"
   ]
  },
  {
   "cell_type": "code",
   "execution_count": 97,
   "id": "dcfb3ff8",
   "metadata": {},
   "outputs": [
    {
     "name": "stdout",
     "output_type": "stream",
     "text": [
      "1 2 3 4 6 7 8 9 10 END\n"
     ]
    }
   ],
   "source": [
    "num = 0\n",
    "while num<10:\n",
    "    num += 1\n",
    "    if num == 5:\n",
    "#         break\n",
    "        continue\n",
    "    print(num, end=' ')\n",
    "print('END')"
   ]
  },
  {
   "cell_type": "markdown",
   "id": "70c9a4a8",
   "metadata": {},
   "source": [
    "# 숫자 찾기 게임\n",
    "```\n",
    "1~100 사이의 정수 맞추기 프로그램\n",
    "(프로그램 안에서 random수가 만들어지고, 그 random수 맞추기)\n",
    "1단계 : 숫자를 못 맞추면 UP/DOWN을 출력하고, 맞추면 축하메세지 출력 후 종료\n",
    "2단계 : 숫자를 못 맞추면 min(0), max(100)를 조정하고 맞추면 축하메세지 출력 후 종료\n",
    "3단계 : 정답 기회를 5회로 제한, 5회의 기회가 지나면 실패메세지 출력 후 종료,\n",
    "        5회 이내로 맞추면 축하메세지 출력하고 종료\n",
    "```"
   ]
  },
  {
   "cell_type": "code",
   "execution_count": 103,
   "id": "1de08ce7",
   "metadata": {},
   "outputs": [
    {
     "name": "stdout",
     "output_type": "stream",
     "text": [
      "컴퓨터가 발생한 random 수 : 9\n",
      "1~100 사이의 수를 맞춰 보세요 :1\n",
      "UP ▲\n",
      "1~100 사이의 수를 맞춰 보세요 :2\n",
      "UP ▲\n",
      "1~100 사이의 수를 맞춰 보세요 :10\n",
      "DOWN ▼\n",
      "1~100 사이의 수를 맞춰 보세요 :9\n",
      "정답!! ㅊㅋㅊㅋ\n",
      "BYE\n"
     ]
    }
   ],
   "source": [
    "# 1단계\n",
    "import random\n",
    "randomNum = random.randint(1, 100)\n",
    "print (\"컴퓨터가 발생한 random 수 :\", randomNum)\n",
    "while True:\n",
    "    inputNum = int(input(\"1~100 사이의 수를 맞춰 보세요 :\"))\n",
    "    if (inputNum<1) | (inputNum>100):\n",
    "        print('수의 범위를 벗어났습니다')\n",
    "    elif randomNum < inputNum:\n",
    "        print('DOWN ▼')\n",
    "    elif randomNum > inputNum:\n",
    "        print('UP ▲')\n",
    "    else:\n",
    "        print(\"정답!! ㅊㅋㅊㅋ\")\n",
    "        break\n",
    "print(\"BYE\")"
   ]
  },
  {
   "cell_type": "code",
   "execution_count": 110,
   "id": "6f1b01db",
   "metadata": {},
   "outputs": [
    {
     "name": "stdout",
     "output_type": "stream",
     "text": [
      "컴퓨터가 발생한 random 수 : 82\n",
      "1~100 사이의 수를 맞춰 보세요 :99\n",
      "DOWN ▼\n",
      "1~100 사이의 수를 맞춰 보세요 :80\n",
      "UP ▲\n",
      "1~100 사이의 수를 맞춰 보세요 :82\n",
      "정답!! ㅊㅋㅊㅋ\n",
      "BYE\n"
     ]
    }
   ],
   "source": [
    "import random\n",
    "randomNum = random.randint(1, 100)\n",
    "print (\"컴퓨터가 발생한 random 수 :\", randomNum)\n",
    "inputNum = -1\n",
    "while randomNum != inputNum:\n",
    "    inputNum = int(input(\"1~100 사이의 수를 맞춰 보세요 :\"))\n",
    "    if (inputNum<1) | (inputNum>100):\n",
    "        print('수의 범위를 벗어났습니다')\n",
    "    elif randomNum < inputNum:\n",
    "        print('DOWN ▼')\n",
    "    elif randomNum > inputNum:\n",
    "        print('UP ▲')\n",
    "else:\n",
    "    print(\"정답!! ㅊㅋㅊㅋ\")\n",
    "print(\"BYE\")"
   ]
  },
  {
   "cell_type": "markdown",
   "id": "8d9424a7",
   "metadata": {},
   "source": [
    "# 3장 중첩루프\n",
    "- 반복문 안의 반복문"
   ]
  },
  {
   "cell_type": "code",
   "execution_count": 116,
   "id": "7847c0c6",
   "metadata": {},
   "outputs": [
    {
     "name": "stdout",
     "output_type": "stream",
     "text": [
      "  2단  \t  3단  \t  4단  \t  5단  \t  6단  \t  7단  \t  8단  \t  9단  \t\n",
      "2X1= 2\t3X1= 3\t4X1= 4\t5X1= 5\t6X1= 6\t7X1= 7\t8X1= 8\t9X1= 9\t\n",
      "2X2= 4\t3X2= 6\t4X2= 8\t5X2=10\t6X2=12\t7X2=14\t8X2=16\t9X2=18\t\n",
      "2X3= 6\t3X3= 9\t4X3=12\t5X3=15\t6X3=18\t7X3=21\t8X3=24\t9X3=27\t\n",
      "2X4= 8\t3X4=12\t4X4=16\t5X4=20\t6X4=24\t7X4=28\t8X4=32\t9X4=36\t\n",
      "2X5=10\t3X5=15\t4X5=20\t5X5=25\t6X5=30\t7X5=35\t8X5=40\t9X5=45\t\n",
      "2X6=12\t3X6=18\t4X6=24\t5X6=30\t6X6=36\t7X6=42\t8X6=48\t9X6=54\t\n",
      "2X7=14\t3X7=21\t4X7=28\t5X7=35\t6X7=42\t7X7=49\t8X7=56\t9X7=63\t\n",
      "2X8=16\t3X8=24\t4X8=32\t5X8=40\t6X8=48\t7X8=56\t8X8=64\t9X8=72\t\n",
      "2X9=18\t3X9=27\t4X9=36\t5X9=45\t6X9=54\t7X9=63\t8X9=72\t9X9=81\t\n"
     ]
    }
   ],
   "source": [
    "# 2~9단 구구단 출력\n",
    "for i in range(2,10):\n",
    "    print(\"{:^6}\".format(str(i)+'단'), end='\\t')\n",
    "print()\n",
    "for i in range(1,10):\n",
    "    for j in range(2,10):\n",
    "        print(f'{j}X{i}={i*j:>2}', end='\\t')\n",
    "    print()"
   ]
  },
  {
   "cell_type": "code",
   "execution_count": 125,
   "id": "4f8b4f18",
   "metadata": {},
   "outputs": [
    {
     "name": "stdout",
     "output_type": "stream",
     "text": [
      "0 1\n",
      "0 2\n",
      "a=1, b1일때 break함\n",
      "2 1\n",
      "a=2, b2일때 break함\n",
      "DONE\n"
     ]
    }
   ],
   "source": [
    "for a in range(0,3): # a=0일때, 1일때, 2일때\n",
    "    for b in range(1,3): # b=1일때, 2일때\n",
    "        if a==b:\n",
    "            print(f'a={a}, b{b}일때 break함')\n",
    "            break\n",
    "        print(a,b)\n",
    "    # break를 만나면 오는 곳\n",
    "print(\"DONE\")"
   ]
  },
  {
   "cell_type": "code",
   "execution_count": 126,
   "id": "5451814c",
   "metadata": {},
   "outputs": [
    {
     "name": "stdout",
     "output_type": "stream",
     "text": [
      "0 1\n",
      "0 2\n",
      "DONE\n"
     ]
    }
   ],
   "source": [
    "# 중첩 루프 탈출 방법1 flag변수 이용\n",
    "flag = False # break를 만나면 True\n",
    "for a in range(0,3): # a=0일때, 1일때, 2일때\n",
    "    for b in range(1,3): # b=1일때, 2일때\n",
    "        if a==b:\n",
    "            flag = True\n",
    "            break\n",
    "        print(a,b)\n",
    "    # break를 만나면 오는 곳\n",
    "    if flag:\n",
    "        break\n",
    "print(\"DONE\")"
   ]
  },
  {
   "cell_type": "code",
   "execution_count": 3,
   "id": "0f0e3b13",
   "metadata": {},
   "outputs": [],
   "source": [
    "# 중첩 루프 탈출 방법2 예외(Exception)처리 이용\n",
    "# Exception을 상속받는 class\n",
    "class BreakOutLoop(Exception):\n",
    "    pass"
   ]
  },
  {
   "cell_type": "code",
   "execution_count": null,
   "id": "ecc56920",
   "metadata": {},
   "outputs": [],
   "source": [
    "try:\n",
    "    for a in range(0,3): # a=0일때, 1일때, 2일때\n",
    "        for b in range(1,3): # b=1일때, 2일때\n",
    "            if a==b:\n",
    "                print(f'a={a}, b{b}일때 break함')\n",
    "                # 중첩반복문 탈출\n",
    "                #raise Exception(\"중첩반복문 탈출\")\n",
    "                \n",
    "            print(a,b)\n",
    "except:\n",
    "    print(\"DONE\")"
   ]
  },
  {
   "cell_type": "markdown",
   "id": "e1764dfc",
   "metadata": {},
   "source": [
    "## 4장 연습문제"
   ]
  },
  {
   "cell_type": "markdown",
   "id": "db007068",
   "metadata": {},
   "source": [
    "```\n",
    "1. 양의 정수를 입력 받아 홀수인지 짝수인지를 판별하는 프로그램을 작성하세요. \n",
    "   양의 정수가 아니면 숫자를 다시 입력 받아야 합니다\n",
    "```"
   ]
  },
  {
   "cell_type": "code",
   "execution_count": null,
   "id": "2fa852f8",
   "metadata": {},
   "outputs": [],
   "source": []
  },
  {
   "cell_type": "markdown",
   "id": "18613041",
   "metadata": {},
   "source": [
    "```\n",
    "2. 중첩 for 문을 이용하여 아래 패턴의 별을 출력하는 프로그램을 작성하\n",
    "세요\n",
    "```"
   ]
  },
  {
   "cell_type": "code",
   "execution_count": null,
   "id": "739cd9f6",
   "metadata": {},
   "outputs": [],
   "source": []
  },
  {
   "cell_type": "markdown",
   "id": "1d36aa95",
   "metadata": {},
   "source": [
    "3. 다음 코드는 1 부터 30 까지 (30 포함 ) 자연수 중에서 3 의 배수의 총 합\n",
    "을 출력하는 프로그램입니다 . 빈칸의 코드를 완성하시오\n",
    "```\n",
    "sum = 0\n",
    "for i in ___________:\n",
    "if _____________:\n",
    "sum = sum + i\n",
    "else:\n",
    "pass\n",
    "print(sum)\n",
    "```"
   ]
  },
  {
   "cell_type": "code",
   "execution_count": null,
   "id": "a413aec6",
   "metadata": {},
   "outputs": [],
   "source": []
  },
  {
   "cell_type": "markdown",
   "id": "e27d38d4",
   "metadata": {},
   "source": [
    "4.다음 코드의 실행결과가 “1 3 5 7 9가 되도록 빈칸을 완성하시오\n",
    "```\n",
    "num = 0\n",
    "________ num <= 10:\n",
    "    if num%2 :\n",
    "        print(num, end=‘ ’)\n",
    "    num += 1\n",
    "```"
   ]
  },
  {
   "cell_type": "code",
   "execution_count": null,
   "id": "4f514a05",
   "metadata": {},
   "outputs": [],
   "source": []
  },
  {
   "cell_type": "markdown",
   "id": "4710876b",
   "metadata": {},
   "source": [
    "5.다음 2 차원 리스트의 모든 값을 출력하는 코드입니다 . 빈칸을 완성하시오\n",
    "```\n",
    "list2d = [ [1,2,3],[4,5,6,7],[8,9]]\n",
    "for row in list2d:\n",
    "    ____________:\n",
    "        print(data, end=' ')\n",
    "    print()\n",
    "결과:\n",
    "1 2 3\n",
    "4 5 6 7\n",
    "8 9\n",
    "```"
   ]
  },
  {
   "cell_type": "code",
   "execution_count": null,
   "id": "c6f131a1",
   "metadata": {},
   "outputs": [],
   "source": []
  },
  {
   "cell_type": "markdown",
   "id": "e9fab749",
   "metadata": {},
   "source": [
    "6. 다음 빈칸에 들어갈 함수 이름은\n",
    "```\n",
    "colors = {\" red\":'apple ', yellow\":'banana'}\n",
    "for i , v in _______________(colors.________():\n",
    "    print(i,v)\n",
    "0 apple\n",
    "1 banana\n",
    "```"
   ]
  },
  {
   "cell_type": "code",
   "execution_count": null,
   "id": "1a106503",
   "metadata": {},
   "outputs": [],
   "source": []
  },
  {
   "cell_type": "markdown",
   "id": "47e6ca77",
   "metadata": {},
   "source": [
    "7. 다음 코드의 실행결과는\n",
    "```\n",
    "for i in range(0, 2):\n",
    "    for j in range(0,2):\n",
    "        if i ==j:\n",
    "            break\n",
    "        print(i,j)\n",
    "```"
   ]
  },
  {
   "cell_type": "code",
   "execution_count": null,
   "id": "3ce93e64",
   "metadata": {},
   "outputs": [],
   "source": []
  },
  {
   "cell_type": "markdown",
   "id": "cd99df13",
   "metadata": {},
   "source": [
    "8. 다음 코드의 실행 결과로 출력될 수 없는 것은\n",
    "```\n",
    "for i in range(0, 2):\n",
    "    for j in range(0,2):\n",
    "        print(I, j)\n",
    "    if i ==j:\n",
    "    break\n",
    "①0 0 ② 0 1 ③ 1 0 ④ 1 1\n",
    "```"
   ]
  },
  {
   "cell_type": "code",
   "execution_count": null,
   "id": "4ed626a7",
   "metadata": {},
   "outputs": [],
   "source": []
  },
  {
   "cell_type": "markdown",
   "id": "eb9f1bd0",
   "metadata": {},
   "source": [
    "9. 다음 코드의 실행결과는\n",
    "```\n",
    "L = [3, 4, 5, 6, 7, 8, 9, 10]\n",
    "for i , data in enumerate(L):\n",
    "    if i%2 == 0:\n",
    "        print(data, end=' ')\n",
    "```"
   ]
  },
  {
   "cell_type": "code",
   "execution_count": null,
   "id": "67fd58d2",
   "metadata": {},
   "outputs": [],
   "source": []
  },
  {
   "cell_type": "markdown",
   "id": "7fef699b",
   "metadata": {},
   "source": [
    "10. 1~100 사이의 정수 맞추기 프로그램\n",
    "```\n",
    "(프로그램 안에서 random수가 만들어지고, 그 random수 맞추기)\n",
    "1단계 : 숫자를 못 맞추면 UP/DOWN을 출력하고, 맞추면 축하메세지 출력 후 종료\n",
    "2단계 : 숫자를 못 맞추면 min(0), max(100)를 조정하고 맞추면 축하메세지 출력 후 종료\n",
    "3단계 : 정답 기회를 5회로 제한, 5회의 기회가 지나면 실패메세지 출력 후 종료,\n",
    "        5회 이내로 맞추면 축하메세지 출력하고 종료\n",
    "```"
   ]
  },
  {
   "cell_type": "code",
   "execution_count": null,
   "id": "acf5e27d",
   "metadata": {},
   "outputs": [],
   "source": []
  },
  {
   "cell_type": "code",
   "execution_count": null,
   "id": "eca8d756",
   "metadata": {},
   "outputs": [],
   "source": []
  },
  {
   "cell_type": "code",
   "execution_count": null,
   "id": "49e71c05",
   "metadata": {},
   "outputs": [],
   "source": []
  }
 ],
 "metadata": {
  "kernelspec": {
   "display_name": "Python 3 (ipykernel)",
   "language": "python",
   "name": "python3"
  },
  "language_info": {
   "codemirror_mode": {
    "name": "ipython",
    "version": 3
   },
   "file_extension": ".py",
   "mimetype": "text/x-python",
   "name": "python",
   "nbconvert_exporter": "python",
   "pygments_lexer": "ipython3",
   "version": "3.10.9"
  },
  "toc": {
   "base_numbering": 1,
   "nav_menu": {},
   "number_sections": false,
   "sideBar": true,
   "skip_h1_title": false,
   "title_cell": "Table of Contents",
   "title_sidebar": "Contents",
   "toc_cell": false,
   "toc_position": {
    "height": "calc(100% - 180px)",
    "left": "10px",
    "top": "150px",
    "width": "210px"
   },
   "toc_section_display": true,
   "toc_window_display": true
  }
 },
 "nbformat": 4,
 "nbformat_minor": 5
}
