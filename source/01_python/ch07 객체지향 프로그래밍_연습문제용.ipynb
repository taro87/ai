{
 "cells": [
  {
   "cell_type": "code",
   "execution_count": 1,
   "id": "46c1fb36",
   "metadata": {},
   "outputs": [
    {
     "data": {
      "text/html": [
       "\n",
       "<style>\n",
       "div.container{width:90% !important;}\n",
       "div.cell.code_cell.rendered{width:100%;}\n",
       "div.input_prompt{padding:0px;}\n",
       "div.CodeMirror {font-family:Consolas; font-size:16pt;}\n",
       "div.text_cell_render.rendered_html{font-size:16pt;}\n",
       "div.output {font-size:12pt; font-weight:bold;}\n",
       "div.input {font-family:Consolas; font-size:16pt;}\n",
       "div.prompt {min-width:70px;}\n",
       "div#toc-wrapper{padding-top:120px;}\n",
       "div.text_cell_render ul li{font-size:16pt;padding:5px;}\n",
       "table.dataframe{font-size:16px;}\n",
       "</style>\n"
      ],
      "text/plain": [
       "<IPython.core.display.HTML object>"
      ]
     },
     "metadata": {},
     "output_type": "display_data"
    }
   ],
   "source": [
    "from IPython.display import display, HTML\n",
    "display(HTML(\"\"\"\n",
    "<style>\n",
    "div.container{width:90% !important;}\n",
    "div.cell.code_cell.rendered{width:100%;}\n",
    "div.input_prompt{padding:0px;}\n",
    "div.CodeMirror {font-family:Consolas; font-size:16pt;}\n",
    "div.text_cell_render.rendered_html{font-size:16pt;}\n",
    "div.output {font-size:12pt; font-weight:bold;}\n",
    "div.input {font-family:Consolas; font-size:16pt;}\n",
    "div.prompt {min-width:70px;}\n",
    "div#toc-wrapper{padding-top:120px;}\n",
    "div.text_cell_render ul li{font-size:16pt;padding:5px;}\n",
    "table.dataframe{font-size:16px;}\n",
    "</style>\n",
    "\"\"\"))"
   ]
  },
  {
   "cell_type": "markdown",
   "id": "b05289b5",
   "metadata": {},
   "source": [
    "# <b><font size=\"7\" color=\"red\">ch07. 객체지향 프로그래밍</font></b>"
   ]
  },
  {
   "cell_type": "code",
   "execution_count": 2,
   "id": "93b6a0db",
   "metadata": {},
   "outputs": [
    {
     "name": "stdout",
     "output_type": "stream",
     "text": [
      "홍길동 남자\n",
      "{'name': '홍낄떵', 'gender': '남자', 'academy': 'MBC'}\n",
      "{'name': '안길둥', 'gender': '여자', 'academy': 'MBC'}\n"
     ]
    }
   ],
   "source": [
    "person1 = {'name':'홍길동', 'gender':'남자', 'academy':'MBC'}\n",
    "person2 = {'name':'안길둥', 'gender':'여자', 'academy':'MBC'}\n",
    "print(person1['name'], person1.get('gender'))\n",
    "person1['name'] = \"홍낄떵\"\n",
    "print(person1)\n",
    "print(person2)"
   ]
  },
  {
   "cell_type": "code",
   "execution_count": 7,
   "id": "39fa253c",
   "metadata": {},
   "outputs": [
    {
     "name": "stdout",
     "output_type": "stream",
     "text": [
      "MBC의 김길숙님은 여자입니다\n",
      "MBC의 홍길동님은 남자입니다\n",
      "MBC의 홍홍홍님은 여자입니다\n"
     ]
    }
   ],
   "source": [
    "class Person:\n",
    "    academy = 'MBC' #클래스변수\n",
    "    def __init__(self, name, gender): # 생성자함수\n",
    "        self.name = name\n",
    "        self.gender = gender\n",
    "    def print_info(self):\n",
    "        print(f\"{self.academy}의 {self.name}님은 {self.gender}입니다\")\n",
    "p1 = Person(\"김길숙\",\"여자\") #객체변수(인스턴스) 생성\n",
    "p1.print_info()\n",
    "p2 = Person(\"홍길동\",\"남자\")\n",
    "p2.print_info()\n",
    "p1.name = \"홍홍홍\"\n",
    "p1.print_info()"
   ]
  },
  {
   "cell_type": "markdown",
   "id": "b09c2de7",
   "metadata": {},
   "source": [
    "# 1장 객체와 클래스\n",
    "```\n",
    "   class : 클래스명(상속받을 클래스명)\n",
    "   \"독스트림\"\n",
    "   변수나 함수들을 선언\n",
    "```"
   ]
  },
  {
   "cell_type": "code",
   "execution_count": 8,
   "id": "31665f83",
   "metadata": {},
   "outputs": [],
   "source": [
    "class Person:\n",
    "    \"Person 클래스는 여러줄 설명하는 독스트림\"\n",
    "#     def __init__(self):\n",
    "#        pass\n",
    "    pass\n",
    "p1 = Person()"
   ]
  },
  {
   "cell_type": "code",
   "execution_count": 9,
   "id": "580d456d",
   "metadata": {},
   "outputs": [
    {
     "name": "stdout",
     "output_type": "stream",
     "text": [
      "<__main__.Person object at 0x0000019FD914C340>\n"
     ]
    }
   ],
   "source": [
    "print(p1.__str__())"
   ]
  },
  {
   "cell_type": "code",
   "execution_count": 10,
   "id": "24721d58",
   "metadata": {},
   "outputs": [
    {
     "data": {
      "text/plain": [
       "True"
      ]
     },
     "execution_count": 10,
     "metadata": {},
     "output_type": "execute_result"
    }
   ],
   "source": [
    "isinstance(p1, Person)"
   ]
  },
  {
   "cell_type": "markdown",
   "id": "37ec5a0d",
   "metadata": {},
   "source": [
    "# 2장 생성자(`__init__()`)와 소멸자(`__del__()`)\n",
    "- 생성자 : __init__(self, [매개변수1, 매개변수2...] 객체가 생성될 때 자동 실행\n",
    "         생성시 필요한 코드(인스턴스 변수 생성과 초기화)를 포함한다\n",
    "- 소멸자 : __del__(self) 객체가 소멸될 때 자동 실행\n",
    "         객체 소멸시 필요한 코드를 포함\n",
    "         인스턴스(객체)의 레퍼런스 카운트가 0이 될 때 실행"
   ]
  },
  {
   "cell_type": "code",
   "execution_count": 1,
   "id": "422510ac",
   "metadata": {},
   "outputs": [],
   "source": [
    "class Person:\n",
    "    def __init__(self, name, gender):\n",
    "        self.name = name # 인스턴스 변수를 초기화\n",
    "        self.gender = gender\n",
    "        print(\"Person형 객체를 생성\")\n",
    "    def __del__(self):\n",
    "        print(\"Person형 객체 소멸\")\n",
    "    def print_info(self):\n",
    "        print(f\"{self.name}님은 {self.gender}입니다\")\n",
    "    def __str__(self): #오버라이딩(함수의 재정의)\n",
    "        return f\"{self.name}님은 {self.gender}입니다\""
   ]
  },
  {
   "cell_type": "code",
   "execution_count": 2,
   "id": "2a89b390",
   "metadata": {},
   "outputs": [
    {
     "name": "stdout",
     "output_type": "stream",
     "text": [
      "Person형 객체를 생성\n"
     ]
    }
   ],
   "source": [
    "p1 = Person(\"신사임당\", \"여자\")"
   ]
  },
  {
   "cell_type": "code",
   "execution_count": 3,
   "id": "bb66a77b",
   "metadata": {},
   "outputs": [
    {
     "name": "stdout",
     "output_type": "stream",
     "text": [
      "신사임당님은 여자입니다\n"
     ]
    }
   ],
   "source": [
    "p1.print_info()"
   ]
  },
  {
   "cell_type": "code",
   "execution_count": 3,
   "id": "e09d691e",
   "metadata": {},
   "outputs": [
    {
     "name": "stdout",
     "output_type": "stream",
     "text": [
      "Person형 객체 소멸\n"
     ]
    }
   ],
   "source": [
    "del p1"
   ]
  },
  {
   "cell_type": "code",
   "execution_count": 4,
   "id": "ce5ea2a2",
   "metadata": {},
   "outputs": [
    {
     "name": "stdout",
     "output_type": "stream",
     "text": [
      "Person형 객체를 생성\n"
     ]
    }
   ],
   "source": [
    "p2 = Person(\"홍길동\",\"남자\")"
   ]
  },
  {
   "cell_type": "code",
   "execution_count": 6,
   "id": "2042cdb0",
   "metadata": {},
   "outputs": [],
   "source": [
    "p3 = p2"
   ]
  },
  {
   "cell_type": "code",
   "execution_count": 7,
   "id": "e16f8f03",
   "metadata": {},
   "outputs": [],
   "source": [
    "del p2"
   ]
  },
  {
   "cell_type": "code",
   "execution_count": 8,
   "id": "a76da087",
   "metadata": {},
   "outputs": [
    {
     "name": "stdout",
     "output_type": "stream",
     "text": [
      "Person형 객체 소멸\n"
     ]
    }
   ],
   "source": [
    "del p3"
   ]
  },
  {
   "cell_type": "markdown",
   "id": "33940fe7",
   "metadata": {},
   "source": [
    "\n",
    "**오버라이딩**(함수의 재정의)\n",
    " 파이썬은 **오버로딩**(함수의 중복정의) 불가\n"
   ]
  },
  {
   "cell_type": "code",
   "execution_count": 10,
   "id": "df1effc0",
   "metadata": {},
   "outputs": [],
   "source": [
    "class Person:\n",
    "    def __init__(self, name, gender=\"몰라\"):\n",
    "        self.name = name # 인스턴스 변수를 초기화\n",
    "        self.gender = gender\n",
    "        print(\"Person형 객체를 생성\")\n",
    "#     def __init__(self, name):\n",
    "#         self.name = name\n",
    "#         self.gender = '몰라'\n",
    "    def print_info(self):\n",
    "        print(f\"{self.name}님은 {self.gender}입니다\")\n",
    "    def __str__(self): #오버라이딩(함수의 재정의)\n",
    "        return f\"{self.name}님은 {self.gender}입니다\""
   ]
  },
  {
   "cell_type": "code",
   "execution_count": 11,
   "id": "0d31367d",
   "metadata": {},
   "outputs": [
    {
     "name": "stdout",
     "output_type": "stream",
     "text": [
      "Person형 객체를 생성\n",
      "Person형 객체를 생성\n",
      "Person형 객체를 생성\n",
      "신사임당님은 여자입니다\n",
      "홍길동님은 남자입니다\n",
      "둘리님은 몰라입니다\n"
     ]
    }
   ],
   "source": [
    "p1 = Person(\"신사임당\", \"여자\")\n",
    "p2 = Person(gender='남자', name='홍길동')\n",
    "p3 = Person(\"둘리\")\n",
    "print(p1)\n",
    "print(p2)\n",
    "print(p3)"
   ]
  },
  {
   "cell_type": "markdown",
   "id": "8b822605",
   "metadata": {},
   "source": [
    "# 3장 변수와 메소드(함수)\n",
    "- 인스턴스변수 vs 클래스변수 vs static변수(정적변수)\n",
    "- 인스턴스메소드(self) vs 클래스메소드(cls) vs static메소드()2"
   ]
  },
  {
   "cell_type": "code",
   "execution_count": 15,
   "id": "160cada5",
   "metadata": {},
   "outputs": [
    {
     "name": "stdout",
     "output_type": "stream",
     "text": [
      "MBC\n",
      "p1객체변수(인스턴스) = MBC의 홍길동님은 남자입니다\n",
      "p2객체변수(인스턴스) = MBC의 홍길동님은 남자입니다\n",
      "p1객체변수(인스턴스) = 다른데의 홍길동님은 남자입니다\n",
      "p2객체변수(인스턴스) = JTBC의 홍길동님은 남자입니다\n"
     ]
    }
   ],
   "source": [
    "# 클래스 변수는 클래스 내부에 선언되며, 생성된 모든 인스턴스(객체)에 동일한 값을 가진다\n",
    "# 인스턴스(객체), 클래스변수로 수정하면 해당 인스턴스(객체)만 반영\n",
    "# 클래스명.클래스변수로 수정하면 모든 인스턴스에 반영\n",
    "class Person:\n",
    "    academy = 'MBC' #클래스변수\n",
    "    def __init__(self, name='홍길동', gender='남자'): # 생성자함수\n",
    "        self.name = name\n",
    "        self.gender = gender\n",
    "    def __str__(self):\n",
    "        return f\"{self.academy}의 {self.name}님은 {self.gender}입니다\"\n",
    "\n",
    "print(Person.academy)\n",
    "p1 = Person()\n",
    "p2 = Person()\n",
    "print(\"p1객체변수(인스턴스) =\", p1)\n",
    "print(\"p2객체변수(인스턴스) =\", p2)\n",
    "p1.academy = \"다른데\" # 인스턴스.클래스변수로 수정하면 해당 인스턴스만 수정\n",
    "Person.academy = \"JTBC\"\n",
    "print(\"p1객체변수(인스턴스) =\", p1)\n",
    "print(\"p2객체변수(인스턴스) =\", p2)"
   ]
  },
  {
   "cell_type": "markdown",
   "id": "6d2ddde2",
   "metadata": {},
   "source": [
    "※ 인스턴스 메소드 vs 클래스 메소드 vs static 메소드\n",
    "- 인스턴스메소드 : 첫번째 인자에 self를 꼭 명시, 객체를 통해서만 호출할 수 있는 메소드\n",
    "- 클래스메소드 : 메소드위에 @classmethod를 명시. 첫번째 인자에 clz(cls)를 명시\n",
    "- static메소드 : 메소드위에 @staticmethod를 명시. 디폴트 인자가 없음"
   ]
  },
  {
   "cell_type": "code",
   "execution_count": 16,
   "id": "7960d956",
   "metadata": {},
   "outputs": [],
   "source": [
    "class Person:\n",
    "    academy = 'MBC' #클래스 변수\n",
    "    def __init__(self, name=\"홍길동\", gender=\"남자\"):\n",
    "        self.name = name\n",
    "        self.gender = gender\n",
    "    def prinft_info(self): # 인스턴스메소드 : 객체변수.print.info()로 호출\n",
    "        print(f\"일반(인스턴스)메소드 - {self.academy}의 {self.name}님은 {self.gender}입니다\")\n",
    "    def change_info(self, name='익명', gender='모름'):\n",
    "        self.name = name\n",
    "        self.gender = gender\n",
    "        print(f\"일반(인스턴스)메소드를 통해 {self.name}로 이름변경, {self.gender}로 성별변경\")\n",
    "\n",
    "    @classmethod\n",
    "    def do_(clz): # clz => Person의미. 클래스 변수를 이용한 로직\n",
    "        clz.academy = 'classAcademy'\n",
    "        print(f\"클래스 메소드에서 {clz.academy}로 클래스변수 변경\")\n",
    "        \n",
    "    @classmethod\n",
    "    def done_(clz, academy): # clz => Person의미. 클래스 변수를 이용한 로직\n",
    "        clz.academy = academy\n",
    "        print(f\"클래스 메소드에서 {clz.academy}로 클래스변수 변경\")\n",
    "        \n",
    "    @staticmethod\n",
    "    def that_(): # 클래스변수보다는 로직이 우선인 경우\n",
    "        Person.academy = \"staticAcademy\"\n",
    "        print(f\"static 메소드에서 {Person.academy}로 클래스 변수 변경\")"
   ]
  },
  {
   "cell_type": "code",
   "execution_count": 17,
   "id": "80a063f3",
   "metadata": {},
   "outputs": [
    {
     "name": "stdout",
     "output_type": "stream",
     "text": [
      "일반(인스턴스)메소드 - MBC의 홍길동님은 남자입니다\n"
     ]
    }
   ],
   "source": [
    "p1 = Person()\n",
    "p1.prinft_info()"
   ]
  },
  {
   "cell_type": "code",
   "execution_count": 18,
   "id": "a923e1e2",
   "metadata": {},
   "outputs": [
    {
     "name": "stdout",
     "output_type": "stream",
     "text": [
      "static 메소드에서 staticAcademy로 클래스 변수 변경\n"
     ]
    }
   ],
   "source": [
    "Person.that_()"
   ]
  },
  {
   "cell_type": "code",
   "execution_count": 19,
   "id": "9f58ee5f",
   "metadata": {},
   "outputs": [
    {
     "name": "stdout",
     "output_type": "stream",
     "text": [
      "일반(인스턴스)메소드를 통해 익명로 이름변경, 모름로 성별변경\n",
      "일반(인스턴스)메소드 - staticAcademy의 익명님은 모름입니다\n"
     ]
    }
   ],
   "source": [
    "p1.change_info()\n",
    "p1.prinft_info()"
   ]
  },
  {
   "cell_type": "code",
   "execution_count": 20,
   "id": "4efba37d",
   "metadata": {},
   "outputs": [
    {
     "name": "stdout",
     "output_type": "stream",
     "text": [
      "일반(인스턴스)메소드 - staticAcademy의 홍길동님은 남자입니다\n"
     ]
    }
   ],
   "source": [
    "p2 = Person()\n",
    "p2.prinft_info()"
   ]
  },
  {
   "cell_type": "code",
   "execution_count": 21,
   "id": "e742ab46",
   "metadata": {},
   "outputs": [
    {
     "name": "stdout",
     "output_type": "stream",
     "text": [
      "클래스 메소드에서 classAcademy로 클래스변수 변경\n",
      "일반(인스턴스)메소드 - classAcademy의 익명님은 모름입니다\n",
      "일반(인스턴스)메소드 - classAcademy의 홍길동님은 남자입니다\n"
     ]
    }
   ],
   "source": [
    "Person.do_()\n",
    "p1.prinft_info()\n",
    "p2.prinft_info()"
   ]
  },
  {
   "cell_type": "code",
   "execution_count": 22,
   "id": "fc6d076e",
   "metadata": {},
   "outputs": [
    {
     "name": "stdout",
     "output_type": "stream",
     "text": [
      "클래스 메소드에서 JTBC로 클래스변수 변경\n",
      "일반(인스턴스)메소드 - JTBC의 익명님은 모름입니다\n",
      "일반(인스턴스)메소드 - JTBC의 홍길동님은 남자입니다\n"
     ]
    }
   ],
   "source": [
    "Person.done_(\"JTBC\")\n",
    "p1.prinft_info()\n",
    "p2.prinft_info()"
   ]
  },
  {
   "cell_type": "markdown",
   "id": "87518987",
   "metadata": {},
   "source": [
    "# 4장 상속과 재정의\n",
    "- 클래스 재사용\n",
    "- 상속을 이용하면 부모클래스의 모든 속성을 자식클래스로 물려줄 수 있음\n",
    "- class 자식클래스명(부모클래스명):"
   ]
  },
  {
   "cell_type": "code",
   "execution_count": 1,
   "id": "04f304ed",
   "metadata": {},
   "outputs": [],
   "source": [
    "class Person:\n",
    "    def __init__(self, name, gender):\n",
    "        self.name = name # 인스턴스 변수를 초기화\n",
    "        self.gender = gender\n",
    "        print(\"Person 객체 생성합니다(부모클래스)\")\n",
    "    def print_info(self):\n",
    "        print(self)\n",
    "    def __str__(self): #오버라이딩(함수의 재정의)\n",
    "        return f\"{self.name}님은 {self.gender}입니다\""
   ]
  },
  {
   "cell_type": "code",
   "execution_count": 33,
   "id": "7255a8f0",
   "metadata": {},
   "outputs": [],
   "source": [
    "class Student(Person):\n",
    "    def __init__(self, name, gender, major):\n",
    "        self.name = name\n",
    "        self.gender = gender\n",
    "        self.major = major\n",
    "    # 재정의(override) : 부모클래스에서 정의한 함수를 자식클래스에서 다시 정의\n",
    "    def __str__(self):\n",
    "        return f\"{self.name}님은 {self.gender}입니다 전공은 {self.major}입니다\""
   ]
  },
  {
   "cell_type": "code",
   "execution_count": 34,
   "id": "22136f76",
   "metadata": {},
   "outputs": [
    {
     "name": "stdout",
     "output_type": "stream",
     "text": [
      "Person 객체 생성합니다(부모클래스)\n",
      "홍길동님은 남자입니다\n",
      "True\n"
     ]
    }
   ],
   "source": [
    "p1 = Person(\"홍길동\",\"남자\")\n",
    "print(p1)\n",
    "print(isinstance(p1, Person))"
   ]
  },
  {
   "cell_type": "code",
   "execution_count": 35,
   "id": "270f98c5",
   "metadata": {},
   "outputs": [
    {
     "name": "stdout",
     "output_type": "stream",
     "text": [
      "홍길숙님은 여자입니다 전공은 AI입니다\n"
     ]
    }
   ],
   "source": [
    "s1 = Student(\"홍길숙\", \"여자\", \"AI\")\n",
    "print(s1)"
   ]
  },
  {
   "cell_type": "code",
   "execution_count": 36,
   "id": "364b99bb",
   "metadata": {},
   "outputs": [
    {
     "name": "stdout",
     "output_type": "stream",
     "text": [
      "True\n",
      "True\n"
     ]
    }
   ],
   "source": [
    "print(isinstance(s1, Student))\n",
    "print(isinstance(s1, Person))"
   ]
  },
  {
   "cell_type": "markdown",
   "id": "dafd6000",
   "metadata": {},
   "source": [
    "### super() 이용\n",
    "- super() : \"부모클래스의\"를 의미"
   ]
  },
  {
   "cell_type": "code",
   "execution_count": 40,
   "id": "4d35c8c9",
   "metadata": {},
   "outputs": [],
   "source": [
    "class Person:\n",
    "    def __init__(self, name, gender):\n",
    "        self.name = name # 인스턴스 변수를 초기화\n",
    "        self.gender = gender\n",
    "        print(\"Person 객체 생성합니다(부모클래스)\")\n",
    "    def print_info(self):\n",
    "        print(self)\n",
    "    def __str__(self): #오버라이딩(함수의 재정의)\n",
    "        return f\"{self.name}님은 {self.gender}입니다\"\n",
    "class Student(Person):\n",
    "    def __init__(self, name, gender, major):\n",
    "        super().__init__(name,gender)\n",
    "        self.major = major\n",
    "        print(\"Person 객체 생성합니다(자식클래스)\")\n",
    "    # 재정의(override) : 부모클래스에서 정의한 함수를 자식클래스에서 다시 정의\n",
    "    def __str__(self):\n",
    "        return super().__str__() + f\" 전공은 {self.major}입니다\""
   ]
  },
  {
   "cell_type": "code",
   "execution_count": 41,
   "id": "597cf0f4",
   "metadata": {},
   "outputs": [
    {
     "name": "stdout",
     "output_type": "stream",
     "text": [
      "Person 객체 생성합니다(부모클래스)\n",
      "Person 객체 생성합니다(자식클래스)\n",
      "김공주님은 여자입니다 전공은 AI입니다\n"
     ]
    }
   ],
   "source": [
    "s2 = Student(\"김공주\", \"여자\", \"AI\")\n",
    "print(s2)"
   ]
  },
  {
   "cell_type": "markdown",
   "id": "02d9c6e4",
   "metadata": {},
   "source": [
    "### static 변수(정적변수)\n",
    "- 여러 객체들 사이에 데이터를 공유하고 싶을 때 사용\n",
    "- stataic 변수 : 앞에 under score 2개(__) 붙임, 클래스명._클래스명__static변수명으로 참조\n",
    "- static변수는 클래스 내부에서만 접근하도록 하려는 용도"
   ]
  },
  {
   "cell_type": "code",
   "execution_count": 2,
   "id": "51777ef4",
   "metadata": {},
   "outputs": [],
   "source": [
    "class Student(Person):\n",
    "    'name, gender에 major변수를 갖는 Student 타입.student객체를 몇번 생성했는지 공유'\n",
    "    __count = 0 # static변수\n",
    "    def __init__(self, name, gender, major):\n",
    "        super().__init__(name, gender)\n",
    "        self.major = major\n",
    "        Student._Student__count += 1 # 객체가 생성될 때마다 __count 1 증가\n",
    "    def __del__(self):\n",
    "        Student._Student__count -= 1 # 객체가 소멸될 때마다 __count 1 감소\n",
    "    def __str__(self):\n",
    "        return super().__str__() + f\", 전공은 {self.major} - 객체{Student._Student__count} 생성\"\n",
    "    \n",
    "    @classmethod\n",
    "    def get_count(cls): # 클래스변수나 static변수를 이용하는 로직\n",
    "#         return Student._Student__count\n",
    "        return cls.__count"
   ]
  },
  {
   "cell_type": "code",
   "execution_count": 3,
   "id": "63d56745",
   "metadata": {},
   "outputs": [
    {
     "name": "stdout",
     "output_type": "stream",
     "text": [
      "Person 객체 생성합니다(부모클래스)\n",
      "홍길동님은 남자입니다, 전공은 컴공 - 객체1 생성\n",
      "객체 갯수 : 1\n",
      "객체 갯수 : 1\n"
     ]
    }
   ],
   "source": [
    "s1 = Student(\"홍길동\",\"남자\",\"컴공\")\n",
    "print(s1)\n",
    "print(\"객체 갯수 :\", Student.get_count())\n",
    "print(\"객체 갯수 :\", s1.get_count()) # 클래스 메소드는 클래스명.클래스메소드 추천"
   ]
  },
  {
   "cell_type": "code",
   "execution_count": 4,
   "id": "f20e9f26",
   "metadata": {},
   "outputs": [
    {
     "name": "stdout",
     "output_type": "stream",
     "text": [
      "Person 객체 생성합니다(부모클래스)\n",
      "부르마님은 여자입니다, 전공은 박사 - 객체2 생성\n",
      "객체 갯수 : 2\n"
     ]
    }
   ],
   "source": [
    "s2 = Student(\"부르마\",\"여자\",\"박사\")\n",
    "print(s2)\n",
    "print(\"객체 갯수 :\", Student.get_count())"
   ]
  },
  {
   "cell_type": "code",
   "execution_count": 5,
   "id": "a305e659",
   "metadata": {},
   "outputs": [],
   "source": [
    "del s1"
   ]
  },
  {
   "cell_type": "code",
   "execution_count": 6,
   "id": "ae702bd3",
   "metadata": {},
   "outputs": [
    {
     "name": "stdout",
     "output_type": "stream",
     "text": [
      "객체 갯수 : 1\n"
     ]
    }
   ],
   "source": [
    "print(\"객체 갯수 :\", Student.get_count())"
   ]
  },
  {
   "cell_type": "code",
   "execution_count": 7,
   "id": "d14e3844",
   "metadata": {},
   "outputs": [],
   "source": [
    "del s2"
   ]
  },
  {
   "cell_type": "code",
   "execution_count": 8,
   "id": "a28a0b5c",
   "metadata": {},
   "outputs": [
    {
     "name": "stdout",
     "output_type": "stream",
     "text": [
      "객체 갯수 : 0\n"
     ]
    }
   ],
   "source": [
    "print(\"객체 갯수 :\", Student.get_count())"
   ]
  },
  {
   "cell_type": "markdown",
   "id": "46ca1555",
   "metadata": {},
   "source": [
    "# 5장 연습문제"
   ]
  },
  {
   "cell_type": "markdown",
   "id": "c870cf30",
   "metadata": {},
   "source": [
    "```\n",
    "1.다음 조건을 만족하는 클래스를 작성하세요\n",
    "도형(Shape) 클래스와 삼각형 (Triangle) 클래스를 만들어야 합니다\n",
    "도형(Shape) 클래스\n",
    " • 생성자를 통해 x, y 좌표를 초기화할 수 있습니다 . x, y 좌표의 기본값은 0, 0 입니다\n",
    " • x, y 좌표를 이동시킬 수 있는 move 함수가 있습니다\n",
    " • x, y 좌표값 정보를 문자열로 리턴하는 str __ 함수가 있습니다\n",
    " • 도형의 면적을 구하는 함수 calc_area 가 있습니다 . 다만 도형 클래스의 calc_area 는\n",
    "  구현되어 있지 않아 호출하면 오류가 발생합니다 파이썬은 추상메소드가 없음 추상메소\n",
    "  드 역할을 구현\n",
    " • 정적메소드 staticmethod 를 하나 이상 구현합니다\n",
    "삼각형 (Triangle) 클래스는 도형(Shape) 클래스이다 관계가 성립해야 합니다\n",
    " 생성자를 통해 , width, height, x, y 좌표를 초기화하고 x, y 좌표의 기본값은 0, 0 입니다\n",
    " 삼각형의 면적을 구하는 메소드 calc_area 를 재정의합니다\n",
    " 삼각형의 정보를 문자열로 반환하는 str __() 함수가 있습니다\n",
    " 삼각형 객체가 몇 개가 만들어져 있는지 정보를 저장하는 클래스 변수를 추가하고 생성자\n",
    "  에서 객체를 만들 때마다 증가시키고 소멸자에서 객체를 소멸시킬 때마다 감소합니다\n",
    "```"
   ]
  },
  {
   "cell_type": "code",
   "execution_count": 34,
   "id": "c5f835f5",
   "metadata": {},
   "outputs": [],
   "source": []
  },
  {
   "cell_type": "code",
   "execution_count": null,
   "id": "2891052a",
   "metadata": {},
   "outputs": [],
   "source": []
  },
  {
   "cell_type": "code",
   "execution_count": null,
   "id": "28106f91",
   "metadata": {},
   "outputs": [],
   "source": []
  },
  {
   "cell_type": "code",
   "execution_count": null,
   "id": "0b058fed",
   "metadata": {},
   "outputs": [],
   "source": []
  }
 ],
 "metadata": {
  "kernelspec": {
   "display_name": "Python 3 (ipykernel)",
   "language": "python",
   "name": "python3"
  },
  "language_info": {
   "codemirror_mode": {
    "name": "ipython",
    "version": 3
   },
   "file_extension": ".py",
   "mimetype": "text/x-python",
   "name": "python",
   "nbconvert_exporter": "python",
   "pygments_lexer": "ipython3",
   "version": "3.10.9"
  },
  "toc": {
   "base_numbering": 1,
   "nav_menu": {},
   "number_sections": false,
   "sideBar": true,
   "skip_h1_title": false,
   "title_cell": "Table of Contents",
   "title_sidebar": "Contents",
   "toc_cell": false,
   "toc_position": {
    "height": "calc(100% - 180px)",
    "left": "10px",
    "top": "150px",
    "width": "237px"
   },
   "toc_section_display": true,
   "toc_window_display": true
  }
 },
 "nbformat": 4,
 "nbformat_minor": 5
}
