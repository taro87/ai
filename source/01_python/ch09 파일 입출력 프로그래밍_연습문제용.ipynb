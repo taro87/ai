{
 "cells": [
  {
   "cell_type": "code",
   "execution_count": 1,
   "id": "a972af47",
   "metadata": {},
   "outputs": [
    {
     "data": {
      "text/html": [
       "\n",
       "<style>\n",
       "div.container{width:90% !important;}\n",
       "div.cell.code_cell.rendered{width:100%;}\n",
       "div.input_prompt{padding:0px;}\n",
       "div.CodeMirror {font-family:Consolas; font-size:16pt;}\n",
       "div.text_cell_render.rendered_html{font-size:16pt;}\n",
       "div.output {font-size:12pt; font-weight:bold;}\n",
       "div.input {font-family:Consolas; font-size:16pt;}\n",
       "div.prompt {min-width:70px;}\n",
       "div#toc-wrapper{padding-top:120px;}\n",
       "div.text_cell_render ul li{font-size:16pt;padding:5px;}\n",
       "table.dataframe{font-size:16px;}\n",
       "</style>\n"
      ],
      "text/plain": [
       "<IPython.core.display.HTML object>"
      ]
     },
     "metadata": {},
     "output_type": "display_data"
    }
   ],
   "source": [
    "from IPython.display import display, HTML\n",
    "display(HTML(\"\"\"\n",
    "<style>\n",
    "div.container{width:90% !important;}\n",
    "div.cell.code_cell.rendered{width:100%;}\n",
    "div.input_prompt{padding:0px;}\n",
    "div.CodeMirror {font-family:Consolas; font-size:16pt;}\n",
    "div.text_cell_render.rendered_html{font-size:16pt;}\n",
    "div.output {font-size:12pt; font-weight:bold;}\n",
    "div.input {font-family:Consolas; font-size:16pt;}\n",
    "div.prompt {min-width:70px;}\n",
    "div#toc-wrapper{padding-top:120px;}\n",
    "div.text_cell_render ul li{font-size:16pt;padding:5px;}\n",
    "table.dataframe{font-size:16px;}\n",
    "</style>\n",
    "\"\"\"))"
   ]
  },
  {
   "cell_type": "markdown",
   "id": "927a3229",
   "metadata": {},
   "source": [
    "# <b><font size=\"7\" color=\"red\">ch09. 파일 입출력 프로그래밍</font></b>\n",
    "- 파일 : txt, pickle(머신러닝모델저장, 배열저장), csv, json. h5(딥러닝모델저장)\n",
    "# 1장 txt파일에 데이터 저장하고 불러오기"
   ]
  },
  {
   "cell_type": "code",
   "execution_count": 2,
   "id": "8e33d000",
   "metadata": {},
   "outputs": [
    {
     "name": "stdout",
     "output_type": "stream",
     "text": [
      "쓰기 가능한지 : True\n"
     ]
    }
   ],
   "source": [
    "# mode = 'r' 또는 'rt' : 텍스트 읽기모드로 열기. 파일이 없을 경우 예외 발생\n",
    "# mode = 'w' 또는 'wt' : 텍스트 쓰기모드로 열기. 폴더가 없을 경우 예외 발생\n",
    "                        # 파일이 없으면 생성, 파일이 있으면 덮어씀\n",
    "# mode = 'a' 또는 'at' : 텍스트 쓰기모드로 열기. 폴더가 없을 경우 예외 발생\n",
    "                        # 파일이 없으면 생성, 파일이 있으면 뒤에 append\n",
    "f = open('data/ch09.txt', 'w') # encoding='cp949'(win)\n",
    "print('쓰기 가능한지 :', f.writable())\n",
    "f.write('Hello\\nWorld\\n')\n",
    "f.close()"
   ]
  },
  {
   "cell_type": "code",
   "execution_count": 6,
   "id": "c7ef90bb",
   "metadata": {},
   "outputs": [
    {
     "name": "stdout",
     "output_type": "stream",
     "text": [
      "쓰기 가능하지 : True\n"
     ]
    }
   ],
   "source": [
    "# with구문을 사용하면 매면 close()하는 코드가 불필요\n",
    "with open('data/ch09.txt', 'wt') as f:\n",
    "    print('쓰기 가능하지 :', f.writable())\n",
    "    f.write('Python is easy.\\nPython is smart.\\n')"
   ]
  },
  {
   "cell_type": "code",
   "execution_count": 7,
   "id": "a3403c98",
   "metadata": {},
   "outputs": [
    {
     "name": "stdout",
     "output_type": "stream",
     "text": [
      "프린트 함수로 파일 쓰기가 가능합니다. 콘솔출력\n"
     ]
    }
   ],
   "source": [
    "with open('data/ch09.txt', 'a') as f: #cp949\n",
    "    print('프린트 함수로 파일 쓰기가 가능합니다. 파일출력', file=f)\n",
    "    print('프린트 함수로 파일 쓰기가 가능합니다. 콘솔출력')"
   ]
  },
  {
   "cell_type": "markdown",
   "id": "65aa1e81",
   "metadata": {},
   "source": [
    "- 한글 읽기/쓰기\n",
    "    * cp949(한글완성형) : open함수의 기본 인코딩(win)\n",
    "    * utf-8(한글조합형) : 주피터 노트북에서 열기"
   ]
  },
  {
   "cell_type": "code",
   "execution_count": 9,
   "id": "0e546887",
   "metadata": {},
   "outputs": [],
   "source": [
    "with open('data/ch09.txt', 'w', encoding='UTF-8') as f:\n",
    "    # 방법1\n",
    "    f.write('홍길동, 30, 서울\\n')\n",
    "    f.write('김길동, 20, 수원\\n')\n",
    "    # 방법2\n",
    "    textlist = ['홍길동, 30, 서울\\n', '김길동, 20, 부산\\n']\n",
    "    for line in textlist:\n",
    "        f.write(line)\n",
    "    # 방법3\n",
    "    f.writelines(textlist) # 리스트를 한꺼번에 write"
   ]
  },
  {
   "cell_type": "code",
   "execution_count": 10,
   "id": "64f42315",
   "metadata": {},
   "outputs": [
    {
     "data": {
      "text/plain": [
       "'홍길동, 30, 서울\\n김길동, 20, 수원\\n홍길동, 30, 서울\\n김길동, 20, 부산\\n홍길동, 30, 서울\\n김길동, 20, 부산\\n'"
      ]
     },
     "execution_count": 10,
     "metadata": {},
     "output_type": "execute_result"
    }
   ],
   "source": [
    "with open('data/ch09.txt', 'rt', encoding='utf-8') as f:\n",
    "    filecontent = f.read()\n",
    "filecontent"
   ]
  },
  {
   "cell_type": "code",
   "execution_count": 13,
   "id": "04466799",
   "metadata": {},
   "outputs": [
    {
     "name": "stdout",
     "output_type": "stream",
     "text": [
      "홍길동, 30, 서울\n",
      "김길동, 20, 수원\n",
      "홍길동, 30, 서울\n",
      "김길동, 20, 부산\n",
      "홍길동, 30, 서울\n",
      "김길동, 20, 부산\n"
     ]
    }
   ],
   "source": [
    "#파일을 한줄 읽고 출력하고, 한줄읽고 출력, ...\n",
    "with open('data/ch09.txt', 'r', encoding='utf-8') as txtfile:\n",
    "    line = txtfile.readline()\n",
    "    while line != '':\n",
    "        print(line, end='') # line에 \\n이 포함되어 있어 출력시 개형은 제거\n",
    "        line = txtfile.readline()"
   ]
  },
  {
   "cell_type": "code",
   "execution_count": 14,
   "id": "2e041359",
   "metadata": {},
   "outputs": [
    {
     "name": "stdout",
     "output_type": "stream",
     "text": [
      "['홍길동, 30, 서울\\n', '김길동, 20, 수원\\n', '홍길동, 30, 서울\\n', '김길동, 20, 부산\\n', '홍길동, 30, 서울\\n', '김길동, 20, 부산\\n']\n"
     ]
    }
   ],
   "source": [
    "# 파일을 한꺼번에 여러줄 읽어, 한줄씩 list담아 return\n",
    "with open('data/ch09.txt', 'r', encoding='utf-8') as txtfile:\n",
    "    lines = txtfile.readlines()\n",
    "print(lines)"
   ]
  },
  {
   "cell_type": "code",
   "execution_count": 16,
   "id": "c235e9d4",
   "metadata": {},
   "outputs": [
    {
     "name": "stdout",
     "output_type": "stream",
     "text": [
      "홍길동, 30, 서울\n",
      "김길동, 20, 수원\n",
      "홍길동, 30, 서울\n",
      "김길동, 20, 부산\n",
      "홍길동, 30, 서울\n",
      "김길동, 20, 부산\n"
     ]
    }
   ],
   "source": [
    "for line in lines:\n",
    "    print(line, end='')"
   ]
  },
  {
   "cell_type": "markdown",
   "id": "91a7093d",
   "metadata": {},
   "source": [
    "# 2장 피클을 이용한 객체 저장 및 불러오기\n",
    "- 머신러닝 모델저장, 배열저장, 객체저장\n",
    "## 2.1 형식이 있는 텍스트 데이터 불러오기"
   ]
  },
  {
   "cell_type": "code",
   "execution_count": 31,
   "id": "daab7e27",
   "metadata": {},
   "outputs": [
    {
     "name": "stdout",
     "output_type": "stream",
     "text": [
      "{'name': '홍길동', 'age': 20, 'email': ' kildong@hong.com', 'address': '서울시 관악구'}\n",
      "{'name': '홍길숙', 'age': 25, 'email': ' kilsuk1@hong.com', 'address': '서울시 영등포구'}\n",
      "{'name': '신길동', 'age': 30, 'email': ' shinkil@hong.com', 'address': '서울시 동작구'}\n"
     ]
    }
   ],
   "source": [
    "with open('data/ch09_member.txt', 'rt', encoding='utf-8') as f:\n",
    "    lines = f.readlines()\n",
    "#print(lines)\n",
    "for line in lines:\n",
    "    # print(line)\n",
    "    data = line.split(',')\n",
    "    # print(data)\n",
    "    name = data[0]\n",
    "    age = int(data[1])\n",
    "    email = data[2]\n",
    "    address = data[3].strip()\n",
    "    print({'name':name,\n",
    "         'age':age,\n",
    "         'email':email,\n",
    "         'address':address})"
   ]
  },
  {
   "cell_type": "code",
   "execution_count": 42,
   "id": "1e93f4fb",
   "metadata": {},
   "outputs": [],
   "source": [
    "class Member:\n",
    "    def __init__(self, name, age, email, address):\n",
    "        self.name = name\n",
    "        self.age = age\n",
    "        self.email = email\n",
    "        self.address = address\n",
    "    def __str__(self):\n",
    "        return f\"{self.name},{self.age},{self.email},{self.address}\"\n",
    "#    def __eq__(self,other):\n",
    "#        return self.name == other.name and \\\n",
    "#                self.age == other.age and \\\n",
    "#                self.email == other.email and \\\n",
    "#                self.address == other.address\n",
    "    def __eq__(self, other): # 위보다 더 간단히\n",
    "        return self.__str__() == other.__str__()\n",
    "    def as_dict(self):\n",
    "        '객체를 딕셔너리로 바꿔 return(json파일 저장시 필요)'\n",
    "#        return {'name':self.name,\n",
    "#         'age':self.age,\n",
    "#         'email':self.email,\n",
    "#         'address':self.address}\n",
    "        return self.__dict__"
   ]
  },
  {
   "cell_type": "code",
   "execution_count": 43,
   "id": "71b1932a",
   "metadata": {},
   "outputs": [
    {
     "name": "stdout",
     "output_type": "stream",
     "text": [
      "신길동,30,shinkil@hong.com,서울시 동작구\n",
      "신길동,30,shinkil@hong.com,서울시 동작구\n",
      "True\n",
      "True\n",
      "{'name': '신길동', 'age': 30, 'email': 'shinkil@hong.com', 'address': '서울시 동작구'}\n",
      "{'name': '신길동', 'age': 30, 'email': 'shinkil@hong.com', 'address': '서울시 동작구'}\n"
     ]
    }
   ],
   "source": [
    "member1 = Member('신길동', 30, 'shinkil@hong.com', '서울시 동작구')\n",
    "member2 = Member('신길동', 30, 'shinkil@hong.com', '서울시 동작구')\n",
    "print(member1.__str__())\n",
    "print(member2)\n",
    "print(member2==member1)\n",
    "print(member2.__eq__(member1))\n",
    "print(member1.__dict__)\n",
    "print(member1.as_dict())"
   ]
  },
  {
   "cell_type": "markdown",
   "id": "79b494f9",
   "metadata": {},
   "source": [
    "## 2.2 피클링\n",
    "- 객체리스트 -> 피클파일로 쓰기\n",
    "- 피클파일 -> 객체리스트로 읽기"
   ]
  },
  {
   "cell_type": "code",
   "execution_count": 44,
   "id": "a4ee8348",
   "metadata": {},
   "outputs": [],
   "source": [
    "#ch09_member.txt파일 -> 객체list, 딕셔너리list로 읽어오기\n",
    "member_list = [] # Member객체 list\n",
    "dict_list = [] # 딕셔너리 list\n",
    "with open('data/ch09_member.txt', 'r', encoding='utf-8') as f:\n",
    "    lines = f.readlines()\n",
    "for line in lines:\n",
    "    data = line.strip().split(',')\n",
    "    data = [item.strip() for item in data]\n",
    "    name = data[0]\n",
    "    age = int(data[1])\n",
    "    email = data[2]\n",
    "    address = data[3]\n",
    "    member = Member(name, age, email, address)\n",
    "    member_list.append(member)\n",
    "    dict_list.append(member.__dict__)"
   ]
  },
  {
   "cell_type": "code",
   "execution_count": 45,
   "id": "ec08b84a",
   "metadata": {},
   "outputs": [
    {
     "name": "stdout",
     "output_type": "stream",
     "text": [
      "홍길동,20,kildong@hong.com,서울시 관악구\n",
      "홍길숙,25,kilsuk1@hong.com,서울시 영등포구\n",
      "신길동,30,shinkil@hong.com,서울시 동작구\n"
     ]
    }
   ],
   "source": [
    "for member in member_list:\n",
    "    print(member)"
   ]
  },
  {
   "cell_type": "code",
   "execution_count": 46,
   "id": "0aa1c3a1",
   "metadata": {},
   "outputs": [],
   "source": [
    "# 피클링(확장자 : pkl, pickle, data)를 이용한 객체를 파일에 저장하기\n",
    "import pickle\n",
    "with open('data/ch09_member.pkl', 'wb') as f:\n",
    "    pickle.dump(member_list, f)"
   ]
  },
  {
   "cell_type": "code",
   "execution_count": 48,
   "id": "df9478b7",
   "metadata": {},
   "outputs": [],
   "source": [
    "# 피클링을 이용한 파일을 객체리스트로 읽기\n",
    "with open('data/ch09_member.pkl', 'rb') as f:\n",
    "    load_member_list = pickle.load(f)"
   ]
  },
  {
   "cell_type": "code",
   "execution_count": 49,
   "id": "6ed1d459",
   "metadata": {},
   "outputs": [
    {
     "data": {
      "text/plain": [
       "(2152828540672, 2152828780416)"
      ]
     },
     "execution_count": 49,
     "metadata": {},
     "output_type": "execute_result"
    }
   ],
   "source": [
    "id(member_list), id(load_member_list)"
   ]
  },
  {
   "cell_type": "code",
   "execution_count": 54,
   "id": "2382bf71",
   "metadata": {},
   "outputs": [
    {
     "name": "stdout",
     "output_type": "stream",
     "text": [
      "member : 홍길동,20,kildong@hong.com,서울시 관악구\n",
      "load_member : 홍길동,20,kildong@hong.com,서울시 관악구\n",
      "0 번째 비교 : True\n",
      "member : 홍길숙,25,kilsuk1@hong.com,서울시 영등포구\n",
      "load_member : 홍길숙,25,kilsuk1@hong.com,서울시 영등포구\n",
      "1 번째 비교 : True\n",
      "member : 신길동,30,shinkil@hong.com,서울시 동작구\n",
      "load_member : 신길동,30,shinkil@hong.com,서울시 동작구\n",
      "2 번째 비교 : True\n"
     ]
    }
   ],
   "source": [
    "for idx, (member, load_member) in enumerate(zip(member_list, load_member_list)):\n",
    "    print('member :', member)\n",
    "    print('load_member :', load_member)\n",
    "    print(idx, '번째 비교 :', member==load_member)"
   ]
  },
  {
   "cell_type": "code",
   "execution_count": 55,
   "id": "507610f8",
   "metadata": {},
   "outputs": [
    {
     "data": {
      "text/plain": [
       "[True, True, True]"
      ]
     },
     "execution_count": 55,
     "metadata": {},
     "output_type": "execute_result"
    }
   ],
   "source": [
    "result = [] # 비교결과(True/False)를 append\n",
    "for member, load_member in zip(member_list, load_member_list):\n",
    "    result.append(member==load_member)\n",
    "result"
   ]
  },
  {
   "cell_type": "code",
   "execution_count": 56,
   "id": "5840aea5",
   "metadata": {},
   "outputs": [
    {
     "data": {
      "text/plain": [
       "True"
      ]
     },
     "execution_count": 56,
     "metadata": {},
     "output_type": "execute_result"
    }
   ],
   "source": [
    "all(result) # 모든 요소들이 True인지 여부"
   ]
  },
  {
   "cell_type": "markdown",
   "id": "c8f45232",
   "metadata": {},
   "source": [
    "# 3장 CSV 파일 읽기/쓰기\n",
    "- CSV파일의 자료를 리스트 데이터로 읽고 쓰기(3.1과 3.2)\n",
    "- CSV파일의 자료를 딕셔너리 데이터로 읽고 쓰기(3.3과 3.4)\n",
    "## 3.1 reader"
   ]
  },
  {
   "cell_type": "code",
   "execution_count": 2,
   "id": "a56e0e7a",
   "metadata": {},
   "outputs": [
    {
     "data": {
      "text/plain": [
       "[['홍길동', '20', 'kildong@hong.com', '서울시 관악구'],\n",
       " ['김길동', '40', 'kimdong@hong.com', '서울시 영등포구'],\n",
       " ['신길동', '30', 'sindong@hong.com', '서울시 동작구']]"
      ]
     },
     "execution_count": 2,
     "metadata": {},
     "output_type": "execute_result"
    }
   ],
   "source": [
    "import csv\n",
    "with open('data/ch09_member1.csv', 'r', encoding='utf-8') as f:\n",
    "    reader = csv.reader(f)\n",
    "    result = list(reader)\n",
    "result"
   ]
  },
  {
   "cell_type": "code",
   "execution_count": 7,
   "id": "6a103cf8",
   "metadata": {},
   "outputs": [
    {
     "name": "stdout",
     "output_type": "stream",
     "text": [
      "['홍길동', 20.0, 'kildong@hong.com', '서울시 관악구']\n",
      "['김길동', 40.0, 'kimdong@hong.com', '서울시 영등포구']\n",
      "['신길동', 30.0, 'sindong@hong.com', '서울시 동작구']\n"
     ]
    }
   ],
   "source": [
    "# \"\"(따음표)가 없는 데이터는 numeric으로\n",
    "with open('data/ch09_member1.csv', 'r', encoding='utf-8') as f:\n",
    "    reader = csv.reader(f, quoting=csv.QUOTE_NONNUMERIC)\n",
    "    for row in reader:\n",
    "        print(row)"
   ]
  },
  {
   "cell_type": "markdown",
   "id": "3fc91374",
   "metadata": {},
   "source": [
    "## 3.2 writer\n",
    "- list -> csv로 저장"
   ]
  },
  {
   "cell_type": "code",
   "execution_count": 8,
   "id": "d0a7947b",
   "metadata": {},
   "outputs": [],
   "source": [
    "user_list = [ ['신길동', 30, 'sindong@hong.com', '서울시 동작구'],\n",
    "             ['김길동', 40, 'kimdong@hong.com', '서울시 영등포구'],\n",
    "             ['홍길동', 20, 'kildong@hong.com', '서울시 관악구'] ]"
   ]
  },
  {
   "cell_type": "code",
   "execution_count": 11,
   "id": "5911bcc6",
   "metadata": {},
   "outputs": [],
   "source": [
    "# newline='' 읍션 빼면 개행이 2번(Python 3.10)\n",
    "try:\n",
    "    with open('data/ch09_member2-write.csv', 'w', newline='') as f:\n",
    "        writer = csv.writer(f)\n",
    "        writer.writerows(user_list)\n",
    "except FileNotFoundError as e:\n",
    "    print(e)"
   ]
  },
  {
   "cell_type": "markdown",
   "id": "a6831097",
   "metadata": {},
   "source": [
    "## 3.3 DictReader\n",
    "- CSV파일을 딕셔너리 데이터로 읽기"
   ]
  },
  {
   "cell_type": "code",
   "execution_count": null,
   "id": "0699914f",
   "metadata": {},
   "outputs": [],
   "source": [
    "import csv\n",
    "# header가 있는 csv파일을 딕셔너리로 읽기(ch09_member3.csv)\n",
    "with open('data/ch09_member3.csv', 'r', encoding='utf-8') as f:\n",
    "    dict_reader = csv.DictReader(f)\n",
    "    result = list(dict_reader)\n",
    "result"
   ]
  },
  {
   "cell_type": "code",
   "execution_count": 13,
   "id": "20cfb8e3",
   "metadata": {},
   "outputs": [
    {
     "name": "stdout",
     "output_type": "stream",
     "text": [
      "{'name': '홍길동', 'age': '20', 'email': 'h@h.com', 'address': '서울시 관악구', 'job': '없음'}\n",
      "{'name': '신길동', 'age': '40', 'email': 's@h.com', 'address': '서울시 영등포구', 'job': '팀장'}\n",
      "{'name': '김길동', 'age': '30', 'email': 'k@h.com', 'address': '서울시 동작구', 'job': '없음'}\n"
     ]
    }
   ],
   "source": [
    "import csv\n",
    "# header가 있는 csv파일을 딕셔너리로 읽기(ch09_member3.csv)\n",
    "with open('data/ch09_member3.csv', 'r', encoding='utf-8') as f:\n",
    "    dict_reader = csv.DictReader(f, restval=\"없음\")\n",
    "    for row in dict_reader:\n",
    "        print(row)"
   ]
  },
  {
   "cell_type": "code",
   "execution_count": 14,
   "id": "6cf52bd0",
   "metadata": {},
   "outputs": [
    {
     "data": {
      "text/html": [
       "<div>\n",
       "<style scoped>\n",
       "    .dataframe tbody tr th:only-of-type {\n",
       "        vertical-align: middle;\n",
       "    }\n",
       "\n",
       "    .dataframe tbody tr th {\n",
       "        vertical-align: top;\n",
       "    }\n",
       "\n",
       "    .dataframe thead th {\n",
       "        text-align: right;\n",
       "    }\n",
       "</style>\n",
       "<table border=\"1\" class=\"dataframe\">\n",
       "  <thead>\n",
       "    <tr style=\"text-align: right;\">\n",
       "      <th></th>\n",
       "      <th>name</th>\n",
       "      <th>age</th>\n",
       "      <th>email</th>\n",
       "      <th>address</th>\n",
       "      <th>job</th>\n",
       "    </tr>\n",
       "  </thead>\n",
       "  <tbody>\n",
       "    <tr>\n",
       "      <th>0</th>\n",
       "      <td>홍길동</td>\n",
       "      <td>20</td>\n",
       "      <td>h@h.com</td>\n",
       "      <td>서울시 관악구</td>\n",
       "      <td>NaN</td>\n",
       "    </tr>\n",
       "    <tr>\n",
       "      <th>1</th>\n",
       "      <td>신길동</td>\n",
       "      <td>40</td>\n",
       "      <td>s@h.com</td>\n",
       "      <td>서울시 영등포구</td>\n",
       "      <td>팀장</td>\n",
       "    </tr>\n",
       "    <tr>\n",
       "      <th>2</th>\n",
       "      <td>김길동</td>\n",
       "      <td>30</td>\n",
       "      <td>k@h.com</td>\n",
       "      <td>서울시 동작구</td>\n",
       "      <td>NaN</td>\n",
       "    </tr>\n",
       "  </tbody>\n",
       "</table>\n",
       "</div>"
      ],
      "text/plain": [
       "  name  age    email   address  job\n",
       "0  홍길동   20  h@h.com   서울시 관악구  NaN\n",
       "1  신길동   40  s@h.com  서울시 영등포구   팀장\n",
       "2  김길동   30  k@h.com   서울시 동작구  NaN"
      ]
     },
     "execution_count": 14,
     "metadata": {},
     "output_type": "execute_result"
    }
   ],
   "source": [
    "# csv파일을 데이터프레임 데이터로 읽기\n",
    "import pandas as pd\n",
    "members = pd.read_csv('data/ch09_member3.csv') # 기본 인코딩 방식이 encoding\n",
    "members"
   ]
  },
  {
   "cell_type": "code",
   "execution_count": 15,
   "id": "d29ed551",
   "metadata": {},
   "outputs": [
    {
     "data": {
      "text/html": [
       "<div>\n",
       "<style scoped>\n",
       "    .dataframe tbody tr th:only-of-type {\n",
       "        vertical-align: middle;\n",
       "    }\n",
       "\n",
       "    .dataframe tbody tr th {\n",
       "        vertical-align: top;\n",
       "    }\n",
       "\n",
       "    .dataframe thead th {\n",
       "        text-align: right;\n",
       "    }\n",
       "</style>\n",
       "<table border=\"1\" class=\"dataframe\">\n",
       "  <thead>\n",
       "    <tr style=\"text-align: right;\">\n",
       "      <th></th>\n",
       "      <th>0</th>\n",
       "      <th>1</th>\n",
       "      <th>2</th>\n",
       "      <th>3</th>\n",
       "    </tr>\n",
       "  </thead>\n",
       "  <tbody>\n",
       "    <tr>\n",
       "      <th>0</th>\n",
       "      <td>홍길동</td>\n",
       "      <td>20</td>\n",
       "      <td>kildong@hong.com</td>\n",
       "      <td>서울시 관악구</td>\n",
       "    </tr>\n",
       "    <tr>\n",
       "      <th>1</th>\n",
       "      <td>김길동</td>\n",
       "      <td>40</td>\n",
       "      <td>kimdong@hong.com</td>\n",
       "      <td>서울시 영등포구</td>\n",
       "    </tr>\n",
       "    <tr>\n",
       "      <th>2</th>\n",
       "      <td>신길동</td>\n",
       "      <td>30</td>\n",
       "      <td>sindong@hong.com</td>\n",
       "      <td>서울시 동작구</td>\n",
       "    </tr>\n",
       "  </tbody>\n",
       "</table>\n",
       "</div>"
      ],
      "text/plain": [
       "     0   1                 2         3\n",
       "0  홍길동  20  kildong@hong.com   서울시 관악구\n",
       "1  김길동  40  kimdong@hong.com  서울시 영등포구\n",
       "2  신길동  30  sindong@hong.com   서울시 동작구"
      ]
     },
     "execution_count": 15,
     "metadata": {},
     "output_type": "execute_result"
    }
   ],
   "source": [
    "pd.DataFrame(data=result)"
   ]
  },
  {
   "cell_type": "code",
   "execution_count": 16,
   "id": "83338e8f",
   "metadata": {},
   "outputs": [
    {
     "name": "stdout",
     "output_type": "stream",
     "text": [
      "{'Name': '홍길동', 'Age': '20', 'Email': 'kildong@hong.com', 'Address': '서울시 관악구', 'Job': ''}\n",
      "{'Name': '김길동', 'Age': '40', 'Email': 'kimdong@hong.com', 'Address': '서울시 영등포구', 'Job': '팀장'}\n",
      "{'Name': '신길동', 'Age': '30', 'Email': 'sindong@hong.com', 'Address': '서울시 동작구', 'Job': ''}\n"
     ]
    }
   ],
   "source": [
    "# header가 없는 csv파일을 딕셔너리 데이터로 읽기(ch09_member1-cp.csv)\n",
    "with open('data/ch09_member1-cp.csv', 'r') as f:\n",
    "    dict_reader = csv.DictReader(f, fieldnames=['Name', 'Age', 'Email', 'Address', 'Job'])\n",
    "    for row in dict_reader:\n",
    "        print(row)"
   ]
  },
  {
   "cell_type": "code",
   "execution_count": 18,
   "id": "fb58d4de",
   "metadata": {},
   "outputs": [
    {
     "name": "stdout",
     "output_type": "stream",
     "text": [
      "{'Name': '홍길동', 'Age': '20', 'Email': 'kildong@hong.com', 'Address': '서울시 관악구', 'Job': ['']}\n",
      "{'Name': '김길동', 'Age': '40', 'Email': 'kimdong@hong.com', 'Address': '서울시 영등포구', 'Job': ['팀장']}\n",
      "{'Name': '신길동', 'Age': '30', 'Email': 'sindong@hong.com', 'Address': '서울시 동작구', 'Job': ['']}\n"
     ]
    }
   ],
   "source": [
    "# header가 없는 csv파일을 딕셔너리 데이터로 읽기(ch09_member1-cp.csv)\n",
    "with open('data/ch09_member1-cp.csv', 'r') as f:\n",
    "    dict_reader = csv.DictReader(f, fieldnames=['Name', 'Age', 'Email', 'Address'],\n",
    "                                restkey='Job')\n",
    "    for row in dict_reader:\n",
    "        print(row)"
   ]
  },
  {
   "cell_type": "markdown",
   "id": "9130f65c",
   "metadata": {},
   "source": [
    "## 3.4 DictWriter\n",
    "- 딕셔너리 데이터(딕셔너리 list)를 csv파일로 쓰기"
   ]
  },
  {
   "cell_type": "code",
   "execution_count": 26,
   "id": "b9f42d72",
   "metadata": {},
   "outputs": [
    {
     "data": {
      "text/plain": [
       "[{'name': '신길동', 'age': '30', 'email': 's@s.com', 'address': '서울'},\n",
       " {'name': '김길동', 'age': '20', 'email': 'a@s.com', 'address': '수원'},\n",
       " {'name': '홍길동', 'age': '10', 'email': 'd@s.com', 'address': '부산'}]"
      ]
     },
     "execution_count": 26,
     "metadata": {},
     "output_type": "execute_result"
    }
   ],
   "source": [
    "user1 = {'name':'신길동', 'age':'30', 'email':'s@s.com', 'address':'서울'}\n",
    "user2 = {'name':'김길동', 'age':'20', 'email':'a@s.com', 'address':'수원'}\n",
    "user3 = {'name':'홍길동', 'age':'10', 'email':'d@s.com', 'address':'부산'}\n",
    "user_list = [user1,user2,user3]\n",
    "user_list"
   ]
  },
  {
   "cell_type": "code",
   "execution_count": 20,
   "id": "924ca2ed",
   "metadata": {},
   "outputs": [
    {
     "data": {
      "text/plain": [
       "['name', 'age', 'email', 'address']"
      ]
     },
     "execution_count": 20,
     "metadata": {},
     "output_type": "execute_result"
    }
   ],
   "source": [
    "fieldnames = list(user1.keys())\n",
    "fieldnames"
   ]
  },
  {
   "cell_type": "code",
   "execution_count": 25,
   "id": "a49f8e2a",
   "metadata": {},
   "outputs": [
    {
     "name": "stdout",
     "output_type": "stream",
     "text": [
      "[{'name': '신길동', 'age': '30', 'email': 's@s.com', 'address': '서울'}, {'name': '김길동', 'age': '20', 'email': 'a@s.com', 'address': '수원'}, {'name': '홍길동', 'age': '10', 'email': 'd@s.com', 'address': '부산'}]\n"
     ]
    }
   ],
   "source": [
    "with open('data/ch09_member4.csv', 'w', encoding='utf-8', newline='') as f:\n",
    "    dict_writer = csv.DictWriter(f, fieldnames=fieldnames)\n",
    "    dict_writer.writeheader() # header 한줄 쓰기\n",
    "    dict_writer.writerows(user_list)\n",
    "print(user_list)"
   ]
  },
  {
   "cell_type": "markdown",
   "id": "976956a2",
   "metadata": {},
   "source": [
    "# 4장 JSON 파일에 저장하고 불러오기(dump, load)\n",
    "## 4.1 JSON dump(파일에 저장)\n",
    "### 1. 딕셔너리 list를 json파일로 저장"
   ]
  },
  {
   "cell_type": "code",
   "execution_count": 7,
   "id": "f3c1ea1d",
   "metadata": {},
   "outputs": [],
   "source": [
    "data = [{'name': '신길동', 'age': '30', 'email': 's@s.com', 'address': '서울'},\n",
    " {'name': '김길동', 'age': '20', 'email': 'a@s.com', 'address': '수원'},\n",
    " {'name': '홍길동', 'age': '10', 'email': 'd@s.com', 'address': '부산'}]"
   ]
  },
  {
   "cell_type": "code",
   "execution_count": 28,
   "id": "38ece6ca",
   "metadata": {},
   "outputs": [
    {
     "data": {
      "text/plain": [
       "[{'name': '신길동', 'age': '30', 'email': 's@s.com', 'address': '서울'},\n",
       " {'name': '김길동', 'age': '20', 'email': 'a@s.com', 'address': '수원'},\n",
       " {'name': '홍길동', 'age': '10', 'email': 'd@s.com', 'address': '부산'}]"
      ]
     },
     "execution_count": 28,
     "metadata": {},
     "output_type": "execute_result"
    }
   ],
   "source": [
    "data"
   ]
  },
  {
   "cell_type": "code",
   "execution_count": 8,
   "id": "a15e2b41",
   "metadata": {},
   "outputs": [],
   "source": [
    "import json\n",
    "with open('data/ch09_member1.json', 'w') as jsonfile:\n",
    "    json.dump(data, #딕셔너리 리스트\n",
    "              jsonfile, # 파일 스트림\n",
    "              ensure_ascii=False, # 비ASCII 코드 문자 처리\n",
    "              indent=\"  \") # 들여쓰기 여부"
   ]
  },
  {
   "cell_type": "markdown",
   "id": "f517461a",
   "metadata": {},
   "source": [
    "### 2. 객체 list를 json파일로 저장(객체를 딕셔너리로 바꾸는 함수 필요)"
   ]
  },
  {
   "cell_type": "code",
   "execution_count": 3,
   "id": "70814584",
   "metadata": {},
   "outputs": [],
   "source": [
    "class Member:\n",
    "    def __init__(self, name, age, email, address):\n",
    "        self.name = name\n",
    "        self.age = age\n",
    "        self.email = email\n",
    "        self.address = address\n",
    "    def __str__(self):\n",
    "        return f\"{self.name},{self.age},{self.email},{self.address}\"\n",
    "    def __eq__(self, other):\n",
    "        return self.__str__() == other.__str__()\n",
    "    def as_dict(self):\n",
    "        '객체를 딕셔너리로 바꿔 return(json파일 저장시 필요)'\n",
    "        return self.__dict__"
   ]
  },
  {
   "cell_type": "code",
   "execution_count": 4,
   "id": "415b0810",
   "metadata": {},
   "outputs": [
    {
     "data": {
      "text/plain": [
       "['홍길동,30,s@s.com,서울', '김길동,20,a@s.com,수원', '강길동,30,h@s.com,부산']"
      ]
     },
     "execution_count": 4,
     "metadata": {},
     "output_type": "execute_result"
    }
   ],
   "source": [
    "member_list = [Member('홍길동', 30, 's@s.com', '서울'),\n",
    "              Member('김길동', 20, 'a@s.com', '수원'),\n",
    "              Member('강길동', 30, 'h@s.com', '부산')]\n",
    "[member.__str__() for member in member_list]"
   ]
  },
  {
   "cell_type": "code",
   "execution_count": 9,
   "id": "c83749ce",
   "metadata": {},
   "outputs": [],
   "source": [
    "with open('data/ch09_member2.json', 'w', encoding='utf-8') as jsonfile:\n",
    "    json.dump(member_list, # 저장할 리스트(객체 리스트)\n",
    "             jsonfile,\n",
    "             ensure_ascii=False,\n",
    "             indent='\\t',\n",
    "             default=Member.as_dict) # 객체를 딕셔너리형태로 return하는 함수"
   ]
  },
  {
   "cell_type": "markdown",
   "id": "c39b6de0",
   "metadata": {},
   "source": [
    "## 4.2 JSON load(파일 읽기)\n",
    "### (1) json파일을 딕셔너리 리스트로 읽기\n",
    "### (2) json파일을 객체 리스트로 읽기(딕셔너리를 객체로 return 하는 함수가 필요)"
   ]
  },
  {
   "cell_type": "code",
   "execution_count": 10,
   "id": "dc8f4f56",
   "metadata": {},
   "outputs": [
    {
     "data": {
      "text/plain": [
       "[{'name': '신길동', 'age': '30', 'email': 's@s.com', 'address': '서울'},\n",
       " {'name': '김길동', 'age': '20', 'email': 'a@s.com', 'address': '수원'},\n",
       " {'name': '홍길동', 'age': '10', 'email': 'd@s.com', 'address': '부산'}]"
      ]
     },
     "execution_count": 10,
     "metadata": {},
     "output_type": "execute_result"
    }
   ],
   "source": [
    "### (1) json파일을 딕셔너리 리스트로 읽기\n",
    "with open('data/ch09_member1.json', 'r') as jsonfile:\n",
    "    load_data = json.load(jsonfile)\n",
    "load_data"
   ]
  },
  {
   "cell_type": "code",
   "execution_count": 12,
   "id": "347b74d6",
   "metadata": {},
   "outputs": [],
   "source": [
    "### (2) json파일을 객체 리스트로 읽기(딕셔너리를 객체로 return 하는 함수가 필요)\n",
    "# {'name':'홍','age':3, 'email':'h@h','address':'설'} => Member('홍', 3, 'h@h','설')\n",
    "def as_member(dic):\n",
    "    return Member(dic.get('name'), dic.get('age'), dic.get('email'), dic.get('address'))"
   ]
  },
  {
   "cell_type": "code",
   "execution_count": 13,
   "id": "0c493bb7",
   "metadata": {},
   "outputs": [
    {
     "data": {
      "text/plain": [
       "[<__main__.Member at 0x1b4fff33e50>,\n",
       " <__main__.Member at 0x1b4fed6e860>,\n",
       " <__main__.Member at 0x1b4fed6ed40>]"
      ]
     },
     "execution_count": 13,
     "metadata": {},
     "output_type": "execute_result"
    }
   ],
   "source": [
    "with open('data/ch09_member2.json', 'r', encoding='utf-8') as jsonfile:\n",
    "    load_member_list = json.load(jsonfile, \n",
    "                                 object_hook=as_member) # 딕셔너리를 객체로 return 함수\n",
    "load_member_list"
   ]
  },
  {
   "cell_type": "code",
   "execution_count": 17,
   "id": "7bfc8def",
   "metadata": {},
   "outputs": [
    {
     "name": "stdout",
     "output_type": "stream",
     "text": [
      "두 객체 리스트의 모든 데이터가 일치하는지 여부 : True\n"
     ]
    }
   ],
   "source": [
    "# member_list -> ch09_member2.json -> load member_list\n",
    "# member_list와 load_member_list가 같은 내용인지 검사\n",
    "result = []\n",
    "for member, load_member in zip(member_list, load_member_list):\n",
    "    result.append(member == load_member)\n",
    "print('두 객체 리스트의 모든 데이터가 일치하는지 여부 :', all(result))"
   ]
  },
  {
   "cell_type": "code",
   "execution_count": 16,
   "id": "e53e9c74",
   "metadata": {},
   "outputs": [
    {
     "data": {
      "text/plain": [
       "(array([3, 5], dtype=int64),)"
      ]
     },
     "execution_count": 16,
     "metadata": {},
     "output_type": "execute_result"
    }
   ],
   "source": [
    "# False인 곳의 index가 궁금?\n",
    "import numpy as np\n",
    "result = np.array([True,True,True,False,True,False])\n",
    "np.where(result == False)"
   ]
  },
  {
   "cell_type": "code",
   "execution_count": 18,
   "id": "497adcbf",
   "metadata": {},
   "outputs": [
    {
     "data": {
      "text/plain": [
       "{True}"
      ]
     },
     "execution_count": 18,
     "metadata": {},
     "output_type": "execute_result"
    }
   ],
   "source": [
    "result = set() # 빈 셋 / {}:빈딕셔너리\n",
    "for member, load_member in zip(member_list, load_member_list):\n",
    "    result.add(member == load_member)\n",
    "result"
   ]
  },
  {
   "cell_type": "markdown",
   "id": "e6aed26b",
   "metadata": {},
   "source": [
    "# 5장 HDF5파일 쓰기/읽기\n",
    "- *.hdf5나 *.h5 파일을 볼 수 있는 hdfviwer를 설치\n",
    "- 딕셔너리 리스트, 데이터프레임, 딥러닝 모델"
   ]
  },
  {
   "cell_type": "code",
   "execution_count": 6,
   "id": "67a53dd6",
   "metadata": {},
   "outputs": [
    {
     "data": {
      "text/html": [
       "<div>\n",
       "<style scoped>\n",
       "    .dataframe tbody tr th:only-of-type {\n",
       "        vertical-align: middle;\n",
       "    }\n",
       "\n",
       "    .dataframe tbody tr th {\n",
       "        vertical-align: top;\n",
       "    }\n",
       "\n",
       "    .dataframe thead th {\n",
       "        text-align: right;\n",
       "    }\n",
       "</style>\n",
       "<table border=\"1\" class=\"dataframe\">\n",
       "  <thead>\n",
       "    <tr style=\"text-align: right;\">\n",
       "      <th></th>\n",
       "      <th>sepal_length</th>\n",
       "      <th>sepal_width</th>\n",
       "      <th>petal_length</th>\n",
       "      <th>petal_width</th>\n",
       "      <th>species</th>\n",
       "    </tr>\n",
       "  </thead>\n",
       "  <tbody>\n",
       "    <tr>\n",
       "      <th>0</th>\n",
       "      <td>5.1</td>\n",
       "      <td>3.5</td>\n",
       "      <td>1.4</td>\n",
       "      <td>0.2</td>\n",
       "      <td>setosa</td>\n",
       "    </tr>\n",
       "    <tr>\n",
       "      <th>1</th>\n",
       "      <td>4.9</td>\n",
       "      <td>3.0</td>\n",
       "      <td>1.4</td>\n",
       "      <td>0.2</td>\n",
       "      <td>setosa</td>\n",
       "    </tr>\n",
       "    <tr>\n",
       "      <th>2</th>\n",
       "      <td>4.7</td>\n",
       "      <td>3.2</td>\n",
       "      <td>1.3</td>\n",
       "      <td>0.2</td>\n",
       "      <td>setosa</td>\n",
       "    </tr>\n",
       "    <tr>\n",
       "      <th>3</th>\n",
       "      <td>4.6</td>\n",
       "      <td>3.1</td>\n",
       "      <td>1.5</td>\n",
       "      <td>0.2</td>\n",
       "      <td>setosa</td>\n",
       "    </tr>\n",
       "    <tr>\n",
       "      <th>4</th>\n",
       "      <td>5.0</td>\n",
       "      <td>3.6</td>\n",
       "      <td>1.4</td>\n",
       "      <td>0.2</td>\n",
       "      <td>setosa</td>\n",
       "    </tr>\n",
       "    <tr>\n",
       "      <th>...</th>\n",
       "      <td>...</td>\n",
       "      <td>...</td>\n",
       "      <td>...</td>\n",
       "      <td>...</td>\n",
       "      <td>...</td>\n",
       "    </tr>\n",
       "    <tr>\n",
       "      <th>145</th>\n",
       "      <td>6.7</td>\n",
       "      <td>3.0</td>\n",
       "      <td>5.2</td>\n",
       "      <td>2.3</td>\n",
       "      <td>virginica</td>\n",
       "    </tr>\n",
       "    <tr>\n",
       "      <th>146</th>\n",
       "      <td>6.3</td>\n",
       "      <td>2.5</td>\n",
       "      <td>5.0</td>\n",
       "      <td>1.9</td>\n",
       "      <td>virginica</td>\n",
       "    </tr>\n",
       "    <tr>\n",
       "      <th>147</th>\n",
       "      <td>6.5</td>\n",
       "      <td>3.0</td>\n",
       "      <td>5.2</td>\n",
       "      <td>2.0</td>\n",
       "      <td>virginica</td>\n",
       "    </tr>\n",
       "    <tr>\n",
       "      <th>148</th>\n",
       "      <td>6.2</td>\n",
       "      <td>3.4</td>\n",
       "      <td>5.4</td>\n",
       "      <td>2.3</td>\n",
       "      <td>virginica</td>\n",
       "    </tr>\n",
       "    <tr>\n",
       "      <th>149</th>\n",
       "      <td>5.9</td>\n",
       "      <td>3.0</td>\n",
       "      <td>5.1</td>\n",
       "      <td>1.8</td>\n",
       "      <td>virginica</td>\n",
       "    </tr>\n",
       "  </tbody>\n",
       "</table>\n",
       "<p>150 rows × 5 columns</p>\n",
       "</div>"
      ],
      "text/plain": [
       "     sepal_length  sepal_width  petal_length  petal_width    species\n",
       "0             5.1          3.5           1.4          0.2     setosa\n",
       "1             4.9          3.0           1.4          0.2     setosa\n",
       "2             4.7          3.2           1.3          0.2     setosa\n",
       "3             4.6          3.1           1.5          0.2     setosa\n",
       "4             5.0          3.6           1.4          0.2     setosa\n",
       "..            ...          ...           ...          ...        ...\n",
       "145           6.7          3.0           5.2          2.3  virginica\n",
       "146           6.3          2.5           5.0          1.9  virginica\n",
       "147           6.5          3.0           5.2          2.0  virginica\n",
       "148           6.2          3.4           5.4          2.3  virginica\n",
       "149           5.9          3.0           5.1          1.8  virginica\n",
       "\n",
       "[150 rows x 5 columns]"
      ]
     },
     "metadata": {},
     "output_type": "display_data"
    }
   ],
   "source": [
    "# seaborn : 파이썬에서 데이터 시각화를 도와주는 라이브러리로 자주 쓰이는 데이터 셋\n",
    "import seaborn as sns\n",
    "iris_df = sns.load_dataset(\"iris\")\n",
    "display(iris_df)"
   ]
  },
  {
   "cell_type": "code",
   "execution_count": 7,
   "id": "ee26959f",
   "metadata": {},
   "outputs": [],
   "source": [
    "# 데이터 프레임을 hdf파일로 쓰기\n",
    "iris_df.to_hdf('data/ch09_irisdf.hdf5', key='iris')"
   ]
  },
  {
   "cell_type": "code",
   "execution_count": 12,
   "id": "24dec6c8",
   "metadata": {},
   "outputs": [
    {
     "data": {
      "text/html": [
       "<div>\n",
       "<style scoped>\n",
       "    .dataframe tbody tr th:only-of-type {\n",
       "        vertical-align: middle;\n",
       "    }\n",
       "\n",
       "    .dataframe tbody tr th {\n",
       "        vertical-align: top;\n",
       "    }\n",
       "\n",
       "    .dataframe thead th {\n",
       "        text-align: right;\n",
       "    }\n",
       "</style>\n",
       "<table border=\"1\" class=\"dataframe\">\n",
       "  <thead>\n",
       "    <tr style=\"text-align: right;\">\n",
       "      <th></th>\n",
       "      <th>sepal_length</th>\n",
       "      <th>sepal_width</th>\n",
       "      <th>petal_length</th>\n",
       "      <th>petal_width</th>\n",
       "      <th>species</th>\n",
       "    </tr>\n",
       "  </thead>\n",
       "  <tbody>\n",
       "    <tr>\n",
       "      <th>0</th>\n",
       "      <td>5.1</td>\n",
       "      <td>3.5</td>\n",
       "      <td>1.4</td>\n",
       "      <td>0.2</td>\n",
       "      <td>setosa</td>\n",
       "    </tr>\n",
       "    <tr>\n",
       "      <th>1</th>\n",
       "      <td>4.9</td>\n",
       "      <td>3.0</td>\n",
       "      <td>1.4</td>\n",
       "      <td>0.2</td>\n",
       "      <td>setosa</td>\n",
       "    </tr>\n",
       "    <tr>\n",
       "      <th>2</th>\n",
       "      <td>4.7</td>\n",
       "      <td>3.2</td>\n",
       "      <td>1.3</td>\n",
       "      <td>0.2</td>\n",
       "      <td>setosa</td>\n",
       "    </tr>\n",
       "    <tr>\n",
       "      <th>3</th>\n",
       "      <td>4.6</td>\n",
       "      <td>3.1</td>\n",
       "      <td>1.5</td>\n",
       "      <td>0.2</td>\n",
       "      <td>setosa</td>\n",
       "    </tr>\n",
       "    <tr>\n",
       "      <th>4</th>\n",
       "      <td>5.0</td>\n",
       "      <td>3.6</td>\n",
       "      <td>1.4</td>\n",
       "      <td>0.2</td>\n",
       "      <td>setosa</td>\n",
       "    </tr>\n",
       "    <tr>\n",
       "      <th>...</th>\n",
       "      <td>...</td>\n",
       "      <td>...</td>\n",
       "      <td>...</td>\n",
       "      <td>...</td>\n",
       "      <td>...</td>\n",
       "    </tr>\n",
       "    <tr>\n",
       "      <th>145</th>\n",
       "      <td>6.7</td>\n",
       "      <td>3.0</td>\n",
       "      <td>5.2</td>\n",
       "      <td>2.3</td>\n",
       "      <td>virginica</td>\n",
       "    </tr>\n",
       "    <tr>\n",
       "      <th>146</th>\n",
       "      <td>6.3</td>\n",
       "      <td>2.5</td>\n",
       "      <td>5.0</td>\n",
       "      <td>1.9</td>\n",
       "      <td>virginica</td>\n",
       "    </tr>\n",
       "    <tr>\n",
       "      <th>147</th>\n",
       "      <td>6.5</td>\n",
       "      <td>3.0</td>\n",
       "      <td>5.2</td>\n",
       "      <td>2.0</td>\n",
       "      <td>virginica</td>\n",
       "    </tr>\n",
       "    <tr>\n",
       "      <th>148</th>\n",
       "      <td>6.2</td>\n",
       "      <td>3.4</td>\n",
       "      <td>5.4</td>\n",
       "      <td>2.3</td>\n",
       "      <td>virginica</td>\n",
       "    </tr>\n",
       "    <tr>\n",
       "      <th>149</th>\n",
       "      <td>5.9</td>\n",
       "      <td>3.0</td>\n",
       "      <td>5.1</td>\n",
       "      <td>1.8</td>\n",
       "      <td>virginica</td>\n",
       "    </tr>\n",
       "  </tbody>\n",
       "</table>\n",
       "<p>150 rows × 5 columns</p>\n",
       "</div>"
      ],
      "text/plain": [
       "     sepal_length  sepal_width  petal_length  petal_width    species\n",
       "0             5.1          3.5           1.4          0.2     setosa\n",
       "1             4.9          3.0           1.4          0.2     setosa\n",
       "2             4.7          3.2           1.3          0.2     setosa\n",
       "3             4.6          3.1           1.5          0.2     setosa\n",
       "4             5.0          3.6           1.4          0.2     setosa\n",
       "..            ...          ...           ...          ...        ...\n",
       "145           6.7          3.0           5.2          2.3  virginica\n",
       "146           6.3          2.5           5.0          1.9  virginica\n",
       "147           6.5          3.0           5.2          2.0  virginica\n",
       "148           6.2          3.4           5.4          2.3  virginica\n",
       "149           5.9          3.0           5.1          1.8  virginica\n",
       "\n",
       "[150 rows x 5 columns]"
      ]
     },
     "execution_count": 12,
     "metadata": {},
     "output_type": "execute_result"
    }
   ],
   "source": [
    "# hdf파일을 데이터프레임으로 읽어오기\n",
    "import pandas as pd\n",
    "load_iris_df = pd.read_hdf('data/ch09_irisdf.hdf5', key='iris')\n",
    "load_iris_df"
   ]
  },
  {
   "cell_type": "code",
   "execution_count": 13,
   "id": "7f81b429",
   "metadata": {},
   "outputs": [
    {
     "data": {
      "text/plain": [
       "True"
      ]
     },
     "execution_count": 13,
     "metadata": {},
     "output_type": "execute_result"
    }
   ],
   "source": [
    "# 두 데이터프레임이 같은지 여부\n",
    "iris_df.equals(load_iris_df)"
   ]
  },
  {
   "cell_type": "markdown",
   "id": "33a7c42e",
   "metadata": {},
   "source": [
    "# 6장 연습문제 : 고객관리"
   ]
  },
  {
   "cell_type": "code",
   "execution_count": 1,
   "id": "4646ca79",
   "metadata": {},
   "outputs": [],
   "source": [
    "class Customer:\n",
    "    '고객 데이터'\n",
    "    def __init__(self, name, phone, email, age, grade, etc):\n",
    "        self.name = name\n",
    "        self.phone = phone\n",
    "        self.email = email\n",
    "        self.age = age\n",
    "        self.grade = grade\n",
    "        self.etc = etc\n",
    "    def as_dic(self):\n",
    "        return self.__dict__\n",
    "    def to_txt_style(self):\n",
    "        return f\"{self.name}, {self.phone}, {self.email}, {self.age}, {self.grade}, {self.etc}\"\n",
    "    def __str__(self):\n",
    "        return \"{:>5}\\t{}\\t{}\\t{}\\t{}\\t{}\".format('*'*self.grade,\n",
    "                                                    self.name,\n",
    "                                                    self.phone,\n",
    "                                                    self.email,\n",
    "                                                    self.age,\n",
    "                                                    self.etc)\n",
    "    \n",
    "def to_customer(text):\n",
    "    'txt 파일 내용 한줄(홍길동, 010-8999-9999, e@e.com, 20, 3, 까칠해)을 Customer 객체로 반환'\n",
    "    data = text.strip().split(', ')\n",
    "    name = data[0]\n",
    "    phone = data[1]\n",
    "    email = data[2]\n",
    "    age = int(data[3])\n",
    "    grade = int(data[4])\n",
    "    etc = data[5]\n",
    "    return Customer(name, phone, email, age, grade, etc)\n",
    "\n",
    "def load_customers():\n",
    "    customer_list = []\n",
    "    try:\n",
    "        with open('data/ch09_customers.txt', 'r', encoding='utf-8') as f:\n",
    "#             line=f.readline()\n",
    "#             while line != '':\n",
    "#                 customer = to_customer(line)\n",
    "#                 customer_list.append(customer)\n",
    "#                 line = f.readline()\n",
    "            lines = f.readlines()\n",
    "        for line in lines:\n",
    "            customer = to_customer(line)\n",
    "            customer_list.append(customer)\n",
    "            \n",
    "    except FileNotFoundError as e:\n",
    "        with open('data/ch09_customers.txt', 'w', encoding='utf-8') as f:\n",
    "            f.write('')\n",
    "    return customer_list"
   ]
  },
  {
   "cell_type": "code",
   "execution_count": 2,
   "id": "881f95c0",
   "metadata": {},
   "outputs": [],
   "source": [
    "def fn1_insert_customer_info():\n",
    "    import re\n",
    "    name = input('이름 :')\n",
    "    name_pattern = r'[가-힣]{2,}'\n",
    "    while not re.search(name_pattern, name):\n",
    "        print('이름을 제대로 입력하세요(한글 2글자 이상)')\n",
    "        name = input('이름 :')\n",
    "    phone = input('전화 :')\n",
    "    phone_pattern = r'\\d{2,3}[ \\-\\.)]?\\d{3,4}[ \\-\\.]?\\d{4}'\n",
    "    while not re.search(phone_pattern, phone):\n",
    "        print('전화번호를 제대로 입력하세요(9자 이상)')\n",
    "        phone = input('전화 :')\n",
    "    email = input('메일 :')\n",
    "    while True:\n",
    "        try:\n",
    "            age = int(input('나이 :'))\n",
    "            if (age<0) or (age>130) :\n",
    "                raise Exception('나이 범위 이상')\n",
    "            break \n",
    "        except:\n",
    "            print('올바른 나이를 입력하세요')\n",
    "    try:\n",
    "        grade = int(input('등급(1~5) : '))\n",
    "        # grade = 1 if grade < 1 else 5 if grade>5 else grade\n",
    "        if grade < 1:\n",
    "            grade = 1\n",
    "        if grade > 5:\n",
    "            grade = 5\n",
    "    except:\n",
    "        print('유효하지 않은 등급 입력시 1등급으로 초기화')\n",
    "        grade = 1\n",
    "    etc = input('기타 정보 :')\n",
    "    return Customer(name, phone, email, age, grade, etc)"
   ]
  },
  {
   "cell_type": "code",
   "execution_count": 3,
   "id": "18dda475",
   "metadata": {},
   "outputs": [],
   "source": [
    "def fn2_print_customers(customer_list):\n",
    "    'customer_list 출력'\n",
    "    print('='*70)\n",
    "    print('{:^70}'.format('고객 정보'))\n",
    "    print('='*70)\n",
    "    print(\"{:>5}\\t{:^3}\\t{:^13}\\t{:^10}\\t{}\\t{}\".format('grade','이름','전화','메일','나이','기타') )\n",
    "    print('-'*70)\n",
    "    for customer in customer_list:\n",
    "        print(customer)"
   ]
  },
  {
   "cell_type": "code",
   "execution_count": 4,
   "id": "b93f7336",
   "metadata": {},
   "outputs": [],
   "source": [
    "def fn3_delete_customer(customer_list):\n",
    "    '''삭제하고자 하는 고객이름을 input으로 받아\n",
    "    매개변수로 들어온 customer_list에서 삭제하고 \"삭제했음/삭제못했음\"을 메세지로 출력'''\n",
    "    delete_name = input('삭제할 고객 이름은?')\n",
    "    delete_idx = [] # 삭제할 인덱스를 저장하는 용도\n",
    "    count = 0\n",
    "    for idx, customer in enumerate(customer_list):\n",
    "        if customer.name == delete_name:\n",
    "            delete_idx.append(idx)\n",
    "    print(delete_idx)\n",
    "    if delete_idx:\n",
    "        for idx in delete_idx[::-1]: # [1,0]\n",
    "            print(customer_list[idx], '를 지우겠습니까(Y/N)?', end='')\n",
    "            answer = input()\n",
    "            if answer.lower() == 'y':\n",
    "                count += 1\n",
    "                customer_list.remove(customer_list[idx])\n",
    "        print('{}님 {}명 삭제하였습니다'.format(delete_name, count))\n",
    "    else:\n",
    "        print('{}님 데이터가 존재하지 않습니다'.format(delete_name))"
   ]
  },
  {
   "cell_type": "code",
   "execution_count": 5,
   "id": "4d4f6862",
   "metadata": {},
   "outputs": [],
   "source": [
    "def fn4_search_customer(customer_list):\n",
    "    name = input('검색할 이름은?')\n",
    "    search_list = []\n",
    "    for customer in customer_list:\n",
    "        if customer.name == name:\n",
    "            search_list.append(customer)\n",
    "    if search_list:\n",
    "        fn2_print_customers(search_list)\n",
    "    else:\n",
    "        print(f\"{name}님 데이터는 존재하지 않습니다\")"
   ]
  },
  {
   "cell_type": "code",
   "execution_count": 6,
   "id": "d0418a69",
   "metadata": {},
   "outputs": [],
   "source": [
    "def fn5_save_customer_csv(customer_list):\n",
    "    '매개변수로 받은 customer_list를 딕셔너리리스트로 변환하여 csv출력'\n",
    "    import csv\n",
    "    if customer_list:\n",
    "        customer_dict_list = []\n",
    "        for customer in customer_list:\n",
    "            customer_dict_list.append(customer.__dict__)\n",
    "        fieldnames = list(customer_dict_list[0].keys())\n",
    "        filename = input('저장할 csv파일명은(확장자제외)?')\n",
    "        with open('data/{}.csv'.format(filename), 'w', encoding='UTF-8', newline='') as f:\n",
    "            dict_writer = csv.DictWriter(f, fieldnames=fieldnames)\n",
    "            dict_writer.writeheader() # 해더 쓰기\n",
    "            dict_writer.writerows(customer_dict_list) # 데이터 쓰기\n",
    "            print(f'data/{filename}.csv 내보내기 완료')\n",
    "    else:\n",
    "        print('입력된 회원 데이터가 없어서 csv 내보내기를 취소합니다')"
   ]
  },
  {
   "cell_type": "code",
   "execution_count": 13,
   "id": "0dae238a",
   "metadata": {},
   "outputs": [],
   "source": [
    "def fn9_save_customer_txt(customer_list):\n",
    "    'customer_list의 내용을 data/ch09_customers.txt에 저장'\n",
    "    customer_text_list = []\n",
    "    for customer in customer_list:\n",
    "        customer_text_list.append(customer.to_txt_style()+\"\\n\")\n",
    "    with open('data/ch09_customers.txt', 'w', encoding='UTF-8') as f:\n",
    "        f.writelines(customer_text_list)\n",
    "    end_echo = input(\"종료하시겠습니까? Y/N\")\n",
    "    if end_echo.lower() == 'y':\n",
    "        print(\"종료하겠습니다\")\n",
    "    else:\n",
    "        if __name__ == '__main__':\n",
    "            main()"
   ]
  },
  {
   "cell_type": "code",
   "execution_count": 15,
   "id": "3ce52902",
   "metadata": {},
   "outputs": [
    {
     "name": "stdout",
     "output_type": "stream",
     "text": [
      "1:입력 | 2:전체출력 | 3:삭제 | 4:이름찾기 | 5:내보내기(CSV) | 9:종료 메뉴선택 : 9\n",
      "종료하시겠습니까? Y/Nㅜ\n",
      "1:입력 | 2:전체출력 | 3:삭제 | 4:이름찾기 | 5:내보내기(CSV) | 9:종료 메뉴선택 : 9\n",
      "종료하시겠습니까? Y/Nn\n",
      "1:입력 | 2:전체출력 | 3:삭제 | 4:이름찾기 | 5:내보내기(CSV) | 9:종료 메뉴선택 : 9\n",
      "종료하시겠습니까? Y/NN\n",
      "1:입력 | 2:전체출력 | 3:삭제 | 4:이름찾기 | 5:내보내기(CSV) | 9:종료 메뉴선택 : 9\n",
      "종료하시겠습니까? Y/Ny\n",
      "종료하겠습니다\n"
     ]
    }
   ],
   "source": [
    "def main():\n",
    "    global customer_list\n",
    "    customer_list = load_customers() # ch09_customers.txt의 내용을 load\n",
    "    while True:\n",
    "        print(\"1:입력\",\"2:전체출력\",\"3:삭제\",\"4:이름찾기\",\"5:내보내기(CSV)\", \"9:종료\", \n",
    "              sep=' | ', end=' ')\n",
    "        fn = int(input('메뉴선택 : '))\n",
    "        if fn == 1:\n",
    "            customer = fn1_insert_customer_info() # 입력받은 내용으로 customer객체를 반환\n",
    "            customer_list.append(customer)\n",
    "        elif fn == 2:\n",
    "            fn2_print_customers(customer_list) # 전체 customer_list 출력\n",
    "        elif fn == 3:\n",
    "            fn3_delete_customer(customer_list) # goekd\n",
    "        elif fn == 4:\n",
    "            fn4_search_customer(customer_list)\n",
    "        elif fn == 5:\n",
    "            fn5_save_customer_csv(customer_list)\n",
    "        elif fn == 9:\n",
    "            fn9_save_customer_txt(customer_list)\n",
    "            break\n",
    "if __name__ == '__main__':\n",
    "    main()"
   ]
  },
  {
   "cell_type": "code",
   "execution_count": null,
   "id": "16a359e4",
   "metadata": {},
   "outputs": [],
   "source": [
    "# 연습문제(문제풀이형)\n",
    "1. 3\n",
    "2. 4\n",
    "3. 1"
   ]
  }
 ],
 "metadata": {
  "kernelspec": {
   "display_name": "Python 3 (ipykernel)",
   "language": "python",
   "name": "python3"
  },
  "language_info": {
   "codemirror_mode": {
    "name": "ipython",
    "version": 3
   },
   "file_extension": ".py",
   "mimetype": "text/x-python",
   "name": "python",
   "nbconvert_exporter": "python",
   "pygments_lexer": "ipython3",
   "version": "3.10.9"
  },
  "toc": {
   "base_numbering": 1,
   "nav_menu": {},
   "number_sections": false,
   "sideBar": true,
   "skip_h1_title": false,
   "title_cell": "Table of Contents",
   "title_sidebar": "Contents",
   "toc_cell": false,
   "toc_position": {
    "height": "calc(100% - 180px)",
    "left": "10px",
    "top": "150px",
    "width": "261.6px"
   },
   "toc_section_display": true,
   "toc_window_display": true
  }
 },
 "nbformat": 4,
 "nbformat_minor": 5
}
